{
 "cells": [
  {
   "cell_type": "markdown",
   "metadata": {},
   "source": [
    "## Проект: «Лаборатории исследований гражданского общества». Государственные деньги у НКО"
   ]
  },
  {
   "cell_type": "markdown",
   "metadata": {},
   "source": [
    "В нашем распоряжении есть дамп данных обо всех НКО России, в котором содержится информация о получении государственных грантов,госконтрактов и субсидий, регионе и дате регистрации, а также ОКВЭД (классификатор экономической деятельности).\n",
    "НКО хотят повысить свои шансы на получение гранта. Для этого им важно понять, что именно может повлиять на это.\n",
    "Наша цель — спрогнозировать вероятность получения грантов от государства/госконтрактов для организации в зависимости от её характеристик.\n",
    "\n",
    "### Задача:\n",
    "проверить, есть ли зависимость вероятности получения\n",
    "грантов от государства/госконтрактов:\n",
    "1. от региона регистрации организации;\n",
    "2. от возраста организации;\n",
    "3. от экономической деятельности организации.\n",
    "\n",
    "4. Предсказать вероятность получения грантов от государства/госконтрактов для новых организаций.\n",
    "\n"
   ]
  },
  {
   "cell_type": "markdown",
   "metadata": {},
   "source": [
    "Импортируем необходимые библиотеки:"
   ]
  },
  {
   "cell_type": "code",
   "execution_count": 326,
   "metadata": {},
   "outputs": [],
   "source": [
    "import pandas as pd\n",
    "import numpy as np\n",
    "import matplotlib.pyplot as plt\n",
    "import seaborn as sns\n",
    "import json\n",
    "from pandas import json_normalize\n",
    "from datetime import datetime\n",
    "import pytz\n",
    "import seaborn as sns\n",
    "import matplotlib.pyplot as plt\n",
    "import plotly.express as px\n",
    "import scipy.stats as stats\n",
    "from scipy.stats import chi2_contingency\n",
    "from sklearn import model_selection #методы разделения и валидации\n",
    "from sklearn.preprocessing  import LabelEncoder\n",
    "import plotly.express as px\n",
    "from sklearn import linear_model \n",
    "from sklearn import tree \n",
    "from sklearn import ensemble \n",
    "from sklearn import metrics \n",
    "from sklearn import preprocessing \n",
    "from sklearn.model_selection import GridSearchCV\n",
    "import pickle\n",
    "from sklearn.base import TransformerMixin, BaseEstimator\n",
    "from sklearn.pipeline import Pipeline"
   ]
  },
  {
   "cell_type": "markdown",
   "metadata": {},
   "source": [
    "## Знакомство с данными"
   ]
  },
  {
   "cell_type": "markdown",
   "metadata": {},
   "source": [
    "Десериализуем данные:"
   ]
  },
  {
   "cell_type": "code",
   "execution_count": 185,
   "metadata": {},
   "outputs": [
    {
     "name": "stdout",
     "output_type": "stream",
     "text": [
      "Read file:data/ngo_dump_01.json\n",
      "Read file:data/ngo_dump_02.json\n",
      "Read file:data/ngo_dump_03.json\n",
      "Read file:data/ngo_dump_04.json\n",
      "Read file:data/ngo_dump_05.json\n",
      "Read file:data/ngo_dump_06.json\n",
      "Read file:data/ngo_dump_07.json\n",
      "Read file:data/ngo_dump_08.json\n",
      "Read file:data/ngo_dump_09.json\n",
      "Read file:data/ngo_dump_10.json\n",
      "Read file:data/ngo_dump_11.json\n",
      "Read file:data/ngo_dump_12.json\n",
      "Read file:data/ngo_dump_13.json\n",
      "Read file:data/ngo_dump_14.json\n",
      "Read file:data/ngo_dump_15.json\n",
      "Df created. Strings quantity:747034\n",
      "  minjustRegNum       regionName  logo  \\\n",
      "0    7814061218  Санкт-Петербург  None   \n",
      "1    7714017452           Москва  None   \n",
      "2    7814170160  Санкт-Петербург  None   \n",
      "3          None           Москва  None   \n",
      "4    7814052913  Санкт-Петербург  None   \n",
      "\n",
      "                                            fullName  dateReg  \\\n",
      "0  МЕЖРЕГИОНАЛЬНАЯ АНТРОПОСОФСКАЯ МЕДИЦИНСКАЯ АСС...      NaN   \n",
      "1  ФОНД \"СОДЕЙСТВИЕ ДУХОВНОМУ РАЗВИТИЮ ЧЕЛОВЕКА \"...      NaN   \n",
      "2  КОЛЛЕГИЯ АДВОКАТОВ \"САНКТ-ПЕТЕРБУРГСКАЯ КОЛЛЕГ...      NaN   \n",
      "3  ТОВАРИЩЕСТВО СОБСТВЕННИКОВ НЕДВИЖИМОСТИ \"ЛУГИН...      NaN   \n",
      "4  АВТОНОМНАЯ НЕКОММЕРЧЕСКАЯ ОРГАНИЗАЦИЯ \"ЦЕНТР С...      NaN   \n",
      "\n",
      "                                      minjustForm charter     minjustStatus  \\\n",
      "0  Объединения (союз, ассоциация) юридических лиц    None  Зарегистрирована   \n",
      "1                             Некоммерческий фонд    None  Зарегистрирована   \n",
      "2                              Коллегия адвокатов    None  Зарегистрирована   \n",
      "3                                            None    None              None   \n",
      "4           Автономная некоммерческая организация    None  Зарегистрирована   \n",
      "\n",
      "            ogrn egrulStatus  ... incomeDetail.fedSubsidies.2012.sum  \\\n",
      "0  1207800141790   Действует  ...                                NaN   \n",
      "1  1207700349152   Действует  ...                                NaN   \n",
      "2  1207800011430   Действует  ...                                NaN   \n",
      "3  1207700348976   Действует  ...                                NaN   \n",
      "4  1207800081500   Действует  ...                                NaN   \n",
      "\n",
      "   incomeDetail.fedSubsidies.2012.count incomeDetail.contracts223.2004.sum  \\\n",
      "0                                   NaN                                NaN   \n",
      "1                                   NaN                                NaN   \n",
      "2                                   NaN                                NaN   \n",
      "3                                   NaN                                NaN   \n",
      "4                                   NaN                                NaN   \n",
      "\n",
      "  incomeDetail.contracts223.2004.count incomeDetail.fedSubsidies.2007.sum  \\\n",
      "0                                  NaN                                NaN   \n",
      "1                                  NaN                                NaN   \n",
      "2                                  NaN                                NaN   \n",
      "3                                  NaN                                NaN   \n",
      "4                                  NaN                                NaN   \n",
      "\n",
      "  incomeDetail.fedSubsidies.2007.count incomeDetail.fedSubsidies.2006.sum  \\\n",
      "0                                  NaN                                NaN   \n",
      "1                                  NaN                                NaN   \n",
      "2                                  NaN                                NaN   \n",
      "3                                  NaN                                NaN   \n",
      "4                                  NaN                                NaN   \n",
      "\n",
      "   incomeDetail.fedSubsidies.2006.count incomeDetail.fedSubsidies.2005.sum  \\\n",
      "0                                   NaN                                NaN   \n",
      "1                                   NaN                                NaN   \n",
      "2                                   NaN                                NaN   \n",
      "3                                   NaN                                NaN   \n",
      "4                                   NaN                                NaN   \n",
      "\n",
      "  incomeDetail.fedSubsidies.2005.count  \n",
      "0                                  NaN  \n",
      "1                                  NaN  \n",
      "2                                  NaN  \n",
      "3                                  NaN  \n",
      "4                                  NaN  \n",
      "\n",
      "[5 rows x 198 columns]\n"
     ]
    }
   ],
   "source": [
    "file_names = [f'data/ngo_dump_{str(i).zfill(2)}.json' for i in range(1,16)]\n",
    "dfs = []\n",
    "for file_name in file_names:\n",
    "    print(f'Read file:{file_name}')\n",
    "    data = []\n",
    "    try:\n",
    "        with open(file_name, 'r', encoding='utf-8') as file:\n",
    "            for line in file:\n",
    "                if line.strip():\n",
    "                    data.append(json.loads(line))\n",
    "\n",
    "# Если это один объект, оборачиваем в список\n",
    "        if isinstance(data, dict):\n",
    "            data = [data]\n",
    "        elif not isinstance(data, list):\n",
    "            raise ValueError(\"Неподдерживаемый формат данных\")\n",
    "        df_temp = json_normalize(data)\n",
    "        dfs.append(df_temp)\n",
    "    except Exception as e:\n",
    "        print(f\"Error during reading file {file_name}:{e}\")\n",
    "if dfs:\n",
    "    df = pd.concat(dfs, ignore_index=True)\n",
    "    print(f'Df created. Strings quantity:{len(df)}')\n",
    "else:\n",
    "    print('Failed to create DataFrame')\n",
    "\n",
    "print(df.head())\n",
    "        "
   ]
  },
  {
   "cell_type": "code",
   "execution_count": 186,
   "metadata": {},
   "outputs": [
    {
     "data": {
      "text/html": [
       "<div>\n",
       "<style scoped>\n",
       "    .dataframe tbody tr th:only-of-type {\n",
       "        vertical-align: middle;\n",
       "    }\n",
       "\n",
       "    .dataframe tbody tr th {\n",
       "        vertical-align: top;\n",
       "    }\n",
       "\n",
       "    .dataframe thead th {\n",
       "        text-align: right;\n",
       "    }\n",
       "</style>\n",
       "<table border=\"1\" class=\"dataframe\">\n",
       "  <thead>\n",
       "    <tr style=\"text-align: right;\">\n",
       "      <th></th>\n",
       "      <th>minjustRegNum</th>\n",
       "      <th>regionName</th>\n",
       "      <th>logo</th>\n",
       "      <th>fullName</th>\n",
       "      <th>dateReg</th>\n",
       "      <th>minjustForm</th>\n",
       "      <th>charter</th>\n",
       "      <th>minjustStatus</th>\n",
       "      <th>ogrn</th>\n",
       "      <th>egrulStatus</th>\n",
       "      <th>...</th>\n",
       "      <th>incomeDetail.fedSubsidies.2012.sum</th>\n",
       "      <th>incomeDetail.fedSubsidies.2012.count</th>\n",
       "      <th>incomeDetail.contracts223.2004.sum</th>\n",
       "      <th>incomeDetail.contracts223.2004.count</th>\n",
       "      <th>incomeDetail.fedSubsidies.2007.sum</th>\n",
       "      <th>incomeDetail.fedSubsidies.2007.count</th>\n",
       "      <th>incomeDetail.fedSubsidies.2006.sum</th>\n",
       "      <th>incomeDetail.fedSubsidies.2006.count</th>\n",
       "      <th>incomeDetail.fedSubsidies.2005.sum</th>\n",
       "      <th>incomeDetail.fedSubsidies.2005.count</th>\n",
       "    </tr>\n",
       "  </thead>\n",
       "  <tbody>\n",
       "    <tr>\n",
       "      <th>0</th>\n",
       "      <td>7814061218</td>\n",
       "      <td>Санкт-Петербург</td>\n",
       "      <td>None</td>\n",
       "      <td>МЕЖРЕГИОНАЛЬНАЯ АНТРОПОСОФСКАЯ МЕДИЦИНСКАЯ АСС...</td>\n",
       "      <td>NaN</td>\n",
       "      <td>Объединения (союз, ассоциация) юридических лиц</td>\n",
       "      <td>None</td>\n",
       "      <td>Зарегистрирована</td>\n",
       "      <td>1207800141790</td>\n",
       "      <td>Действует</td>\n",
       "      <td>...</td>\n",
       "      <td>NaN</td>\n",
       "      <td>NaN</td>\n",
       "      <td>NaN</td>\n",
       "      <td>NaN</td>\n",
       "      <td>NaN</td>\n",
       "      <td>NaN</td>\n",
       "      <td>NaN</td>\n",
       "      <td>NaN</td>\n",
       "      <td>NaN</td>\n",
       "      <td>NaN</td>\n",
       "    </tr>\n",
       "    <tr>\n",
       "      <th>1</th>\n",
       "      <td>7714017452</td>\n",
       "      <td>Москва</td>\n",
       "      <td>None</td>\n",
       "      <td>ФОНД \"СОДЕЙСТВИЕ ДУХОВНОМУ РАЗВИТИЮ ЧЕЛОВЕКА \"...</td>\n",
       "      <td>NaN</td>\n",
       "      <td>Некоммерческий фонд</td>\n",
       "      <td>None</td>\n",
       "      <td>Зарегистрирована</td>\n",
       "      <td>1207700349152</td>\n",
       "      <td>Действует</td>\n",
       "      <td>...</td>\n",
       "      <td>NaN</td>\n",
       "      <td>NaN</td>\n",
       "      <td>NaN</td>\n",
       "      <td>NaN</td>\n",
       "      <td>NaN</td>\n",
       "      <td>NaN</td>\n",
       "      <td>NaN</td>\n",
       "      <td>NaN</td>\n",
       "      <td>NaN</td>\n",
       "      <td>NaN</td>\n",
       "    </tr>\n",
       "    <tr>\n",
       "      <th>2</th>\n",
       "      <td>7814170160</td>\n",
       "      <td>Санкт-Петербург</td>\n",
       "      <td>None</td>\n",
       "      <td>КОЛЛЕГИЯ АДВОКАТОВ \"САНКТ-ПЕТЕРБУРГСКАЯ КОЛЛЕГ...</td>\n",
       "      <td>NaN</td>\n",
       "      <td>Коллегия адвокатов</td>\n",
       "      <td>None</td>\n",
       "      <td>Зарегистрирована</td>\n",
       "      <td>1207800011430</td>\n",
       "      <td>Действует</td>\n",
       "      <td>...</td>\n",
       "      <td>NaN</td>\n",
       "      <td>NaN</td>\n",
       "      <td>NaN</td>\n",
       "      <td>NaN</td>\n",
       "      <td>NaN</td>\n",
       "      <td>NaN</td>\n",
       "      <td>NaN</td>\n",
       "      <td>NaN</td>\n",
       "      <td>NaN</td>\n",
       "      <td>NaN</td>\n",
       "    </tr>\n",
       "    <tr>\n",
       "      <th>3</th>\n",
       "      <td>None</td>\n",
       "      <td>Москва</td>\n",
       "      <td>None</td>\n",
       "      <td>ТОВАРИЩЕСТВО СОБСТВЕННИКОВ НЕДВИЖИМОСТИ \"ЛУГИН...</td>\n",
       "      <td>NaN</td>\n",
       "      <td>None</td>\n",
       "      <td>None</td>\n",
       "      <td>None</td>\n",
       "      <td>1207700348976</td>\n",
       "      <td>Действует</td>\n",
       "      <td>...</td>\n",
       "      <td>NaN</td>\n",
       "      <td>NaN</td>\n",
       "      <td>NaN</td>\n",
       "      <td>NaN</td>\n",
       "      <td>NaN</td>\n",
       "      <td>NaN</td>\n",
       "      <td>NaN</td>\n",
       "      <td>NaN</td>\n",
       "      <td>NaN</td>\n",
       "      <td>NaN</td>\n",
       "    </tr>\n",
       "    <tr>\n",
       "      <th>4</th>\n",
       "      <td>7814052913</td>\n",
       "      <td>Санкт-Петербург</td>\n",
       "      <td>None</td>\n",
       "      <td>АВТОНОМНАЯ НЕКОММЕРЧЕСКАЯ ОРГАНИЗАЦИЯ \"ЦЕНТР С...</td>\n",
       "      <td>NaN</td>\n",
       "      <td>Автономная некоммерческая организация</td>\n",
       "      <td>None</td>\n",
       "      <td>Зарегистрирована</td>\n",
       "      <td>1207800081500</td>\n",
       "      <td>Действует</td>\n",
       "      <td>...</td>\n",
       "      <td>NaN</td>\n",
       "      <td>NaN</td>\n",
       "      <td>NaN</td>\n",
       "      <td>NaN</td>\n",
       "      <td>NaN</td>\n",
       "      <td>NaN</td>\n",
       "      <td>NaN</td>\n",
       "      <td>NaN</td>\n",
       "      <td>NaN</td>\n",
       "      <td>NaN</td>\n",
       "    </tr>\n",
       "  </tbody>\n",
       "</table>\n",
       "<p>5 rows × 198 columns</p>\n",
       "</div>"
      ],
      "text/plain": [
       "  minjustRegNum       regionName  logo  \\\n",
       "0    7814061218  Санкт-Петербург  None   \n",
       "1    7714017452           Москва  None   \n",
       "2    7814170160  Санкт-Петербург  None   \n",
       "3          None           Москва  None   \n",
       "4    7814052913  Санкт-Петербург  None   \n",
       "\n",
       "                                            fullName  dateReg  \\\n",
       "0  МЕЖРЕГИОНАЛЬНАЯ АНТРОПОСОФСКАЯ МЕДИЦИНСКАЯ АСС...      NaN   \n",
       "1  ФОНД \"СОДЕЙСТВИЕ ДУХОВНОМУ РАЗВИТИЮ ЧЕЛОВЕКА \"...      NaN   \n",
       "2  КОЛЛЕГИЯ АДВОКАТОВ \"САНКТ-ПЕТЕРБУРГСКАЯ КОЛЛЕГ...      NaN   \n",
       "3  ТОВАРИЩЕСТВО СОБСТВЕННИКОВ НЕДВИЖИМОСТИ \"ЛУГИН...      NaN   \n",
       "4  АВТОНОМНАЯ НЕКОММЕРЧЕСКАЯ ОРГАНИЗАЦИЯ \"ЦЕНТР С...      NaN   \n",
       "\n",
       "                                      minjustForm charter     minjustStatus  \\\n",
       "0  Объединения (союз, ассоциация) юридических лиц    None  Зарегистрирована   \n",
       "1                             Некоммерческий фонд    None  Зарегистрирована   \n",
       "2                              Коллегия адвокатов    None  Зарегистрирована   \n",
       "3                                            None    None              None   \n",
       "4           Автономная некоммерческая организация    None  Зарегистрирована   \n",
       "\n",
       "            ogrn egrulStatus  ... incomeDetail.fedSubsidies.2012.sum  \\\n",
       "0  1207800141790   Действует  ...                                NaN   \n",
       "1  1207700349152   Действует  ...                                NaN   \n",
       "2  1207800011430   Действует  ...                                NaN   \n",
       "3  1207700348976   Действует  ...                                NaN   \n",
       "4  1207800081500   Действует  ...                                NaN   \n",
       "\n",
       "   incomeDetail.fedSubsidies.2012.count incomeDetail.contracts223.2004.sum  \\\n",
       "0                                   NaN                                NaN   \n",
       "1                                   NaN                                NaN   \n",
       "2                                   NaN                                NaN   \n",
       "3                                   NaN                                NaN   \n",
       "4                                   NaN                                NaN   \n",
       "\n",
       "  incomeDetail.contracts223.2004.count incomeDetail.fedSubsidies.2007.sum  \\\n",
       "0                                  NaN                                NaN   \n",
       "1                                  NaN                                NaN   \n",
       "2                                  NaN                                NaN   \n",
       "3                                  NaN                                NaN   \n",
       "4                                  NaN                                NaN   \n",
       "\n",
       "  incomeDetail.fedSubsidies.2007.count incomeDetail.fedSubsidies.2006.sum  \\\n",
       "0                                  NaN                                NaN   \n",
       "1                                  NaN                                NaN   \n",
       "2                                  NaN                                NaN   \n",
       "3                                  NaN                                NaN   \n",
       "4                                  NaN                                NaN   \n",
       "\n",
       "   incomeDetail.fedSubsidies.2006.count incomeDetail.fedSubsidies.2005.sum  \\\n",
       "0                                   NaN                                NaN   \n",
       "1                                   NaN                                NaN   \n",
       "2                                   NaN                                NaN   \n",
       "3                                   NaN                                NaN   \n",
       "4                                   NaN                                NaN   \n",
       "\n",
       "  incomeDetail.fedSubsidies.2005.count  \n",
       "0                                  NaN  \n",
       "1                                  NaN  \n",
       "2                                  NaN  \n",
       "3                                  NaN  \n",
       "4                                  NaN  \n",
       "\n",
       "[5 rows x 198 columns]"
      ]
     },
     "execution_count": 186,
     "metadata": {},
     "output_type": "execute_result"
    }
   ],
   "source": [
    "df = pd.DataFrame(df)\n",
    "df.head()"
   ]
  },
  {
   "cell_type": "code",
   "execution_count": 187,
   "metadata": {},
   "outputs": [
    {
     "name": "stdout",
     "output_type": "stream",
     "text": [
      "<class 'pandas.core.frame.DataFrame'>\n",
      "RangeIndex: 747034 entries, 0 to 747033\n",
      "Columns: 198 entries, minjustRegNum to incomeDetail.fedSubsidies.2005.count\n",
      "dtypes: bool(1), float64(142), int64(5), object(50)\n",
      "memory usage: 1.1+ GB\n"
     ]
    }
   ],
   "source": [
    "df.info()"
   ]
  },
  {
   "cell_type": "markdown",
   "metadata": {},
   "source": [
    "Получилось 198 признаков. Не все из них пригодятся для построения прогноза. "
   ]
  },
  {
   "cell_type": "markdown",
   "metadata": {},
   "source": [
    "Характеристики открытых данных можно найти здесь https://github.com/infoculture/openngo-data-reference/wiki/Характеристики-и-расшифровки-открытых-данных"
   ]
  },
  {
   "cell_type": "markdown",
   "metadata": {},
   "source": [
    "Скачаем дополнительную таблицу с более точными кодами правовой формы (ОКОПФ) для фондов всех видов."
   ]
  },
  {
   "cell_type": "code",
   "execution_count": 188,
   "metadata": {},
   "outputs": [],
   "source": [
    "f_codes = pd.read_csv('data/foundations_codes.csv')"
   ]
  },
  {
   "cell_type": "code",
   "execution_count": 189,
   "metadata": {},
   "outputs": [
    {
     "name": "stdout",
     "output_type": "stream",
     "text": [
      "<class 'pandas.core.frame.DataFrame'>\n",
      "RangeIndex: 21920 entries, 0 to 21919\n",
      "Data columns (total 6 columns):\n",
      " #   Column    Non-Null Count  Dtype  \n",
      "---  ------    --------------  -----  \n",
      " 0   name      21920 non-null  object \n",
      " 1   ogrn      21858 non-null  float64\n",
      " 2   status    21920 non-null  object \n",
      " 3   region    21920 non-null  object \n",
      " 4   okopf     21920 non-null  object \n",
      " 5   okopf_id  21920 non-null  int64  \n",
      "dtypes: float64(1), int64(1), object(4)\n",
      "memory usage: 1.0+ MB\n"
     ]
    }
   ],
   "source": [
    "f_codes.head()\n",
    "f_codes.info()"
   ]
  },
  {
   "cell_type": "code",
   "execution_count": 190,
   "metadata": {},
   "outputs": [
    {
     "data": {
      "text/plain": [
       "array([70400, 70401, 70403, 70402, 70404], dtype=int64)"
      ]
     },
     "execution_count": 190,
     "metadata": {},
     "output_type": "execute_result"
    }
   ],
   "source": [
    "f_codes['okopf_id'].unique()"
   ]
  },
  {
   "cell_type": "markdown",
   "metadata": {},
   "source": [
    "Выберем из нашего основного датасета те признаки, которые могут предположительно могут характеризовать НКО, и на которые можно опираться при построении прогноза. Почти все признаки являются категориальными, так как состоят из классификаторов."
   ]
  },
  {
   "cell_type": "code",
   "execution_count": 191,
   "metadata": {},
   "outputs": [],
   "source": [
    "cols_needed = ['regionName','fullName','ogrn', 'egrulStatus',\n",
    "       'regionCode',\n",
    "       'hasRegionalSupport', 'addOkved',\n",
    "       'statusDetail.shortName','mainOkved.name', 'mainOkved.code',\n",
    "       'mainOkved.version', 'incomeDetail.grants.totalCount',\n",
    "       'incomeDetail.grants.totalSum', 'incomeDetail.fedSubsidies.totalCount',\n",
    "       'incomeDetail.fedSubsidies.totalSum',\n",
    "       'incomeDetail.contracts44.totalCount',\n",
    "       'incomeDetail.contracts44.totalSum',\n",
    "       'incomeDetail.contracts223.totalCount',\n",
    "       'incomeDetail.contracts223.totalSum',\n",
    "       'incomeDetail.contracts94.totalCount',\n",
    "       'incomeDetail.contracts94.totalSum',\n",
    "       'incomeTotal', 'originDate.$date',\n",
    "       'dateOgrn.$date', 'dateLiquid.$date',\n",
    "       'dateReg.$date','minjustForm',\n",
    "       'okato.code','okato.name',\n",
    "       'okfs.code','okfs.name',\n",
    "       'okogu.code','okogu.name',\n",
    "       'oktmo.code','oktmo.name',\n",
    "       'opf.code','opf.name']"
   ]
  },
  {
   "cell_type": "code",
   "execution_count": 192,
   "metadata": {},
   "outputs": [
    {
     "name": "stdout",
     "output_type": "stream",
     "text": [
      "<class 'pandas.core.frame.DataFrame'>\n",
      "RangeIndex: 747034 entries, 0 to 747033\n",
      "Data columns (total 37 columns):\n",
      " #   Column                                Non-Null Count   Dtype  \n",
      "---  ------                                --------------   -----  \n",
      " 0   regionName                            747009 non-null  object \n",
      " 1   fullName                              747034 non-null  object \n",
      " 2   ogrn                                  747034 non-null  object \n",
      " 3   egrulStatus                           747034 non-null  object \n",
      " 4   regionCode                            747034 non-null  object \n",
      " 5   hasRegionalSupport                    747034 non-null  bool   \n",
      " 6   addOkved                              747034 non-null  object \n",
      " 7   statusDetail.shortName                747034 non-null  object \n",
      " 8   mainOkved.name                        542353 non-null  object \n",
      " 9   mainOkved.code                        542353 non-null  object \n",
      " 10  mainOkved.version                     747034 non-null  object \n",
      " 11  incomeDetail.grants.totalCount        747034 non-null  int64  \n",
      " 12  incomeDetail.grants.totalSum          747034 non-null  float64\n",
      " 13  incomeDetail.fedSubsidies.totalCount  747034 non-null  int64  \n",
      " 14  incomeDetail.fedSubsidies.totalSum    747034 non-null  float64\n",
      " 15  incomeDetail.contracts44.totalCount   747034 non-null  int64  \n",
      " 16  incomeDetail.contracts44.totalSum     747034 non-null  float64\n",
      " 17  incomeDetail.contracts223.totalCount  747034 non-null  int64  \n",
      " 18  incomeDetail.contracts223.totalSum    747034 non-null  float64\n",
      " 19  incomeDetail.contracts94.totalCount   747034 non-null  int64  \n",
      " 20  incomeDetail.contracts94.totalSum     747034 non-null  float64\n",
      " 21  incomeTotal                           747034 non-null  float64\n",
      " 22  originDate.$date                      747034 non-null  object \n",
      " 23  dateOgrn.$date                        747034 non-null  object \n",
      " 24  dateLiquid.$date                      399961 non-null  object \n",
      " 25  dateReg.$date                         321416 non-null  object \n",
      " 26  minjustForm                           462302 non-null  object \n",
      " 27  okato.code                            347437 non-null  object \n",
      " 28  okato.name                            338220 non-null  object \n",
      " 29  okfs.code                             347437 non-null  object \n",
      " 30  okfs.name                             347437 non-null  object \n",
      " 31  okogu.code                            347437 non-null  object \n",
      " 32  okogu.name                            347426 non-null  object \n",
      " 33  oktmo.code                            347437 non-null  object \n",
      " 34  oktmo.name                            275714 non-null  object \n",
      " 35  opf.code                              701825 non-null  object \n",
      " 36  opf.name                              746619 non-null  object \n",
      "dtypes: bool(1), float64(6), int64(5), object(25)\n",
      "memory usage: 205.9+ MB\n"
     ]
    }
   ],
   "source": [
    "df = df[cols_needed]\n",
    "df.info()"
   ]
  },
  {
   "cell_type": "markdown",
   "metadata": {},
   "source": [
    "➔ ogrn — ключевое поле, в том числе для соединения с другими наборами\n",
    "данных, уникальный номер, присваиваемый организации при её\n",
    "регистрации, и он всегда неизменен.\n",
    "➔  В поле egrulStatus отмечено, действующая ли организация или ликвидированная\n",
    "➔ Для целей задачи данные из полей contracts44, contracts223,\n",
    "contracts94 можем суммировать (это разные формы контрактов, но это\n",
    "имеет значение только для заказчика)."
   ]
  },
  {
   "cell_type": "markdown",
   "metadata": {},
   "source": [
    "Видим, что признак addOkved представляет из себя список словарей с дополнительными кодами ОКВЕД. Сформируем из него признак, в котором значением будет список дополнительных классификаторов. Пустые списки заменим на отсутствующие значения"
   ]
  },
  {
   "cell_type": "markdown",
   "metadata": {},
   "source": [
    "## Очистка и предобработка данных"
   ]
  },
  {
   "cell_type": "markdown",
   "metadata": {},
   "source": [
    "Посмотрим, много ли отсутствующих значений в признаках:"
   ]
  },
  {
   "cell_type": "code",
   "execution_count": 193,
   "metadata": {},
   "outputs": [
    {
     "name": "stdout",
     "output_type": "stream",
     "text": [
      "oktmo.name                              471320\n",
      "dateReg.$date                           425618\n",
      "okato.name                              408814\n",
      "okogu.name                              399608\n",
      "oktmo.code                              399597\n",
      "okogu.code                              399597\n",
      "okfs.name                               399597\n",
      "okfs.code                               399597\n",
      "okato.code                              399597\n",
      "dateLiquid.$date                        347073\n",
      "minjustForm                             284732\n",
      "mainOkved.name                          204681\n",
      "mainOkved.code                          204681\n",
      "opf.code                                 45209\n",
      "opf.name                                   415\n",
      "regionName                                  25\n",
      "incomeDetail.contracts44.totalSum            0\n",
      "incomeDetail.grants.totalSum                 0\n",
      "ogrn                                         0\n",
      "egrulStatus                                  0\n",
      "regionCode                                   0\n",
      "hasRegionalSupport                           0\n",
      "addOkved                                     0\n",
      "statusDetail.shortName                       0\n",
      "mainOkved.version                            0\n",
      "incomeDetail.grants.totalCount               0\n",
      "incomeDetail.fedSubsidies.totalCount         0\n",
      "incomeDetail.contracts223.totalCount         0\n",
      "incomeDetail.fedSubsidies.totalSum           0\n",
      "incomeDetail.contracts44.totalCount          0\n",
      "dateOgrn.$date                               0\n",
      "originDate.$date                             0\n",
      "incomeTotal                                  0\n",
      "incomeDetail.contracts94.totalSum            0\n",
      "incomeDetail.contracts94.totalCount          0\n",
      "fullName                                     0\n",
      "incomeDetail.contracts223.totalSum           0\n",
      "dtype: int64\n"
     ]
    },
    {
     "data": {
      "text/plain": [
       "oktmo.name          63.092175\n",
       "dateReg.$date       56.974381\n",
       "okato.name          54.724952\n",
       "okogu.name          53.492612\n",
       "okato.code          53.491140\n",
       "okfs.code           53.491140\n",
       "okfs.name           53.491140\n",
       "okogu.code          53.491140\n",
       "oktmo.code          53.491140\n",
       "dateLiquid.$date    46.460134\n",
       "minjustForm         38.114999\n",
       "mainOkved.name      27.399155\n",
       "mainOkved.code      27.399155\n",
       "opf.code             6.051800\n",
       "opf.name             0.055553\n",
       "regionName           0.003347\n",
       "dtype: float64"
      ]
     },
     "metadata": {},
     "output_type": "display_data"
    }
   ],
   "source": [
    "print(df.isnull().sum().sort_values(ascending=False))\n",
    "cols_null_percent = df.isnull().mean() * 100\n",
    "cols_with_null = cols_null_percent[cols_null_percent>0].sort_values(ascending=False)\n",
    "display(cols_with_null)"
   ]
  },
  {
   "cell_type": "markdown",
   "metadata": {},
   "source": [
    "dateReg: дата регистрации организаций - указывается только для организаций, зарегистрированных до 2002 года, поэтому в этом признаке много пропущенных значений. То же касается dateLiquid.$date - дата ликвидации организации."
   ]
  },
  {
   "cell_type": "markdown",
   "metadata": {},
   "source": [
    "Удалим неинформативные признаки с большим количеством пропусков (больше 20 процентов), сохраним dateReg, dateLiquid, mainOkved.name, mainOkved.code, так как оквэд является критичным для нашей задачи"
   ]
  },
  {
   "cell_type": "code",
   "execution_count": 194,
   "metadata": {},
   "outputs": [],
   "source": [
    "df = df.drop(columns=['oktmo.name','okato.name','okogu.name','okato.code','okfs.name','okfs.code','oktmo.code',\n",
    "                      'okogu.code','minjustForm'])"
   ]
  },
  {
   "cell_type": "code",
   "execution_count": 195,
   "metadata": {},
   "outputs": [
    {
     "name": "stdout",
     "output_type": "stream",
     "text": [
      "<class 'pandas.core.frame.DataFrame'>\n",
      "RangeIndex: 747034 entries, 0 to 747033\n",
      "Data columns (total 28 columns):\n",
      " #   Column                                Non-Null Count   Dtype  \n",
      "---  ------                                --------------   -----  \n",
      " 0   regionName                            747009 non-null  object \n",
      " 1   fullName                              747034 non-null  object \n",
      " 2   ogrn                                  747034 non-null  object \n",
      " 3   egrulStatus                           747034 non-null  object \n",
      " 4   regionCode                            747034 non-null  object \n",
      " 5   hasRegionalSupport                    747034 non-null  bool   \n",
      " 6   addOkved                              747034 non-null  object \n",
      " 7   statusDetail.shortName                747034 non-null  object \n",
      " 8   mainOkved.name                        542353 non-null  object \n",
      " 9   mainOkved.code                        542353 non-null  object \n",
      " 10  mainOkved.version                     747034 non-null  object \n",
      " 11  incomeDetail.grants.totalCount        747034 non-null  int64  \n",
      " 12  incomeDetail.grants.totalSum          747034 non-null  float64\n",
      " 13  incomeDetail.fedSubsidies.totalCount  747034 non-null  int64  \n",
      " 14  incomeDetail.fedSubsidies.totalSum    747034 non-null  float64\n",
      " 15  incomeDetail.contracts44.totalCount   747034 non-null  int64  \n",
      " 16  incomeDetail.contracts44.totalSum     747034 non-null  float64\n",
      " 17  incomeDetail.contracts223.totalCount  747034 non-null  int64  \n",
      " 18  incomeDetail.contracts223.totalSum    747034 non-null  float64\n",
      " 19  incomeDetail.contracts94.totalCount   747034 non-null  int64  \n",
      " 20  incomeDetail.contracts94.totalSum     747034 non-null  float64\n",
      " 21  incomeTotal                           747034 non-null  float64\n",
      " 22  originDate.$date                      747034 non-null  object \n",
      " 23  dateOgrn.$date                        747034 non-null  object \n",
      " 24  dateLiquid.$date                      399961 non-null  object \n",
      " 25  dateReg.$date                         321416 non-null  object \n",
      " 26  opf.code                              701825 non-null  object \n",
      " 27  opf.name                              746619 non-null  object \n",
      "dtypes: bool(1), float64(6), int64(5), object(16)\n",
      "memory usage: 154.6+ MB\n"
     ]
    }
   ],
   "source": [
    "df.info()"
   ]
  },
  {
   "cell_type": "code",
   "execution_count": 196,
   "metadata": {},
   "outputs": [
    {
     "data": {
      "text/html": [
       "<div>\n",
       "<style scoped>\n",
       "    .dataframe tbody tr th:only-of-type {\n",
       "        vertical-align: middle;\n",
       "    }\n",
       "\n",
       "    .dataframe tbody tr th {\n",
       "        vertical-align: top;\n",
       "    }\n",
       "\n",
       "    .dataframe thead th {\n",
       "        text-align: right;\n",
       "    }\n",
       "</style>\n",
       "<table border=\"1\" class=\"dataframe\">\n",
       "  <thead>\n",
       "    <tr style=\"text-align: right;\">\n",
       "      <th></th>\n",
       "      <th>regionName</th>\n",
       "      <th>fullName</th>\n",
       "      <th>ogrn</th>\n",
       "      <th>egrulStatus</th>\n",
       "      <th>regionCode</th>\n",
       "      <th>hasRegionalSupport</th>\n",
       "      <th>addOkved</th>\n",
       "      <th>statusDetail.shortName</th>\n",
       "      <th>mainOkved.name</th>\n",
       "      <th>mainOkved.code</th>\n",
       "      <th>...</th>\n",
       "      <th>incomeDetail.contracts223.totalSum</th>\n",
       "      <th>incomeDetail.contracts94.totalCount</th>\n",
       "      <th>incomeDetail.contracts94.totalSum</th>\n",
       "      <th>incomeTotal</th>\n",
       "      <th>originDate.$date</th>\n",
       "      <th>dateOgrn.$date</th>\n",
       "      <th>dateLiquid.$date</th>\n",
       "      <th>dateReg.$date</th>\n",
       "      <th>opf.code</th>\n",
       "      <th>opf.name</th>\n",
       "    </tr>\n",
       "  </thead>\n",
       "  <tbody>\n",
       "    <tr>\n",
       "      <th>0</th>\n",
       "      <td>Санкт-Петербург</td>\n",
       "      <td>МЕЖРЕГИОНАЛЬНАЯ АНТРОПОСОФСКАЯ МЕДИЦИНСКАЯ АСС...</td>\n",
       "      <td>1207800141790</td>\n",
       "      <td>Действует</td>\n",
       "      <td>78</td>\n",
       "      <td>False</td>\n",
       "      <td>[]</td>\n",
       "      <td>Действующая</td>\n",
       "      <td>Деятельность профессиональных членских организ...</td>\n",
       "      <td>94.12</td>\n",
       "      <td>...</td>\n",
       "      <td>0.0</td>\n",
       "      <td>0</td>\n",
       "      <td>0.0</td>\n",
       "      <td>0.0</td>\n",
       "      <td>2020-10-30T00:00:00.000Z</td>\n",
       "      <td>2020-10-30T00:00:00.000Z</td>\n",
       "      <td>NaN</td>\n",
       "      <td>NaN</td>\n",
       "      <td>20600</td>\n",
       "      <td>Ассоциации (союзы)</td>\n",
       "    </tr>\n",
       "    <tr>\n",
       "      <th>1</th>\n",
       "      <td>Москва</td>\n",
       "      <td>ФОНД \"СОДЕЙСТВИЕ ДУХОВНОМУ РАЗВИТИЮ ЧЕЛОВЕКА \"...</td>\n",
       "      <td>1207700349152</td>\n",
       "      <td>Действует</td>\n",
       "      <td>77</td>\n",
       "      <td>False</td>\n",
       "      <td>[{'name': 'Издание книг', 'code': '58.11', 've...</td>\n",
       "      <td>Действующая</td>\n",
       "      <td>Предоставление прочих финансовых услуг, кроме ...</td>\n",
       "      <td>64.99</td>\n",
       "      <td>...</td>\n",
       "      <td>0.0</td>\n",
       "      <td>0</td>\n",
       "      <td>0.0</td>\n",
       "      <td>0.0</td>\n",
       "      <td>2020-09-23T00:00:00.000Z</td>\n",
       "      <td>2020-09-23T00:00:00.000Z</td>\n",
       "      <td>NaN</td>\n",
       "      <td>NaN</td>\n",
       "      <td>70400</td>\n",
       "      <td>Фонды</td>\n",
       "    </tr>\n",
       "    <tr>\n",
       "      <th>2</th>\n",
       "      <td>Санкт-Петербург</td>\n",
       "      <td>КОЛЛЕГИЯ АДВОКАТОВ \"САНКТ-ПЕТЕРБУРГСКАЯ КОЛЛЕГ...</td>\n",
       "      <td>1207800011430</td>\n",
       "      <td>Действует</td>\n",
       "      <td>78</td>\n",
       "      <td>False</td>\n",
       "      <td>[]</td>\n",
       "      <td>Действующая</td>\n",
       "      <td>Деятельность в области права</td>\n",
       "      <td>69.10</td>\n",
       "      <td>...</td>\n",
       "      <td>0.0</td>\n",
       "      <td>0</td>\n",
       "      <td>0.0</td>\n",
       "      <td>0.0</td>\n",
       "      <td>2020-02-03T00:00:00.000Z</td>\n",
       "      <td>2020-02-03T00:00:00.000Z</td>\n",
       "      <td>NaN</td>\n",
       "      <td>NaN</td>\n",
       "      <td>20616</td>\n",
       "      <td>Коллегии адвокатов</td>\n",
       "    </tr>\n",
       "    <tr>\n",
       "      <th>3</th>\n",
       "      <td>Москва</td>\n",
       "      <td>ТОВАРИЩЕСТВО СОБСТВЕННИКОВ НЕДВИЖИМОСТИ \"ЛУГИН...</td>\n",
       "      <td>1207700348976</td>\n",
       "      <td>Действует</td>\n",
       "      <td>77</td>\n",
       "      <td>False</td>\n",
       "      <td>[{'name': 'Аренда и управление собственным или...</td>\n",
       "      <td>Действующая</td>\n",
       "      <td>Управление недвижимым имуществом за вознагражд...</td>\n",
       "      <td>68.32</td>\n",
       "      <td>...</td>\n",
       "      <td>0.0</td>\n",
       "      <td>0</td>\n",
       "      <td>0.0</td>\n",
       "      <td>0.0</td>\n",
       "      <td>2020-09-23T00:00:00.000Z</td>\n",
       "      <td>2020-09-23T00:00:00.000Z</td>\n",
       "      <td>NaN</td>\n",
       "      <td>NaN</td>\n",
       "      <td>20700</td>\n",
       "      <td>Товарищества собственников недвижимости</td>\n",
       "    </tr>\n",
       "    <tr>\n",
       "      <th>4</th>\n",
       "      <td>Санкт-Петербург</td>\n",
       "      <td>АВТОНОМНАЯ НЕКОММЕРЧЕСКАЯ ОРГАНИЗАЦИЯ \"ЦЕНТР С...</td>\n",
       "      <td>1207800081500</td>\n",
       "      <td>Действует</td>\n",
       "      <td>78</td>\n",
       "      <td>False</td>\n",
       "      <td>[{'name': 'Исследование конъюнктуры рынка и из...</td>\n",
       "      <td>Действующая</td>\n",
       "      <td>Деятельность по организации конференций и выст...</td>\n",
       "      <td>82.30</td>\n",
       "      <td>...</td>\n",
       "      <td>0.0</td>\n",
       "      <td>0</td>\n",
       "      <td>0.0</td>\n",
       "      <td>0.0</td>\n",
       "      <td>2020-07-08T00:00:00.000Z</td>\n",
       "      <td>2020-07-08T00:00:00.000Z</td>\n",
       "      <td>NaN</td>\n",
       "      <td>NaN</td>\n",
       "      <td>71400</td>\n",
       "      <td>Автономные некоммерческие организации</td>\n",
       "    </tr>\n",
       "  </tbody>\n",
       "</table>\n",
       "<p>5 rows × 28 columns</p>\n",
       "</div>"
      ],
      "text/plain": [
       "        regionName                                           fullName  \\\n",
       "0  Санкт-Петербург  МЕЖРЕГИОНАЛЬНАЯ АНТРОПОСОФСКАЯ МЕДИЦИНСКАЯ АСС...   \n",
       "1           Москва  ФОНД \"СОДЕЙСТВИЕ ДУХОВНОМУ РАЗВИТИЮ ЧЕЛОВЕКА \"...   \n",
       "2  Санкт-Петербург  КОЛЛЕГИЯ АДВОКАТОВ \"САНКТ-ПЕТЕРБУРГСКАЯ КОЛЛЕГ...   \n",
       "3           Москва  ТОВАРИЩЕСТВО СОБСТВЕННИКОВ НЕДВИЖИМОСТИ \"ЛУГИН...   \n",
       "4  Санкт-Петербург  АВТОНОМНАЯ НЕКОММЕРЧЕСКАЯ ОРГАНИЗАЦИЯ \"ЦЕНТР С...   \n",
       "\n",
       "            ogrn egrulStatus regionCode  hasRegionalSupport  \\\n",
       "0  1207800141790   Действует         78               False   \n",
       "1  1207700349152   Действует         77               False   \n",
       "2  1207800011430   Действует         78               False   \n",
       "3  1207700348976   Действует         77               False   \n",
       "4  1207800081500   Действует         78               False   \n",
       "\n",
       "                                            addOkved statusDetail.shortName  \\\n",
       "0                                                 []            Действующая   \n",
       "1  [{'name': 'Издание книг', 'code': '58.11', 've...            Действующая   \n",
       "2                                                 []            Действующая   \n",
       "3  [{'name': 'Аренда и управление собственным или...            Действующая   \n",
       "4  [{'name': 'Исследование конъюнктуры рынка и из...            Действующая   \n",
       "\n",
       "                                      mainOkved.name mainOkved.code  ...  \\\n",
       "0  Деятельность профессиональных членских организ...          94.12  ...   \n",
       "1  Предоставление прочих финансовых услуг, кроме ...          64.99  ...   \n",
       "2                       Деятельность в области права          69.10  ...   \n",
       "3  Управление недвижимым имуществом за вознагражд...          68.32  ...   \n",
       "4  Деятельность по организации конференций и выст...          82.30  ...   \n",
       "\n",
       "  incomeDetail.contracts223.totalSum  incomeDetail.contracts94.totalCount  \\\n",
       "0                                0.0                                    0   \n",
       "1                                0.0                                    0   \n",
       "2                                0.0                                    0   \n",
       "3                                0.0                                    0   \n",
       "4                                0.0                                    0   \n",
       "\n",
       "   incomeDetail.contracts94.totalSum  incomeTotal          originDate.$date  \\\n",
       "0                                0.0          0.0  2020-10-30T00:00:00.000Z   \n",
       "1                                0.0          0.0  2020-09-23T00:00:00.000Z   \n",
       "2                                0.0          0.0  2020-02-03T00:00:00.000Z   \n",
       "3                                0.0          0.0  2020-09-23T00:00:00.000Z   \n",
       "4                                0.0          0.0  2020-07-08T00:00:00.000Z   \n",
       "\n",
       "             dateOgrn.$date  dateLiquid.$date  dateReg.$date  opf.code  \\\n",
       "0  2020-10-30T00:00:00.000Z               NaN            NaN     20600   \n",
       "1  2020-09-23T00:00:00.000Z               NaN            NaN     70400   \n",
       "2  2020-02-03T00:00:00.000Z               NaN            NaN     20616   \n",
       "3  2020-09-23T00:00:00.000Z               NaN            NaN     20700   \n",
       "4  2020-07-08T00:00:00.000Z               NaN            NaN     71400   \n",
       "\n",
       "                                  opf.name  \n",
       "0                       Ассоциации (союзы)  \n",
       "1                                    Фонды  \n",
       "2                       Коллегии адвокатов  \n",
       "3  Товарищества собственников недвижимости  \n",
       "4    Автономные некоммерческие организации  \n",
       "\n",
       "[5 rows x 28 columns]"
      ]
     },
     "execution_count": 196,
     "metadata": {},
     "output_type": "execute_result"
    }
   ],
   "source": [
    "df.head()"
   ]
  },
  {
   "cell_type": "markdown",
   "metadata": {},
   "source": [
    "Мы видим, что в некоторых признаках есть скрытые отсутствующие значения, как например в признаке addOkved, где присутствуют пустые списки. Посмотрим, сколько их."
   ]
  },
  {
   "cell_type": "code",
   "execution_count": 197,
   "metadata": {},
   "outputs": [
    {
     "data": {
      "text/plain": [
       "474366"
      ]
     },
     "execution_count": 197,
     "metadata": {},
     "output_type": "execute_result"
    }
   ],
   "source": [
    "df['addOkved'] = df['addOkved'].apply(lambda x: None if isinstance(x,list) and not x else x)\n",
    "df['addOkved'].isnull().sum()"
   ]
  },
  {
   "cell_type": "markdown",
   "metadata": {},
   "source": [
    "Это тоже критически много, поэтому этот признак мы также удалим."
   ]
  },
  {
   "cell_type": "code",
   "execution_count": 198,
   "metadata": {},
   "outputs": [
    {
     "name": "stdout",
     "output_type": "stream",
     "text": [
      "<class 'pandas.core.frame.DataFrame'>\n",
      "RangeIndex: 747034 entries, 0 to 747033\n",
      "Data columns (total 27 columns):\n",
      " #   Column                                Non-Null Count   Dtype  \n",
      "---  ------                                --------------   -----  \n",
      " 0   regionName                            747009 non-null  object \n",
      " 1   fullName                              747034 non-null  object \n",
      " 2   ogrn                                  747034 non-null  object \n",
      " 3   egrulStatus                           747034 non-null  object \n",
      " 4   regionCode                            747034 non-null  object \n",
      " 5   hasRegionalSupport                    747034 non-null  bool   \n",
      " 6   statusDetail.shortName                747034 non-null  object \n",
      " 7   mainOkved.name                        542353 non-null  object \n",
      " 8   mainOkved.code                        542353 non-null  object \n",
      " 9   mainOkved.version                     747034 non-null  object \n",
      " 10  incomeDetail.grants.totalCount        747034 non-null  int64  \n",
      " 11  incomeDetail.grants.totalSum          747034 non-null  float64\n",
      " 12  incomeDetail.fedSubsidies.totalCount  747034 non-null  int64  \n",
      " 13  incomeDetail.fedSubsidies.totalSum    747034 non-null  float64\n",
      " 14  incomeDetail.contracts44.totalCount   747034 non-null  int64  \n",
      " 15  incomeDetail.contracts44.totalSum     747034 non-null  float64\n",
      " 16  incomeDetail.contracts223.totalCount  747034 non-null  int64  \n",
      " 17  incomeDetail.contracts223.totalSum    747034 non-null  float64\n",
      " 18  incomeDetail.contracts94.totalCount   747034 non-null  int64  \n",
      " 19  incomeDetail.contracts94.totalSum     747034 non-null  float64\n",
      " 20  incomeTotal                           747034 non-null  float64\n",
      " 21  originDate.$date                      747034 non-null  object \n",
      " 22  dateOgrn.$date                        747034 non-null  object \n",
      " 23  dateLiquid.$date                      399961 non-null  object \n",
      " 24  dateReg.$date                         321416 non-null  object \n",
      " 25  opf.code                              701825 non-null  object \n",
      " 26  opf.name                              746619 non-null  object \n",
      "dtypes: bool(1), float64(6), int64(5), object(15)\n",
      "memory usage: 148.9+ MB\n"
     ]
    }
   ],
   "source": [
    "df = df.drop(columns='addOkved')\n",
    "df.info()"
   ]
  },
  {
   "cell_type": "markdown",
   "metadata": {},
   "source": [
    "Проверим датасет на дубликаты:"
   ]
  },
  {
   "cell_type": "code",
   "execution_count": 199,
   "metadata": {},
   "outputs": [
    {
     "data": {
      "text/plain": [
       "0"
      ]
     },
     "execution_count": 199,
     "metadata": {},
     "output_type": "execute_result"
    }
   ],
   "source": [
    "df.duplicated().sum()"
   ]
  },
  {
   "cell_type": "markdown",
   "metadata": {},
   "source": [
    "Посмотрим на список признаков:"
   ]
  },
  {
   "cell_type": "code",
   "execution_count": 200,
   "metadata": {},
   "outputs": [
    {
     "name": "stdout",
     "output_type": "stream",
     "text": [
      "Index(['regionName', 'fullName', 'ogrn', 'egrulStatus', 'regionCode',\n",
      "       'hasRegionalSupport', 'statusDetail.shortName', 'mainOkved.name',\n",
      "       'mainOkved.code', 'mainOkved.version', 'incomeDetail.grants.totalCount',\n",
      "       'incomeDetail.grants.totalSum', 'incomeDetail.fedSubsidies.totalCount',\n",
      "       'incomeDetail.fedSubsidies.totalSum',\n",
      "       'incomeDetail.contracts44.totalCount',\n",
      "       'incomeDetail.contracts44.totalSum',\n",
      "       'incomeDetail.contracts223.totalCount',\n",
      "       'incomeDetail.contracts223.totalSum',\n",
      "       'incomeDetail.contracts94.totalCount',\n",
      "       'incomeDetail.contracts94.totalSum', 'incomeTotal', 'originDate.$date',\n",
      "       'dateOgrn.$date', 'dateLiquid.$date', 'dateReg.$date', 'opf.code',\n",
      "       'opf.name'],\n",
      "      dtype='object')\n"
     ]
    }
   ],
   "source": [
    "print(df.columns)"
   ]
  },
  {
   "cell_type": "code",
   "execution_count": 201,
   "metadata": {},
   "outputs": [
    {
     "name": "stdout",
     "output_type": "stream",
     "text": [
      "10\n"
     ]
    }
   ],
   "source": [
    "income_detail_cols = [col for col in df.columns if col.startswith('incomeDetail')]\n",
    "print(len(income_detail_cols)) #имеем 10 колонок с информацией о полученных грантах, контрактах и субсидиях"
   ]
  },
  {
   "cell_type": "markdown",
   "metadata": {},
   "source": [
    "Объединим данные о контрактах разных видов в две колонки - количество и сумма."
   ]
  },
  {
   "cell_type": "code",
   "execution_count": 202,
   "metadata": {},
   "outputs": [
    {
     "name": "stdout",
     "output_type": "stream",
     "text": [
      "<class 'pandas.core.frame.DataFrame'>\n",
      "RangeIndex: 747034 entries, 0 to 747033\n",
      "Data columns (total 29 columns):\n",
      " #   Column                                Non-Null Count   Dtype  \n",
      "---  ------                                --------------   -----  \n",
      " 0   regionName                            747009 non-null  object \n",
      " 1   fullName                              747034 non-null  object \n",
      " 2   ogrn                                  747034 non-null  object \n",
      " 3   egrulStatus                           747034 non-null  object \n",
      " 4   regionCode                            747034 non-null  object \n",
      " 5   hasRegionalSupport                    747034 non-null  bool   \n",
      " 6   statusDetail.shortName                747034 non-null  object \n",
      " 7   mainOkved.name                        542353 non-null  object \n",
      " 8   mainOkved.code                        542353 non-null  object \n",
      " 9   mainOkved.version                     747034 non-null  object \n",
      " 10  incomeDetail.grants.totalCount        747034 non-null  int64  \n",
      " 11  incomeDetail.grants.totalSum          747034 non-null  float64\n",
      " 12  incomeDetail.fedSubsidies.totalCount  747034 non-null  int64  \n",
      " 13  incomeDetail.fedSubsidies.totalSum    747034 non-null  float64\n",
      " 14  incomeDetail.contracts44.totalCount   747034 non-null  int64  \n",
      " 15  incomeDetail.contracts44.totalSum     747034 non-null  float64\n",
      " 16  incomeDetail.contracts223.totalCount  747034 non-null  int64  \n",
      " 17  incomeDetail.contracts223.totalSum    747034 non-null  float64\n",
      " 18  incomeDetail.contracts94.totalCount   747034 non-null  int64  \n",
      " 19  incomeDetail.contracts94.totalSum     747034 non-null  float64\n",
      " 20  incomeTotal                           747034 non-null  float64\n",
      " 21  originDate.$date                      747034 non-null  object \n",
      " 22  dateOgrn.$date                        747034 non-null  object \n",
      " 23  dateLiquid.$date                      399961 non-null  object \n",
      " 24  dateReg.$date                         321416 non-null  object \n",
      " 25  opf.code                              701825 non-null  object \n",
      " 26  opf.name                              746619 non-null  object \n",
      " 27  contract_count                        747034 non-null  int64  \n",
      " 28  contract_sum                          747034 non-null  float64\n",
      "dtypes: bool(1), float64(7), int64(6), object(15)\n",
      "memory usage: 160.3+ MB\n"
     ]
    }
   ],
   "source": [
    "df['contract_count'] = df['incomeDetail.contracts44.totalCount'] + df['incomeDetail.contracts223.totalCount'] + df['incomeDetail.contracts94.totalCount']\n",
    "df['contract_sum'] = df['incomeDetail.contracts44.totalSum'] + df['incomeDetail.contracts223.totalSum'] + df['incomeDetail.contracts94.totalSum']\n",
    "df.info()"
   ]
  },
  {
   "cell_type": "markdown",
   "metadata": {},
   "source": [
    "Удалим лишние колонки"
   ]
  },
  {
   "cell_type": "code",
   "execution_count": 203,
   "metadata": {},
   "outputs": [
    {
     "name": "stdout",
     "output_type": "stream",
     "text": [
      "<class 'pandas.core.frame.DataFrame'>\n",
      "RangeIndex: 747034 entries, 0 to 747033\n",
      "Data columns (total 23 columns):\n",
      " #   Column                                Non-Null Count   Dtype  \n",
      "---  ------                                --------------   -----  \n",
      " 0   regionName                            747009 non-null  object \n",
      " 1   fullName                              747034 non-null  object \n",
      " 2   ogrn                                  747034 non-null  object \n",
      " 3   egrulStatus                           747034 non-null  object \n",
      " 4   regionCode                            747034 non-null  object \n",
      " 5   hasRegionalSupport                    747034 non-null  bool   \n",
      " 6   statusDetail.shortName                747034 non-null  object \n",
      " 7   mainOkved.name                        542353 non-null  object \n",
      " 8   mainOkved.code                        542353 non-null  object \n",
      " 9   mainOkved.version                     747034 non-null  object \n",
      " 10  incomeDetail.grants.totalCount        747034 non-null  int64  \n",
      " 11  incomeDetail.grants.totalSum          747034 non-null  float64\n",
      " 12  incomeDetail.fedSubsidies.totalCount  747034 non-null  int64  \n",
      " 13  incomeDetail.fedSubsidies.totalSum    747034 non-null  float64\n",
      " 14  incomeTotal                           747034 non-null  float64\n",
      " 15  originDate.$date                      747034 non-null  object \n",
      " 16  dateOgrn.$date                        747034 non-null  object \n",
      " 17  dateLiquid.$date                      399961 non-null  object \n",
      " 18  dateReg.$date                         321416 non-null  object \n",
      " 19  opf.code                              701825 non-null  object \n",
      " 20  opf.name                              746619 non-null  object \n",
      " 21  contract_count                        747034 non-null  int64  \n",
      " 22  contract_sum                          747034 non-null  float64\n",
      "dtypes: bool(1), float64(4), int64(3), object(15)\n",
      "memory usage: 126.1+ MB\n"
     ]
    }
   ],
   "source": [
    "df = df.drop(columns=['incomeDetail.contracts44.totalCount',\n",
    "                      'incomeDetail.contracts223.totalCount', \n",
    "                      'incomeDetail.contracts94.totalCount', \n",
    "                      'incomeDetail.contracts44.totalSum',\n",
    "                      'incomeDetail.contracts223.totalSum',\n",
    "                      'incomeDetail.contracts94.totalSum'])\n",
    "df.info()"
   ]
  },
  {
   "cell_type": "markdown",
   "metadata": {},
   "source": [
    "Признаки с данными о датах переведем в тип datetime и переименуем их для удобства:"
   ]
  },
  {
   "cell_type": "code",
   "execution_count": 204,
   "metadata": {},
   "outputs": [],
   "source": [
    "df['originDate'] = pd.to_datetime(df['originDate.$date'])\n",
    "df['dateOgrn'] = pd.to_datetime(df['dateOgrn.$date'])\n",
    "df['dateLiquid'] = pd.to_datetime(df['dateLiquid.$date'])\n",
    "df['dateReg'] = pd.to_datetime(df['dateReg.$date'])"
   ]
  },
  {
   "cell_type": "code",
   "execution_count": 205,
   "metadata": {},
   "outputs": [
    {
     "name": "stdout",
     "output_type": "stream",
     "text": [
      "<class 'pandas.core.frame.DataFrame'>\n",
      "RangeIndex: 747034 entries, 0 to 747033\n",
      "Data columns (total 23 columns):\n",
      " #   Column                                Non-Null Count   Dtype              \n",
      "---  ------                                --------------   -----              \n",
      " 0   regionName                            747009 non-null  object             \n",
      " 1   fullName                              747034 non-null  object             \n",
      " 2   ogrn                                  747034 non-null  object             \n",
      " 3   egrulStatus                           747034 non-null  object             \n",
      " 4   regionCode                            747034 non-null  object             \n",
      " 5   hasRegionalSupport                    747034 non-null  bool               \n",
      " 6   statusDetail.shortName                747034 non-null  object             \n",
      " 7   mainOkved.name                        542353 non-null  object             \n",
      " 8   mainOkved.code                        542353 non-null  object             \n",
      " 9   mainOkved.version                     747034 non-null  object             \n",
      " 10  incomeDetail.grants.totalCount        747034 non-null  int64              \n",
      " 11  incomeDetail.grants.totalSum          747034 non-null  float64            \n",
      " 12  incomeDetail.fedSubsidies.totalCount  747034 non-null  int64              \n",
      " 13  incomeDetail.fedSubsidies.totalSum    747034 non-null  float64            \n",
      " 14  incomeTotal                           747034 non-null  float64            \n",
      " 15  opf.code                              701825 non-null  object             \n",
      " 16  opf.name                              746619 non-null  object             \n",
      " 17  contract_count                        747034 non-null  int64              \n",
      " 18  contract_sum                          747034 non-null  float64            \n",
      " 19  originDate                            747034 non-null  datetime64[ns, UTC]\n",
      " 20  dateOgrn                              747034 non-null  datetime64[ns, UTC]\n",
      " 21  dateLiquid                            399961 non-null  datetime64[ns, UTC]\n",
      " 22  dateReg                               321416 non-null  datetime64[ns, UTC]\n",
      "dtypes: bool(1), datetime64[ns, UTC](4), float64(4), int64(3), object(11)\n",
      "memory usage: 126.1+ MB\n"
     ]
    }
   ],
   "source": [
    "df = df.drop(columns=['originDate.$date', 'dateOgrn.$date', 'dateLiquid.$date', 'dateReg.$date'])\n",
    "df.info()"
   ]
  },
  {
   "cell_type": "markdown",
   "metadata": {},
   "source": [
    "Посмотрим, сколько у нас в таблице уже ликвидированных организаций:"
   ]
  },
  {
   "cell_type": "code",
   "execution_count": 206,
   "metadata": {},
   "outputs": [
    {
     "data": {
      "text/plain": [
       "egrulStatus\n",
       "Ликвидирована    406134\n",
       "Действует        340900\n",
       "Name: count, dtype: int64"
      ]
     },
     "execution_count": 206,
     "metadata": {},
     "output_type": "execute_result"
    }
   ],
   "source": [
    "df['egrulStatus'].value_counts()"
   ]
  },
  {
   "cell_type": "markdown",
   "metadata": {},
   "source": [
    "Ликвидированных организаций больше чем дат ликвидации, то есть у некоторых ликвидированных организаций мы не сможем узнать возраст. Удалим ликвидированные организации, дата ликвидации которых отсутствует"
   ]
  },
  {
   "cell_type": "code",
   "execution_count": 207,
   "metadata": {},
   "outputs": [],
   "source": [
    "df = df[ ~ ((df['egrulStatus'] == 'Ликвидирована') & (df['dateLiquid'].isnull()))]"
   ]
  },
  {
   "cell_type": "code",
   "execution_count": 208,
   "metadata": {},
   "outputs": [
    {
     "data": {
      "text/plain": [
       "egrulStatus\n",
       "Ликвидирована    399961\n",
       "Действует        340900\n",
       "Name: count, dtype: int64"
      ]
     },
     "execution_count": 208,
     "metadata": {},
     "output_type": "execute_result"
    }
   ],
   "source": [
    "#проверим результат\n",
    "df['egrulStatus'].value_counts()"
   ]
  },
  {
   "cell_type": "code",
   "execution_count": 209,
   "metadata": {},
   "outputs": [],
   "source": [
    "#заменим для удобства типы данных в признаках ogrn и regionCode на числовые\n",
    "df['ogrn'] = df['ogrn'].astype('int64')\n",
    "df['regionCode'] = df['regionCode'].astype('int64')\n",
    "df['hasRegionalSupport'] = df['hasRegionalSupport'].astype('int64') #переведем признак наличия региональной поддержки в бинарный \n",
    "#числовой формат\n",
    "df['opf.code'] = df['opf.code'].fillna(0) #отсутствующие opf коды заменим на 0\n",
    "df['opf.code'] = df['opf.code'].astype('int64') #такжепереведем признак в числовой формат"
   ]
  },
  {
   "cell_type": "markdown",
   "metadata": {},
   "source": [
    "Посмотрим еще на отсутствуюшие значения и есть ли в них пересечения между признаками"
   ]
  },
  {
   "cell_type": "code",
   "execution_count": 210,
   "metadata": {},
   "outputs": [
    {
     "name": "stdout",
     "output_type": "stream",
     "text": [
      "dateReg                                 422451\n",
      "dateLiquid                              340900\n",
      "mainOkved.name                          201993\n",
      "mainOkved.code                          201993\n",
      "opf.name                                   408\n",
      "regionName                                  24\n",
      "statusDetail.shortName                       0\n",
      "opf.code                                     0\n",
      "ogrn                                         0\n",
      "dateOgrn                                     0\n",
      "originDate                                   0\n",
      "contract_sum                                 0\n",
      "contract_count                               0\n",
      "egrulStatus                                  0\n",
      "incomeTotal                                  0\n",
      "hasRegionalSupport                           0\n",
      "incomeDetail.fedSubsidies.totalSum           0\n",
      "incomeDetail.fedSubsidies.totalCount         0\n",
      "fullName                                     0\n",
      "incomeDetail.grants.totalCount               0\n",
      "mainOkved.version                            0\n",
      "regionCode                                   0\n",
      "incomeDetail.grants.totalSum                 0\n",
      "dtype: int64\n"
     ]
    },
    {
     "data": {
      "text/plain": [
       "dateReg           57.021628\n",
       "dateLiquid        46.014030\n",
       "mainOkved.name    27.264629\n",
       "mainOkved.code    27.264629\n",
       "opf.name           0.055071\n",
       "regionName         0.003239\n",
       "dtype: float64"
      ]
     },
     "metadata": {},
     "output_type": "display_data"
    }
   ],
   "source": [
    "print(df.isnull().sum().sort_values(ascending=False))\n",
    "cols_null_percent = df.isnull().mean() * 100\n",
    "cols_with_null = cols_null_percent[cols_null_percent>0].sort_values(ascending=False)\n",
    "display(cols_with_null)"
   ]
  },
  {
   "cell_type": "code",
   "execution_count": 211,
   "metadata": {},
   "outputs": [
    {
     "data": {
      "image/png": "[encoded data removed]",
      "text/plain": [
       "<Figure size 1000x400 with 2 Axes>"
      ]
     },
     "metadata": {},
     "output_type": "display_data"
    }
   ],
   "source": [
    "colors = ['blue', 'yellow'] \n",
    "fig = plt.figure(figsize=(10, 4))\n",
    "cols = cols_with_null.index\n",
    "ax = sns.heatmap(\n",
    "    df[cols].isnull(),\n",
    "    cmap=sns.color_palette(colors),\n",
    ")"
   ]
  },
  {
   "cell_type": "markdown",
   "metadata": {},
   "source": [
    "В некоторых признаках есть пересечения по отсутствующим значениям. Пока избавимся от данных с отсутствующими ОКВЭД и названиями регионов, так как эти признаки критичны для нашей задачи."
   ]
  },
  {
   "cell_type": "code",
   "execution_count": 212,
   "metadata": {},
   "outputs": [],
   "source": [
    "df = df.dropna(subset =['mainOkved.name'])"
   ]
  },
  {
   "cell_type": "code",
   "execution_count": 213,
   "metadata": {},
   "outputs": [
    {
     "name": "stdout",
     "output_type": "stream",
     "text": [
      "<class 'pandas.core.frame.DataFrame'>\n",
      "Index: 538868 entries, 0 to 747030\n",
      "Data columns (total 23 columns):\n",
      " #   Column                                Non-Null Count   Dtype              \n",
      "---  ------                                --------------   -----              \n",
      " 0   regionName                            538860 non-null  object             \n",
      " 1   fullName                              538868 non-null  object             \n",
      " 2   ogrn                                  538868 non-null  int64              \n",
      " 3   egrulStatus                           538868 non-null  object             \n",
      " 4   regionCode                            538868 non-null  int64              \n",
      " 5   hasRegionalSupport                    538868 non-null  int64              \n",
      " 6   statusDetail.shortName                538868 non-null  object             \n",
      " 7   mainOkved.name                        538868 non-null  object             \n",
      " 8   mainOkved.code                        538868 non-null  object             \n",
      " 9   mainOkved.version                     538868 non-null  object             \n",
      " 10  incomeDetail.grants.totalCount        538868 non-null  int64              \n",
      " 11  incomeDetail.grants.totalSum          538868 non-null  float64            \n",
      " 12  incomeDetail.fedSubsidies.totalCount  538868 non-null  int64              \n",
      " 13  incomeDetail.fedSubsidies.totalSum    538868 non-null  float64            \n",
      " 14  incomeTotal                           538868 non-null  float64            \n",
      " 15  opf.code                              538868 non-null  int64              \n",
      " 16  opf.name                              538844 non-null  object             \n",
      " 17  contract_count                        538868 non-null  int64              \n",
      " 18  contract_sum                          538868 non-null  float64            \n",
      " 19  originDate                            538868 non-null  datetime64[ns, UTC]\n",
      " 20  dateOgrn                              538868 non-null  datetime64[ns, UTC]\n",
      " 21  dateLiquid                            209166 non-null  datetime64[ns, UTC]\n",
      " 22  dateReg                               146500 non-null  datetime64[ns, UTC]\n",
      "dtypes: datetime64[ns, UTC](4), float64(4), int64(7), object(8)\n",
      "memory usage: 98.7+ MB\n"
     ]
    }
   ],
   "source": [
    "df.info()"
   ]
  },
  {
   "cell_type": "markdown",
   "metadata": {},
   "source": [
    "Проверим отсутствующие значения в названиях регионов:"
   ]
  },
  {
   "cell_type": "code",
   "execution_count": 214,
   "metadata": {},
   "outputs": [
    {
     "data": {
      "text/html": [
       "<div>\n",
       "<style scoped>\n",
       "    .dataframe tbody tr th:only-of-type {\n",
       "        vertical-align: middle;\n",
       "    }\n",
       "\n",
       "    .dataframe tbody tr th {\n",
       "        vertical-align: top;\n",
       "    }\n",
       "\n",
       "    .dataframe thead th {\n",
       "        text-align: right;\n",
       "    }\n",
       "</style>\n",
       "<table border=\"1\" class=\"dataframe\">\n",
       "  <thead>\n",
       "    <tr style=\"text-align: right;\">\n",
       "      <th></th>\n",
       "      <th>regionName</th>\n",
       "      <th>fullName</th>\n",
       "      <th>ogrn</th>\n",
       "      <th>egrulStatus</th>\n",
       "      <th>regionCode</th>\n",
       "      <th>hasRegionalSupport</th>\n",
       "      <th>statusDetail.shortName</th>\n",
       "      <th>mainOkved.name</th>\n",
       "      <th>mainOkved.code</th>\n",
       "      <th>mainOkved.version</th>\n",
       "      <th>...</th>\n",
       "      <th>incomeDetail.fedSubsidies.totalSum</th>\n",
       "      <th>incomeTotal</th>\n",
       "      <th>opf.code</th>\n",
       "      <th>opf.name</th>\n",
       "      <th>contract_count</th>\n",
       "      <th>contract_sum</th>\n",
       "      <th>originDate</th>\n",
       "      <th>dateOgrn</th>\n",
       "      <th>dateLiquid</th>\n",
       "      <th>dateReg</th>\n",
       "    </tr>\n",
       "  </thead>\n",
       "  <tbody>\n",
       "    <tr>\n",
       "      <th>53316</th>\n",
       "      <td>None</td>\n",
       "      <td>ЖИЛИЩНО-СТРОИТЕЛЬНЫЙ КООПЕРАТИВ \"СПАРТАК-16\"</td>\n",
       "      <td>1031628201560</td>\n",
       "      <td>Ликвидирована</td>\n",
       "      <td>0</td>\n",
       "      <td>0</td>\n",
       "      <td>Действующая</td>\n",
       "      <td>Управление эксплуатацией жилого фонда</td>\n",
       "      <td>70.32.1</td>\n",
       "      <td>ОК 029-2001 (КДЕС Ред. 1)</td>\n",
       "      <td>...</td>\n",
       "      <td>0.0</td>\n",
       "      <td>0.0</td>\n",
       "      <td>85</td>\n",
       "      <td>Потребительский кооператив</td>\n",
       "      <td>0</td>\n",
       "      <td>0.0</td>\n",
       "      <td>1969-01-20 00:00:00+00:00</td>\n",
       "      <td>2003-01-17 00:00:00+00:00</td>\n",
       "      <td>2006-05-19 00:00:00+00:00</td>\n",
       "      <td>1969-01-20 00:00:00+00:00</td>\n",
       "    </tr>\n",
       "    <tr>\n",
       "      <th>54766</th>\n",
       "      <td>None</td>\n",
       "      <td>КРЕДИТНЫЙ ПОТРЕБИТЕЛЬСКИЙ КООПЕРАТИВ ГРАЖДАН \"...</td>\n",
       "      <td>1031625401565</td>\n",
       "      <td>Ликвидирована</td>\n",
       "      <td>0</td>\n",
       "      <td>0</td>\n",
       "      <td>Действующая</td>\n",
       "      <td>Предоставление потребительского кредита</td>\n",
       "      <td>65.22.1</td>\n",
       "      <td>ОК 029-2001 (КДЕС Ред. 1)</td>\n",
       "      <td>...</td>\n",
       "      <td>0.0</td>\n",
       "      <td>0.0</td>\n",
       "      <td>85</td>\n",
       "      <td>Потребительский кооператив</td>\n",
       "      <td>0</td>\n",
       "      <td>0.0</td>\n",
       "      <td>2003-02-05 00:00:00+00:00</td>\n",
       "      <td>2003-02-05 00:00:00+00:00</td>\n",
       "      <td>2009-03-24 00:00:00+00:00</td>\n",
       "      <td>NaT</td>\n",
       "    </tr>\n",
       "    <tr>\n",
       "      <th>68375</th>\n",
       "      <td>None</td>\n",
       "      <td>ГАРАЖНО-СТРОИТЕЛЬНЫЙ КООПЕРАТИВ \"ЭЛЕМТЭ-3\"</td>\n",
       "      <td>1031630221193</td>\n",
       "      <td>Ликвидирована</td>\n",
       "      <td>0</td>\n",
       "      <td>0</td>\n",
       "      <td>Действующая</td>\n",
       "      <td>Эксплуатация гаражей, стоянок для автотранспор...</td>\n",
       "      <td>63.21.24</td>\n",
       "      <td>ОК 029-2001 (КДЕС Ред. 1)</td>\n",
       "      <td>...</td>\n",
       "      <td>0.0</td>\n",
       "      <td>0.0</td>\n",
       "      <td>85</td>\n",
       "      <td>Потребительский кооператив</td>\n",
       "      <td>0</td>\n",
       "      <td>0.0</td>\n",
       "      <td>1997-05-12 00:00:00+00:00</td>\n",
       "      <td>2003-12-08 00:00:00+00:00</td>\n",
       "      <td>2009-06-16 00:00:00+00:00</td>\n",
       "      <td>1997-05-12 00:00:00+00:00</td>\n",
       "    </tr>\n",
       "    <tr>\n",
       "      <th>499182</th>\n",
       "      <td>None</td>\n",
       "      <td>ТОВАРИЩЕСТВО СОБСТВЕННИКОВ ЖИЛЬЯ \"ПОБЕДА\"</td>\n",
       "      <td>1041630209279</td>\n",
       "      <td>Ликвидирована</td>\n",
       "      <td>0</td>\n",
       "      <td>0</td>\n",
       "      <td>Действующая</td>\n",
       "      <td>Деятельность органов местного самоуправления п...</td>\n",
       "      <td>75.11.3</td>\n",
       "      <td>ОК 029-2001 (КДЕС Ред. 1)</td>\n",
       "      <td>...</td>\n",
       "      <td>0.0</td>\n",
       "      <td>0.0</td>\n",
       "      <td>94</td>\n",
       "      <td>Товарищество собственников жилья</td>\n",
       "      <td>0</td>\n",
       "      <td>0.0</td>\n",
       "      <td>2004-04-28 00:00:00+00:00</td>\n",
       "      <td>2004-04-28 00:00:00+00:00</td>\n",
       "      <td>2007-02-15 00:00:00+00:00</td>\n",
       "      <td>NaT</td>\n",
       "    </tr>\n",
       "    <tr>\n",
       "      <th>631662</th>\n",
       "      <td>None</td>\n",
       "      <td>ЖИЛИЩНО - СТРОИТЕЛЬНЫЙ КООПЕРАТИВ ВОЛГА - 51\"</td>\n",
       "      <td>1021603482460</td>\n",
       "      <td>Ликвидирована</td>\n",
       "      <td>0</td>\n",
       "      <td>0</td>\n",
       "      <td>Действующая</td>\n",
       "      <td>Деятельность прочих общественных организаций, ...</td>\n",
       "      <td>91.33</td>\n",
       "      <td>ОК 029-2001 (КДЕС Ред. 1)</td>\n",
       "      <td>...</td>\n",
       "      <td>0.0</td>\n",
       "      <td>0.0</td>\n",
       "      <td>85</td>\n",
       "      <td>Потребительский кооператив</td>\n",
       "      <td>0</td>\n",
       "      <td>0.0</td>\n",
       "      <td>1991-06-24 00:00:00+00:00</td>\n",
       "      <td>2002-12-21 00:00:00+00:00</td>\n",
       "      <td>2006-12-31 00:00:00+00:00</td>\n",
       "      <td>1991-06-24 00:00:00+00:00</td>\n",
       "    </tr>\n",
       "    <tr>\n",
       "      <th>632809</th>\n",
       "      <td>None</td>\n",
       "      <td>ЖИЛИЩНО - СТРОИТЕЛЬНЫЙ КООПЕРАТИВ \"ВОЛГА - 15\"</td>\n",
       "      <td>1021603624811</td>\n",
       "      <td>Ликвидирована</td>\n",
       "      <td>0</td>\n",
       "      <td>0</td>\n",
       "      <td>Действующая</td>\n",
       "      <td>Управление эксплуатацией жилого фонда</td>\n",
       "      <td>70.32.1</td>\n",
       "      <td>ОК 029-2001 (КДЕС Ред. 1)</td>\n",
       "      <td>...</td>\n",
       "      <td>0.0</td>\n",
       "      <td>0.0</td>\n",
       "      <td>85</td>\n",
       "      <td>Потребительский кооператив</td>\n",
       "      <td>0</td>\n",
       "      <td>0.0</td>\n",
       "      <td>1996-10-31 00:00:00+00:00</td>\n",
       "      <td>2002-11-18 00:00:00+00:00</td>\n",
       "      <td>2006-07-17 00:00:00+00:00</td>\n",
       "      <td>1996-10-31 00:00:00+00:00</td>\n",
       "    </tr>\n",
       "    <tr>\n",
       "      <th>633714</th>\n",
       "      <td>None</td>\n",
       "      <td>ЖИЛИЩНО-СТРОИТЕЛЬНЫЙ КООПЕРАТИВ \"ВОЛГА-24\"</td>\n",
       "      <td>1021603481932</td>\n",
       "      <td>Ликвидирована</td>\n",
       "      <td>0</td>\n",
       "      <td>0</td>\n",
       "      <td>Действующая</td>\n",
       "      <td>Управление эксплуатацией жилого фонда</td>\n",
       "      <td>70.32.1</td>\n",
       "      <td>ОК 029-2001 (КДЕС Ред. 1)</td>\n",
       "      <td>...</td>\n",
       "      <td>0.0</td>\n",
       "      <td>0.0</td>\n",
       "      <td>85</td>\n",
       "      <td>Потребительский кооператив</td>\n",
       "      <td>0</td>\n",
       "      <td>0.0</td>\n",
       "      <td>1971-10-12 00:00:00+00:00</td>\n",
       "      <td>2002-12-19 00:00:00+00:00</td>\n",
       "      <td>2006-05-17 00:00:00+00:00</td>\n",
       "      <td>1971-10-12 00:00:00+00:00</td>\n",
       "    </tr>\n",
       "    <tr>\n",
       "      <th>633758</th>\n",
       "      <td>None</td>\n",
       "      <td>ЖИЛИЩНО-СТРОИТЕЛЬНЫЙ КООПЕРАТИВ \"КАЗАНКА-18\"</td>\n",
       "      <td>1021603483703</td>\n",
       "      <td>Ликвидирована</td>\n",
       "      <td>0</td>\n",
       "      <td>0</td>\n",
       "      <td>Действующая</td>\n",
       "      <td>Управление эксплуатацией жилого фонда</td>\n",
       "      <td>70.32.1</td>\n",
       "      <td>ОК 029-2001 (КДЕС Ред. 1)</td>\n",
       "      <td>...</td>\n",
       "      <td>0.0</td>\n",
       "      <td>0.0</td>\n",
       "      <td>85</td>\n",
       "      <td>Потребительский кооператив</td>\n",
       "      <td>0</td>\n",
       "      <td>0.0</td>\n",
       "      <td>1991-09-02 00:00:00+00:00</td>\n",
       "      <td>2002-12-25 00:00:00+00:00</td>\n",
       "      <td>2006-06-14 00:00:00+00:00</td>\n",
       "      <td>1991-09-02 00:00:00+00:00</td>\n",
       "    </tr>\n",
       "  </tbody>\n",
       "</table>\n",
       "<p>8 rows × 23 columns</p>\n",
       "</div>"
      ],
      "text/plain": [
       "       regionName                                           fullName  \\\n",
       "53316        None       ЖИЛИЩНО-СТРОИТЕЛЬНЫЙ КООПЕРАТИВ \"СПАРТАК-16\"   \n",
       "54766        None  КРЕДИТНЫЙ ПОТРЕБИТЕЛЬСКИЙ КООПЕРАТИВ ГРАЖДАН \"...   \n",
       "68375        None         ГАРАЖНО-СТРОИТЕЛЬНЫЙ КООПЕРАТИВ \"ЭЛЕМТЭ-3\"   \n",
       "499182       None          ТОВАРИЩЕСТВО СОБСТВЕННИКОВ ЖИЛЬЯ \"ПОБЕДА\"   \n",
       "631662       None      ЖИЛИЩНО - СТРОИТЕЛЬНЫЙ КООПЕРАТИВ ВОЛГА - 51\"   \n",
       "632809       None     ЖИЛИЩНО - СТРОИТЕЛЬНЫЙ КООПЕРАТИВ \"ВОЛГА - 15\"   \n",
       "633714       None         ЖИЛИЩНО-СТРОИТЕЛЬНЫЙ КООПЕРАТИВ \"ВОЛГА-24\"   \n",
       "633758       None       ЖИЛИЩНО-СТРОИТЕЛЬНЫЙ КООПЕРАТИВ \"КАЗАНКА-18\"   \n",
       "\n",
       "                 ogrn    egrulStatus  regionCode  hasRegionalSupport  \\\n",
       "53316   1031628201560  Ликвидирована           0                   0   \n",
       "54766   1031625401565  Ликвидирована           0                   0   \n",
       "68375   1031630221193  Ликвидирована           0                   0   \n",
       "499182  1041630209279  Ликвидирована           0                   0   \n",
       "631662  1021603482460  Ликвидирована           0                   0   \n",
       "632809  1021603624811  Ликвидирована           0                   0   \n",
       "633714  1021603481932  Ликвидирована           0                   0   \n",
       "633758  1021603483703  Ликвидирована           0                   0   \n",
       "\n",
       "       statusDetail.shortName  \\\n",
       "53316             Действующая   \n",
       "54766             Действующая   \n",
       "68375             Действующая   \n",
       "499182            Действующая   \n",
       "631662            Действующая   \n",
       "632809            Действующая   \n",
       "633714            Действующая   \n",
       "633758            Действующая   \n",
       "\n",
       "                                           mainOkved.name mainOkved.code  \\\n",
       "53316               Управление эксплуатацией жилого фонда        70.32.1   \n",
       "54766             Предоставление потребительского кредита        65.22.1   \n",
       "68375   Эксплуатация гаражей, стоянок для автотранспор...       63.21.24   \n",
       "499182  Деятельность органов местного самоуправления п...        75.11.3   \n",
       "631662  Деятельность прочих общественных организаций, ...          91.33   \n",
       "632809              Управление эксплуатацией жилого фонда        70.32.1   \n",
       "633714              Управление эксплуатацией жилого фонда        70.32.1   \n",
       "633758              Управление эксплуатацией жилого фонда        70.32.1   \n",
       "\n",
       "                mainOkved.version  ...  incomeDetail.fedSubsidies.totalSum  \\\n",
       "53316   ОК 029-2001 (КДЕС Ред. 1)  ...                                 0.0   \n",
       "54766   ОК 029-2001 (КДЕС Ред. 1)  ...                                 0.0   \n",
       "68375   ОК 029-2001 (КДЕС Ред. 1)  ...                                 0.0   \n",
       "499182  ОК 029-2001 (КДЕС Ред. 1)  ...                                 0.0   \n",
       "631662  ОК 029-2001 (КДЕС Ред. 1)  ...                                 0.0   \n",
       "632809  ОК 029-2001 (КДЕС Ред. 1)  ...                                 0.0   \n",
       "633714  ОК 029-2001 (КДЕС Ред. 1)  ...                                 0.0   \n",
       "633758  ОК 029-2001 (КДЕС Ред. 1)  ...                                 0.0   \n",
       "\n",
       "        incomeTotal  opf.code                          opf.name  \\\n",
       "53316           0.0        85        Потребительский кооператив   \n",
       "54766           0.0        85        Потребительский кооператив   \n",
       "68375           0.0        85        Потребительский кооператив   \n",
       "499182          0.0        94  Товарищество собственников жилья   \n",
       "631662          0.0        85        Потребительский кооператив   \n",
       "632809          0.0        85        Потребительский кооператив   \n",
       "633714          0.0        85        Потребительский кооператив   \n",
       "633758          0.0        85        Потребительский кооператив   \n",
       "\n",
       "        contract_count  contract_sum                originDate  \\\n",
       "53316                0           0.0 1969-01-20 00:00:00+00:00   \n",
       "54766                0           0.0 2003-02-05 00:00:00+00:00   \n",
       "68375                0           0.0 1997-05-12 00:00:00+00:00   \n",
       "499182               0           0.0 2004-04-28 00:00:00+00:00   \n",
       "631662               0           0.0 1991-06-24 00:00:00+00:00   \n",
       "632809               0           0.0 1996-10-31 00:00:00+00:00   \n",
       "633714               0           0.0 1971-10-12 00:00:00+00:00   \n",
       "633758               0           0.0 1991-09-02 00:00:00+00:00   \n",
       "\n",
       "                        dateOgrn                dateLiquid  \\\n",
       "53316  2003-01-17 00:00:00+00:00 2006-05-19 00:00:00+00:00   \n",
       "54766  2003-02-05 00:00:00+00:00 2009-03-24 00:00:00+00:00   \n",
       "68375  2003-12-08 00:00:00+00:00 2009-06-16 00:00:00+00:00   \n",
       "499182 2004-04-28 00:00:00+00:00 2007-02-15 00:00:00+00:00   \n",
       "631662 2002-12-21 00:00:00+00:00 2006-12-31 00:00:00+00:00   \n",
       "632809 2002-11-18 00:00:00+00:00 2006-07-17 00:00:00+00:00   \n",
       "633714 2002-12-19 00:00:00+00:00 2006-05-17 00:00:00+00:00   \n",
       "633758 2002-12-25 00:00:00+00:00 2006-06-14 00:00:00+00:00   \n",
       "\n",
       "                         dateReg  \n",
       "53316  1969-01-20 00:00:00+00:00  \n",
       "54766                        NaT  \n",
       "68375  1997-05-12 00:00:00+00:00  \n",
       "499182                       NaT  \n",
       "631662 1991-06-24 00:00:00+00:00  \n",
       "632809 1996-10-31 00:00:00+00:00  \n",
       "633714 1971-10-12 00:00:00+00:00  \n",
       "633758 1991-09-02 00:00:00+00:00  \n",
       "\n",
       "[8 rows x 23 columns]"
      ]
     },
     "metadata": {},
     "output_type": "display_data"
    }
   ],
   "source": [
    "display(df[df['regionName'].isnull()])"
   ]
  },
  {
   "cell_type": "markdown",
   "metadata": {},
   "source": [
    "При них нет и кодов, поэтому можем удалить эти строки."
   ]
  },
  {
   "cell_type": "code",
   "execution_count": 215,
   "metadata": {},
   "outputs": [],
   "source": [
    "df = df.dropna(subset =['regionName'])"
   ]
  },
  {
   "cell_type": "markdown",
   "metadata": {},
   "source": [
    "Среди значений regionName есть значения 'Не определено', им соответствует код региона 99. Заменим, соответственно, название региона на Москву."
   ]
  },
  {
   "cell_type": "code",
   "execution_count": 216,
   "metadata": {},
   "outputs": [
    {
     "data": {
      "text/html": [
       "<div>\n",
       "<style scoped>\n",
       "    .dataframe tbody tr th:only-of-type {\n",
       "        vertical-align: middle;\n",
       "    }\n",
       "\n",
       "    .dataframe tbody tr th {\n",
       "        vertical-align: top;\n",
       "    }\n",
       "\n",
       "    .dataframe thead th {\n",
       "        text-align: right;\n",
       "    }\n",
       "</style>\n",
       "<table border=\"1\" class=\"dataframe\">\n",
       "  <thead>\n",
       "    <tr style=\"text-align: right;\">\n",
       "      <th></th>\n",
       "      <th>regionName</th>\n",
       "      <th>fullName</th>\n",
       "      <th>ogrn</th>\n",
       "      <th>egrulStatus</th>\n",
       "      <th>regionCode</th>\n",
       "      <th>hasRegionalSupport</th>\n",
       "      <th>statusDetail.shortName</th>\n",
       "      <th>mainOkved.name</th>\n",
       "      <th>mainOkved.code</th>\n",
       "      <th>mainOkved.version</th>\n",
       "      <th>...</th>\n",
       "      <th>incomeDetail.fedSubsidies.totalSum</th>\n",
       "      <th>incomeTotal</th>\n",
       "      <th>opf.code</th>\n",
       "      <th>opf.name</th>\n",
       "      <th>contract_count</th>\n",
       "      <th>contract_sum</th>\n",
       "      <th>originDate</th>\n",
       "      <th>dateOgrn</th>\n",
       "      <th>dateLiquid</th>\n",
       "      <th>dateReg</th>\n",
       "    </tr>\n",
       "  </thead>\n",
       "  <tbody>\n",
       "    <tr>\n",
       "      <th>3277</th>\n",
       "      <td>Не определено</td>\n",
       "      <td>КРЕДИТНЫЙ ПОТРЕБИТЕЛЬСКИЙ КООПЕРАТИВ \"БОЛЬШОЙ ...</td>\n",
       "      <td>1209900000100</td>\n",
       "      <td>Действует</td>\n",
       "      <td>99</td>\n",
       "      <td>0</td>\n",
       "      <td>Действующая</td>\n",
       "      <td>Деятельность по финансовой взаимопомощи</td>\n",
       "      <td>64.99.6</td>\n",
       "      <td>ОК 029-2014 (КДЕС Ред. 2)</td>\n",
       "      <td>...</td>\n",
       "      <td>0.0</td>\n",
       "      <td>0.0</td>\n",
       "      <td>20104</td>\n",
       "      <td>Кредитные потребительские кооперативы</td>\n",
       "      <td>0</td>\n",
       "      <td>0.0</td>\n",
       "      <td>2020-12-28 00:00:00+00:00</td>\n",
       "      <td>2020-12-28 00:00:00+00:00</td>\n",
       "      <td>NaT</td>\n",
       "      <td>NaT</td>\n",
       "    </tr>\n",
       "    <tr>\n",
       "      <th>3721</th>\n",
       "      <td>Не определено</td>\n",
       "      <td>БАЙКОНУРСКАЯ ГОРОДСКАЯ ОБЩЕСТВЕННАЯ ОРГАНИЗАЦИ...</td>\n",
       "      <td>1205000106970</td>\n",
       "      <td>Действует</td>\n",
       "      <td>99</td>\n",
       "      <td>0</td>\n",
       "      <td>Действующая</td>\n",
       "      <td>Деятельность прочих общественных организаций, ...</td>\n",
       "      <td>94.99</td>\n",
       "      <td>ОК 029-2014 (КДЕС Ред. 2)</td>\n",
       "      <td>...</td>\n",
       "      <td>0.0</td>\n",
       "      <td>0.0</td>\n",
       "      <td>20200</td>\n",
       "      <td>Общественные организации</td>\n",
       "      <td>0</td>\n",
       "      <td>0.0</td>\n",
       "      <td>2020-11-20 00:00:00+00:00</td>\n",
       "      <td>2020-11-20 00:00:00+00:00</td>\n",
       "      <td>NaT</td>\n",
       "      <td>NaT</td>\n",
       "    </tr>\n",
       "    <tr>\n",
       "      <th>35939</th>\n",
       "      <td>Не определено</td>\n",
       "      <td>ОБЩЕСТВЕННАЯ ОРГАНИЗАЦИЯ \"БАЙКОНУРСКАЯ ФЕДЕРАЦ...</td>\n",
       "      <td>1095000003977</td>\n",
       "      <td>Ликвидирована</td>\n",
       "      <td>99</td>\n",
       "      <td>0</td>\n",
       "      <td>Действующая</td>\n",
       "      <td>Деятельность прочих общественных организаций, ...</td>\n",
       "      <td>94.99</td>\n",
       "      <td>ОК 029-2014 (КДЕС Ред. 2)</td>\n",
       "      <td>...</td>\n",
       "      <td>0.0</td>\n",
       "      <td>0.0</td>\n",
       "      <td>0</td>\n",
       "      <td>ОБЩЕСТВЕННАЯ ОРГАНИЗАЦИЯ</td>\n",
       "      <td>0</td>\n",
       "      <td>0.0</td>\n",
       "      <td>2009-07-30 00:00:00+00:00</td>\n",
       "      <td>2009-07-30 00:00:00+00:00</td>\n",
       "      <td>2017-10-11 00:00:00+00:00</td>\n",
       "      <td>NaT</td>\n",
       "    </tr>\n",
       "    <tr>\n",
       "      <th>53752</th>\n",
       "      <td>Не определено</td>\n",
       "      <td>ПОТРЕБИТЕЛЬСКИЙ КООПЕРАТИВ \"ГАРАЖНО-СТРОИТЕЛЬН...</td>\n",
       "      <td>1039923000974</td>\n",
       "      <td>Ликвидирована</td>\n",
       "      <td>99</td>\n",
       "      <td>0</td>\n",
       "      <td>Действующая</td>\n",
       "      <td>Хранение и складирование</td>\n",
       "      <td>63.12</td>\n",
       "      <td>ОК 029-2001 (КДЕС Ред. 1)</td>\n",
       "      <td>...</td>\n",
       "      <td>0.0</td>\n",
       "      <td>0.0</td>\n",
       "      <td>85</td>\n",
       "      <td>Потребительский кооператив</td>\n",
       "      <td>0</td>\n",
       "      <td>0.0</td>\n",
       "      <td>2002-05-27 00:00:00+00:00</td>\n",
       "      <td>2003-05-20 00:00:00+00:00</td>\n",
       "      <td>2011-02-18 00:00:00+00:00</td>\n",
       "      <td>2002-05-27 00:00:00+00:00</td>\n",
       "    </tr>\n",
       "    <tr>\n",
       "      <th>57799</th>\n",
       "      <td>Не определено</td>\n",
       "      <td>ПОТРЕБИТЕЛЬСКИЙ КООПЕРАТИВ \"ГАРАЖНО-СТРОИТЕЛЬН...</td>\n",
       "      <td>1039923001535</td>\n",
       "      <td>Действует</td>\n",
       "      <td>99</td>\n",
       "      <td>0</td>\n",
       "      <td>Действующая</td>\n",
       "      <td>Деятельность стоянок для транспортных средств</td>\n",
       "      <td>52.21.24</td>\n",
       "      <td>ОК 029-2014 (КДЕС Ред. 2)</td>\n",
       "      <td>...</td>\n",
       "      <td>0.0</td>\n",
       "      <td>0.0</td>\n",
       "      <td>20101</td>\n",
       "      <td>Гаражные и гаражно-строительные кооперативы</td>\n",
       "      <td>0</td>\n",
       "      <td>0.0</td>\n",
       "      <td>2000-12-19 00:00:00+00:00</td>\n",
       "      <td>2003-09-12 00:00:00+00:00</td>\n",
       "      <td>NaT</td>\n",
       "      <td>2000-12-19 00:00:00+00:00</td>\n",
       "    </tr>\n",
       "    <tr>\n",
       "      <th>...</th>\n",
       "      <td>...</td>\n",
       "      <td>...</td>\n",
       "      <td>...</td>\n",
       "      <td>...</td>\n",
       "      <td>...</td>\n",
       "      <td>...</td>\n",
       "      <td>...</td>\n",
       "      <td>...</td>\n",
       "      <td>...</td>\n",
       "      <td>...</td>\n",
       "      <td>...</td>\n",
       "      <td>...</td>\n",
       "      <td>...</td>\n",
       "      <td>...</td>\n",
       "      <td>...</td>\n",
       "      <td>...</td>\n",
       "      <td>...</td>\n",
       "      <td>...</td>\n",
       "      <td>...</td>\n",
       "      <td>...</td>\n",
       "      <td>...</td>\n",
       "    </tr>\n",
       "    <tr>\n",
       "      <th>712352</th>\n",
       "      <td>Не определено</td>\n",
       "      <td>ПРОФСОЮЗНАЯ ОРГАНИЗАЦИЯ РАБОТНИКОВ ГОСУДАРСТВЕ...</td>\n",
       "      <td>1055000008139</td>\n",
       "      <td>Ликвидирована</td>\n",
       "      <td>99</td>\n",
       "      <td>0</td>\n",
       "      <td>Действующая</td>\n",
       "      <td>Деятельность профессиональных союзов</td>\n",
       "      <td>94.20</td>\n",
       "      <td>ОК 029-2014 (КДЕС Ред. 2)</td>\n",
       "      <td>...</td>\n",
       "      <td>0.0</td>\n",
       "      <td>0.0</td>\n",
       "      <td>20202</td>\n",
       "      <td>Профсоюзные организации</td>\n",
       "      <td>0</td>\n",
       "      <td>0.0</td>\n",
       "      <td>2005-05-19 00:00:00+00:00</td>\n",
       "      <td>2005-05-19 00:00:00+00:00</td>\n",
       "      <td>2019-07-12 00:00:00+00:00</td>\n",
       "      <td>NaT</td>\n",
       "    </tr>\n",
       "    <tr>\n",
       "      <th>733025</th>\n",
       "      <td>Не определено</td>\n",
       "      <td>ПОТРЕБИТЕЛЬСКИЙ КООПЕРАТИВ \"ГАРАЖНО-СТРОИТЕЛЬН...</td>\n",
       "      <td>1059930305192</td>\n",
       "      <td>Ликвидирована</td>\n",
       "      <td>99</td>\n",
       "      <td>0</td>\n",
       "      <td>Действующая</td>\n",
       "      <td>Эксплуатация гаражей, стоянок для автотранспор...</td>\n",
       "      <td>63.21.24</td>\n",
       "      <td>ОК 029-2001 (КДЕС Ред. 1)</td>\n",
       "      <td>...</td>\n",
       "      <td>0.0</td>\n",
       "      <td>0.0</td>\n",
       "      <td>85</td>\n",
       "      <td>Потребительский кооператив</td>\n",
       "      <td>0</td>\n",
       "      <td>0.0</td>\n",
       "      <td>2005-08-17 00:00:00+00:00</td>\n",
       "      <td>2005-08-17 00:00:00+00:00</td>\n",
       "      <td>2011-02-18 00:00:00+00:00</td>\n",
       "      <td>NaT</td>\n",
       "    </tr>\n",
       "    <tr>\n",
       "      <th>733931</th>\n",
       "      <td>Не определено</td>\n",
       "      <td>ПОТРЕБИТЕЛЬСКИЙ КООПЕРАТИВ \"ГАРАЖНО-СТРОИТЕЛЬН...</td>\n",
       "      <td>1059930301947</td>\n",
       "      <td>Действует</td>\n",
       "      <td>99</td>\n",
       "      <td>0</td>\n",
       "      <td>Действующая</td>\n",
       "      <td>Деятельность стоянок для транспортных средств</td>\n",
       "      <td>52.21.24</td>\n",
       "      <td>ОК 029-2014 (КДЕС Ред. 2)</td>\n",
       "      <td>...</td>\n",
       "      <td>0.0</td>\n",
       "      <td>0.0</td>\n",
       "      <td>20101</td>\n",
       "      <td>Гаражные и гаражно-строительные кооперативы</td>\n",
       "      <td>0</td>\n",
       "      <td>0.0</td>\n",
       "      <td>2005-04-26 00:00:00+00:00</td>\n",
       "      <td>2005-04-26 00:00:00+00:00</td>\n",
       "      <td>NaT</td>\n",
       "      <td>NaT</td>\n",
       "    </tr>\n",
       "    <tr>\n",
       "      <th>736036</th>\n",
       "      <td>Не определено</td>\n",
       "      <td>ПОТРЕБИТЕЛЬСКИЙ КООПЕРАТИВ \"ГАРАЖНО-СТРОИТЕЛЬН...</td>\n",
       "      <td>1059930306336</td>\n",
       "      <td>Действует</td>\n",
       "      <td>99</td>\n",
       "      <td>0</td>\n",
       "      <td>Действующая</td>\n",
       "      <td>Деятельность стоянок для транспортных средств</td>\n",
       "      <td>52.21.24</td>\n",
       "      <td>ОК 029-2014 (КДЕС Ред. 2)</td>\n",
       "      <td>...</td>\n",
       "      <td>0.0</td>\n",
       "      <td>0.0</td>\n",
       "      <td>20101</td>\n",
       "      <td>Гаражные и гаражно-строительные кооперативы</td>\n",
       "      <td>0</td>\n",
       "      <td>0.0</td>\n",
       "      <td>2005-11-29 00:00:00+00:00</td>\n",
       "      <td>2005-11-29 00:00:00+00:00</td>\n",
       "      <td>NaT</td>\n",
       "      <td>NaT</td>\n",
       "    </tr>\n",
       "    <tr>\n",
       "      <th>739768</th>\n",
       "      <td>Не определено</td>\n",
       "      <td>ПОТРЕБИТЕЛЬСКИЙ КООПЕРАТИВ \"ГАРАЖНО-СТРОИТЕЛЬН...</td>\n",
       "      <td>1069901003435</td>\n",
       "      <td>Действует</td>\n",
       "      <td>99</td>\n",
       "      <td>0</td>\n",
       "      <td>Действующая</td>\n",
       "      <td>Деятельность стоянок для транспортных средств</td>\n",
       "      <td>52.21.24</td>\n",
       "      <td>ОК 029-2014 (КДЕС Ред. 2)</td>\n",
       "      <td>...</td>\n",
       "      <td>0.0</td>\n",
       "      <td>0.0</td>\n",
       "      <td>20101</td>\n",
       "      <td>Гаражные и гаражно-строительные кооперативы</td>\n",
       "      <td>0</td>\n",
       "      <td>0.0</td>\n",
       "      <td>2006-04-14 00:00:00+00:00</td>\n",
       "      <td>2006-04-14 00:00:00+00:00</td>\n",
       "      <td>NaT</td>\n",
       "      <td>NaT</td>\n",
       "    </tr>\n",
       "  </tbody>\n",
       "</table>\n",
       "<p>68 rows × 23 columns</p>\n",
       "</div>"
      ],
      "text/plain": [
       "           regionName                                           fullName  \\\n",
       "3277    Не определено  КРЕДИТНЫЙ ПОТРЕБИТЕЛЬСКИЙ КООПЕРАТИВ \"БОЛЬШОЙ ...   \n",
       "3721    Не определено  БАЙКОНУРСКАЯ ГОРОДСКАЯ ОБЩЕСТВЕННАЯ ОРГАНИЗАЦИ...   \n",
       "35939   Не определено  ОБЩЕСТВЕННАЯ ОРГАНИЗАЦИЯ \"БАЙКОНУРСКАЯ ФЕДЕРАЦ...   \n",
       "53752   Не определено  ПОТРЕБИТЕЛЬСКИЙ КООПЕРАТИВ \"ГАРАЖНО-СТРОИТЕЛЬН...   \n",
       "57799   Не определено  ПОТРЕБИТЕЛЬСКИЙ КООПЕРАТИВ \"ГАРАЖНО-СТРОИТЕЛЬН...   \n",
       "...               ...                                                ...   \n",
       "712352  Не определено  ПРОФСОЮЗНАЯ ОРГАНИЗАЦИЯ РАБОТНИКОВ ГОСУДАРСТВЕ...   \n",
       "733025  Не определено  ПОТРЕБИТЕЛЬСКИЙ КООПЕРАТИВ \"ГАРАЖНО-СТРОИТЕЛЬН...   \n",
       "733931  Не определено  ПОТРЕБИТЕЛЬСКИЙ КООПЕРАТИВ \"ГАРАЖНО-СТРОИТЕЛЬН...   \n",
       "736036  Не определено  ПОТРЕБИТЕЛЬСКИЙ КООПЕРАТИВ \"ГАРАЖНО-СТРОИТЕЛЬН...   \n",
       "739768  Не определено  ПОТРЕБИТЕЛЬСКИЙ КООПЕРАТИВ \"ГАРАЖНО-СТРОИТЕЛЬН...   \n",
       "\n",
       "                 ogrn    egrulStatus  regionCode  hasRegionalSupport  \\\n",
       "3277    1209900000100      Действует          99                   0   \n",
       "3721    1205000106970      Действует          99                   0   \n",
       "35939   1095000003977  Ликвидирована          99                   0   \n",
       "53752   1039923000974  Ликвидирована          99                   0   \n",
       "57799   1039923001535      Действует          99                   0   \n",
       "...               ...            ...         ...                 ...   \n",
       "712352  1055000008139  Ликвидирована          99                   0   \n",
       "733025  1059930305192  Ликвидирована          99                   0   \n",
       "733931  1059930301947      Действует          99                   0   \n",
       "736036  1059930306336      Действует          99                   0   \n",
       "739768  1069901003435      Действует          99                   0   \n",
       "\n",
       "       statusDetail.shortName  \\\n",
       "3277              Действующая   \n",
       "3721              Действующая   \n",
       "35939             Действующая   \n",
       "53752             Действующая   \n",
       "57799             Действующая   \n",
       "...                       ...   \n",
       "712352            Действующая   \n",
       "733025            Действующая   \n",
       "733931            Действующая   \n",
       "736036            Действующая   \n",
       "739768            Действующая   \n",
       "\n",
       "                                           mainOkved.name mainOkved.code  \\\n",
       "3277              Деятельность по финансовой взаимопомощи        64.99.6   \n",
       "3721    Деятельность прочих общественных организаций, ...          94.99   \n",
       "35939   Деятельность прочих общественных организаций, ...          94.99   \n",
       "53752                            Хранение и складирование          63.12   \n",
       "57799       Деятельность стоянок для транспортных средств       52.21.24   \n",
       "...                                                   ...            ...   \n",
       "712352               Деятельность профессиональных союзов          94.20   \n",
       "733025  Эксплуатация гаражей, стоянок для автотранспор...       63.21.24   \n",
       "733931      Деятельность стоянок для транспортных средств       52.21.24   \n",
       "736036      Деятельность стоянок для транспортных средств       52.21.24   \n",
       "739768      Деятельность стоянок для транспортных средств       52.21.24   \n",
       "\n",
       "                mainOkved.version  ...  incomeDetail.fedSubsidies.totalSum  \\\n",
       "3277    ОК 029-2014 (КДЕС Ред. 2)  ...                                 0.0   \n",
       "3721    ОК 029-2014 (КДЕС Ред. 2)  ...                                 0.0   \n",
       "35939   ОК 029-2014 (КДЕС Ред. 2)  ...                                 0.0   \n",
       "53752   ОК 029-2001 (КДЕС Ред. 1)  ...                                 0.0   \n",
       "57799   ОК 029-2014 (КДЕС Ред. 2)  ...                                 0.0   \n",
       "...                           ...  ...                                 ...   \n",
       "712352  ОК 029-2014 (КДЕС Ред. 2)  ...                                 0.0   \n",
       "733025  ОК 029-2001 (КДЕС Ред. 1)  ...                                 0.0   \n",
       "733931  ОК 029-2014 (КДЕС Ред. 2)  ...                                 0.0   \n",
       "736036  ОК 029-2014 (КДЕС Ред. 2)  ...                                 0.0   \n",
       "739768  ОК 029-2014 (КДЕС Ред. 2)  ...                                 0.0   \n",
       "\n",
       "        incomeTotal  opf.code                                     opf.name  \\\n",
       "3277            0.0     20104        Кредитные потребительские кооперативы   \n",
       "3721            0.0     20200                     Общественные организации   \n",
       "35939           0.0         0                     ОБЩЕСТВЕННАЯ ОРГАНИЗАЦИЯ   \n",
       "53752           0.0        85                   Потребительский кооператив   \n",
       "57799           0.0     20101  Гаражные и гаражно-строительные кооперативы   \n",
       "...             ...       ...                                          ...   \n",
       "712352          0.0     20202                      Профсоюзные организации   \n",
       "733025          0.0        85                   Потребительский кооператив   \n",
       "733931          0.0     20101  Гаражные и гаражно-строительные кооперативы   \n",
       "736036          0.0     20101  Гаражные и гаражно-строительные кооперативы   \n",
       "739768          0.0     20101  Гаражные и гаражно-строительные кооперативы   \n",
       "\n",
       "        contract_count  contract_sum                originDate  \\\n",
       "3277                 0           0.0 2020-12-28 00:00:00+00:00   \n",
       "3721                 0           0.0 2020-11-20 00:00:00+00:00   \n",
       "35939                0           0.0 2009-07-30 00:00:00+00:00   \n",
       "53752                0           0.0 2002-05-27 00:00:00+00:00   \n",
       "57799                0           0.0 2000-12-19 00:00:00+00:00   \n",
       "...                ...           ...                       ...   \n",
       "712352               0           0.0 2005-05-19 00:00:00+00:00   \n",
       "733025               0           0.0 2005-08-17 00:00:00+00:00   \n",
       "733931               0           0.0 2005-04-26 00:00:00+00:00   \n",
       "736036               0           0.0 2005-11-29 00:00:00+00:00   \n",
       "739768               0           0.0 2006-04-14 00:00:00+00:00   \n",
       "\n",
       "                        dateOgrn                dateLiquid  \\\n",
       "3277   2020-12-28 00:00:00+00:00                       NaT   \n",
       "3721   2020-11-20 00:00:00+00:00                       NaT   \n",
       "35939  2009-07-30 00:00:00+00:00 2017-10-11 00:00:00+00:00   \n",
       "53752  2003-05-20 00:00:00+00:00 2011-02-18 00:00:00+00:00   \n",
       "57799  2003-09-12 00:00:00+00:00                       NaT   \n",
       "...                          ...                       ...   \n",
       "712352 2005-05-19 00:00:00+00:00 2019-07-12 00:00:00+00:00   \n",
       "733025 2005-08-17 00:00:00+00:00 2011-02-18 00:00:00+00:00   \n",
       "733931 2005-04-26 00:00:00+00:00                       NaT   \n",
       "736036 2005-11-29 00:00:00+00:00                       NaT   \n",
       "739768 2006-04-14 00:00:00+00:00                       NaT   \n",
       "\n",
       "                         dateReg  \n",
       "3277                         NaT  \n",
       "3721                         NaT  \n",
       "35939                        NaT  \n",
       "53752  2002-05-27 00:00:00+00:00  \n",
       "57799  2000-12-19 00:00:00+00:00  \n",
       "...                          ...  \n",
       "712352                       NaT  \n",
       "733025                       NaT  \n",
       "733931                       NaT  \n",
       "736036                       NaT  \n",
       "739768                       NaT  \n",
       "\n",
       "[68 rows x 23 columns]"
      ]
     },
     "execution_count": 216,
     "metadata": {},
     "output_type": "execute_result"
    }
   ],
   "source": [
    "df[df['regionCode'] == 99]"
   ]
  },
  {
   "cell_type": "code",
   "execution_count": 217,
   "metadata": {},
   "outputs": [],
   "source": [
    "df.loc[df['regionCode'] == 99, 'regionName'] = 'Москва'"
   ]
  },
  {
   "cell_type": "code",
   "execution_count": 218,
   "metadata": {},
   "outputs": [],
   "source": [
    "#заменим код 99 на 77, чтобы везде обозначения региона \"Москва\" были одинаковыми\n",
    "df['regionCode'] = df['regionCode'].apply(lambda x: 77 if x==99 else x)"
   ]
  },
  {
   "cell_type": "code",
   "execution_count": 219,
   "metadata": {},
   "outputs": [
    {
     "data": {
      "text/plain": [
       "1"
      ]
     },
     "execution_count": 219,
     "metadata": {},
     "output_type": "execute_result"
    }
   ],
   "source": [
    "df['regionCode'].min() #прверим, нет ли больше 0-го регионального кода, то есть отсутствующего значения"
   ]
  },
  {
   "cell_type": "markdown",
   "metadata": {},
   "source": [
    "У нас есть две даты создания организации - dateReg (для организаций, зарегистрированных до 2002 года) и originDate - просто дата возникновения. Проверим, совпадают ли эти даты:"
   ]
  },
  {
   "cell_type": "code",
   "execution_count": 220,
   "metadata": {},
   "outputs": [
    {
     "data": {
      "text/html": [
       "<div>\n",
       "<style scoped>\n",
       "    .dataframe tbody tr th:only-of-type {\n",
       "        vertical-align: middle;\n",
       "    }\n",
       "\n",
       "    .dataframe tbody tr th {\n",
       "        vertical-align: top;\n",
       "    }\n",
       "\n",
       "    .dataframe thead th {\n",
       "        text-align: right;\n",
       "    }\n",
       "</style>\n",
       "<table border=\"1\" class=\"dataframe\">\n",
       "  <thead>\n",
       "    <tr style=\"text-align: right;\">\n",
       "      <th></th>\n",
       "      <th>regionName</th>\n",
       "      <th>fullName</th>\n",
       "      <th>ogrn</th>\n",
       "      <th>egrulStatus</th>\n",
       "      <th>regionCode</th>\n",
       "      <th>hasRegionalSupport</th>\n",
       "      <th>statusDetail.shortName</th>\n",
       "      <th>mainOkved.name</th>\n",
       "      <th>mainOkved.code</th>\n",
       "      <th>mainOkved.version</th>\n",
       "      <th>...</th>\n",
       "      <th>incomeDetail.fedSubsidies.totalSum</th>\n",
       "      <th>incomeTotal</th>\n",
       "      <th>opf.code</th>\n",
       "      <th>opf.name</th>\n",
       "      <th>contract_count</th>\n",
       "      <th>contract_sum</th>\n",
       "      <th>originDate</th>\n",
       "      <th>dateOgrn</th>\n",
       "      <th>dateLiquid</th>\n",
       "      <th>dateReg</th>\n",
       "    </tr>\n",
       "  </thead>\n",
       "  <tbody>\n",
       "  </tbody>\n",
       "</table>\n",
       "<p>0 rows × 23 columns</p>\n",
       "</div>"
      ],
      "text/plain": [
       "Empty DataFrame\n",
       "Columns: [regionName, fullName, ogrn, egrulStatus, regionCode, hasRegionalSupport, statusDetail.shortName, mainOkved.name, mainOkved.code, mainOkved.version, incomeDetail.grants.totalCount, incomeDetail.grants.totalSum, incomeDetail.fedSubsidies.totalCount, incomeDetail.fedSubsidies.totalSum, incomeTotal, opf.code, opf.name, contract_count, contract_sum, originDate, dateOgrn, dateLiquid, dateReg]\n",
       "Index: []\n",
       "\n",
       "[0 rows x 23 columns]"
      ]
     },
     "execution_count": 220,
     "metadata": {},
     "output_type": "execute_result"
    }
   ],
   "source": [
    "notnaReg = df[df['dateReg'].notna()]\n",
    "notnaReg[notnaReg['dateReg'] != notnaReg['originDate']]\n",
    "#все существующие значения dateReg совпадают с originDate, поэтому можно удалить dateReg"
   ]
  },
  {
   "cell_type": "code",
   "execution_count": 221,
   "metadata": {},
   "outputs": [
    {
     "name": "stdout",
     "output_type": "stream",
     "text": [
      "<class 'pandas.core.frame.DataFrame'>\n",
      "Index: 538860 entries, 0 to 747030\n",
      "Data columns (total 22 columns):\n",
      " #   Column                                Non-Null Count   Dtype              \n",
      "---  ------                                --------------   -----              \n",
      " 0   regionName                            538860 non-null  object             \n",
      " 1   fullName                              538860 non-null  object             \n",
      " 2   ogrn                                  538860 non-null  int64              \n",
      " 3   egrulStatus                           538860 non-null  object             \n",
      " 4   regionCode                            538860 non-null  int64              \n",
      " 5   hasRegionalSupport                    538860 non-null  int64              \n",
      " 6   statusDetail.shortName                538860 non-null  object             \n",
      " 7   mainOkved.name                        538860 non-null  object             \n",
      " 8   mainOkved.code                        538860 non-null  object             \n",
      " 9   mainOkved.version                     538860 non-null  object             \n",
      " 10  incomeDetail.grants.totalCount        538860 non-null  int64              \n",
      " 11  incomeDetail.grants.totalSum          538860 non-null  float64            \n",
      " 12  incomeDetail.fedSubsidies.totalCount  538860 non-null  int64              \n",
      " 13  incomeDetail.fedSubsidies.totalSum    538860 non-null  float64            \n",
      " 14  incomeTotal                           538860 non-null  float64            \n",
      " 15  opf.code                              538860 non-null  int64              \n",
      " 16  opf.name                              538836 non-null  object             \n",
      " 17  contract_count                        538860 non-null  int64              \n",
      " 18  contract_sum                          538860 non-null  float64            \n",
      " 19  originDate                            538860 non-null  datetime64[ns, UTC]\n",
      " 20  dateOgrn                              538860 non-null  datetime64[ns, UTC]\n",
      " 21  dateLiquid                            209158 non-null  datetime64[ns, UTC]\n",
      "dtypes: datetime64[ns, UTC](3), float64(4), int64(7), object(8)\n",
      "memory usage: 94.6+ MB\n"
     ]
    }
   ],
   "source": [
    "df = df.drop(columns=['dateReg'])\n",
    "df.info()"
   ]
  },
  {
   "cell_type": "markdown",
   "metadata": {},
   "source": [
    "## Feature Engineering"
   ]
  },
  {
   "cell_type": "markdown",
   "metadata": {},
   "source": [
    "Посмотрим на самую старую и самую новую даты регистрации НКО."
   ]
  },
  {
   "cell_type": "code",
   "execution_count": 222,
   "metadata": {},
   "outputs": [
    {
     "name": "stdout",
     "output_type": "stream",
     "text": [
      "1881-01-29 00:00:00+00:00\n",
      "2021-08-19 00:00:00+00:00\n"
     ]
    }
   ],
   "source": [
    "print(df['originDate'].min())\n",
    "print(df['originDate'].max())"
   ]
  },
  {
   "cell_type": "markdown",
   "metadata": {},
   "source": [
    "Что касается самой старой даты, то, возможно это ошибка или выброс."
   ]
  },
  {
   "cell_type": "code",
   "execution_count": 223,
   "metadata": {},
   "outputs": [
    {
     "data": {
      "text/html": [
       "<div>\n",
       "<style scoped>\n",
       "    .dataframe tbody tr th:only-of-type {\n",
       "        vertical-align: middle;\n",
       "    }\n",
       "\n",
       "    .dataframe tbody tr th {\n",
       "        vertical-align: top;\n",
       "    }\n",
       "\n",
       "    .dataframe thead th {\n",
       "        text-align: right;\n",
       "    }\n",
       "</style>\n",
       "<table border=\"1\" class=\"dataframe\">\n",
       "  <thead>\n",
       "    <tr style=\"text-align: right;\">\n",
       "      <th></th>\n",
       "      <th>regionName</th>\n",
       "      <th>fullName</th>\n",
       "      <th>ogrn</th>\n",
       "      <th>egrulStatus</th>\n",
       "      <th>regionCode</th>\n",
       "      <th>hasRegionalSupport</th>\n",
       "      <th>statusDetail.shortName</th>\n",
       "      <th>mainOkved.name</th>\n",
       "      <th>mainOkved.code</th>\n",
       "      <th>mainOkved.version</th>\n",
       "      <th>...</th>\n",
       "      <th>incomeDetail.fedSubsidies.totalCount</th>\n",
       "      <th>incomeDetail.fedSubsidies.totalSum</th>\n",
       "      <th>incomeTotal</th>\n",
       "      <th>opf.code</th>\n",
       "      <th>opf.name</th>\n",
       "      <th>contract_count</th>\n",
       "      <th>contract_sum</th>\n",
       "      <th>originDate</th>\n",
       "      <th>dateOgrn</th>\n",
       "      <th>dateLiquid</th>\n",
       "    </tr>\n",
       "  </thead>\n",
       "  <tbody>\n",
       "    <tr>\n",
       "      <th>37554</th>\n",
       "      <td>Московская область</td>\n",
       "      <td>САДОВОДЧЕСКОЕ НЕКОММЕРЧЕСКОЕ ТОВАРИЩЕСТВО \"ПРО...</td>\n",
       "      <td>1025003747504</td>\n",
       "      <td>Ликвидирована</td>\n",
       "      <td>50</td>\n",
       "      <td>0</td>\n",
       "      <td>Действующая</td>\n",
       "      <td>Управление эксплуатацией нежилого фонда за воз...</td>\n",
       "      <td>68.32.2</td>\n",
       "      <td>ОК 029-2014 (КДЕС Ред. 2)</td>\n",
       "      <td>...</td>\n",
       "      <td>0</td>\n",
       "      <td>0.0</td>\n",
       "      <td>0.0</td>\n",
       "      <td>20701</td>\n",
       "      <td>Садоводческие, огороднические или дачные неком...</td>\n",
       "      <td>0</td>\n",
       "      <td>0.0</td>\n",
       "      <td>1881-01-29 00:00:00+00:00</td>\n",
       "      <td>2002-07-26 00:00:00+00:00</td>\n",
       "      <td>2019-08-27 00:00:00+00:00</td>\n",
       "    </tr>\n",
       "  </tbody>\n",
       "</table>\n",
       "<p>1 rows × 22 columns</p>\n",
       "</div>"
      ],
      "text/plain": [
       "               regionName                                           fullName  \\\n",
       "37554  Московская область  САДОВОДЧЕСКОЕ НЕКОММЕРЧЕСКОЕ ТОВАРИЩЕСТВО \"ПРО...   \n",
       "\n",
       "                ogrn    egrulStatus  regionCode  hasRegionalSupport  \\\n",
       "37554  1025003747504  Ликвидирована          50                   0   \n",
       "\n",
       "      statusDetail.shortName  \\\n",
       "37554            Действующая   \n",
       "\n",
       "                                          mainOkved.name mainOkved.code  \\\n",
       "37554  Управление эксплуатацией нежилого фонда за воз...        68.32.2   \n",
       "\n",
       "               mainOkved.version  ...  incomeDetail.fedSubsidies.totalCount  \\\n",
       "37554  ОК 029-2014 (КДЕС Ред. 2)  ...                                     0   \n",
       "\n",
       "       incomeDetail.fedSubsidies.totalSum  incomeTotal  opf.code  \\\n",
       "37554                                 0.0          0.0     20701   \n",
       "\n",
       "                                                opf.name  contract_count  \\\n",
       "37554  Садоводческие, огороднические или дачные неком...               0   \n",
       "\n",
       "      contract_sum                originDate                  dateOgrn  \\\n",
       "37554          0.0 1881-01-29 00:00:00+00:00 2002-07-26 00:00:00+00:00   \n",
       "\n",
       "                     dateLiquid  \n",
       "37554 2019-08-27 00:00:00+00:00  \n",
       "\n",
       "[1 rows x 22 columns]"
      ]
     },
     "metadata": {},
     "output_type": "display_data"
    }
   ],
   "source": [
    "display(df[df['originDate']=='1881-01-29 00:00:00+00:00']) #проверим, что это за организация"
   ]
  },
  {
   "cell_type": "markdown",
   "metadata": {},
   "source": [
    "Теперь создадим признак 'age' - возраст организации, исходя из даты актуальности данных - 26 августа 2021 года:"
   ]
  },
  {
   "cell_type": "code",
   "execution_count": 224,
   "metadata": {},
   "outputs": [
    {
     "data": {
      "text/plain": [
       "datetime.datetime(2021, 8, 26, 0, 0, tzinfo=<UTC>)"
      ]
     },
     "execution_count": 224,
     "metadata": {},
     "output_type": "execute_result"
    }
   ],
   "source": [
    "reference_date = pytz.UTC.localize(datetime(2021,8,26)) #закрепляем актуальную дату\n",
    "reference_date"
   ]
  },
  {
   "cell_type": "code",
   "execution_count": 225,
   "metadata": {},
   "outputs": [
    {
     "data": {
      "text/plain": [
       "datetime64[ns, UTC]"
      ]
     },
     "execution_count": 225,
     "metadata": {},
     "output_type": "execute_result"
    }
   ],
   "source": [
    "df['originDate'].dtype"
   ]
  },
  {
   "cell_type": "code",
   "execution_count": 226,
   "metadata": {},
   "outputs": [
    {
     "name": "stdout",
     "output_type": "stream",
     "text": [
      "                      originDate                dateLiquid       age\n",
      "0      2020-10-30 00:00:00+00:00                       NaT  0.821355\n",
      "1      2020-09-23 00:00:00+00:00                       NaT  0.922656\n",
      "2      2020-02-03 00:00:00+00:00                       NaT  1.560575\n",
      "3      2020-09-23 00:00:00+00:00                       NaT  0.922656\n",
      "4      2020-07-08 00:00:00+00:00                       NaT  1.133470\n",
      "...                          ...                       ...       ...\n",
      "747026 2006-03-29 00:00:00+00:00 2011-07-15 00:00:00+00:00  5.295003\n",
      "747027 2006-07-07 00:00:00+00:00 2014-09-10 00:00:00+00:00  8.177960\n",
      "747028 2006-03-22 00:00:00+00:00 2007-12-17 00:00:00+00:00  1.738535\n",
      "747029 2006-03-29 00:00:00+00:00 2009-01-12 00:00:00+00:00  2.792608\n",
      "747030 2006-08-09 00:00:00+00:00 2012-08-15 00:00:00+00:00  6.017796\n",
      "\n",
      "[538860 rows x 3 columns]\n",
      "Lacks in age: 0\n"
     ]
    }
   ],
   "source": [
    "mask_active = df['dateLiquid'].isna() #создаем маску для действующих организаций\n",
    "df.loc[mask_active,'age'] = (reference_date-df.loc[mask_active,'originDate']) #считаем их возраст\n",
    "mask_liquidated = ~df['dateLiquid'].isna() #создаем маску для ликвидированных организаций\n",
    "df.loc[mask_liquidated,'age'] = (df.loc[mask_liquidated,'dateLiquid'] - df.loc[mask_liquidated,'originDate']) #считаем их возраст\n",
    "df['age'] = df['age'].dt.days\n",
    "df['age'] = df['age']/365.25 #переведем возраст в годы\n",
    "print(df[['originDate', 'dateLiquid','age']])\n",
    "print('Lacks in age:',df['age'].isnull().sum())"
   ]
  },
  {
   "cell_type": "markdown",
   "metadata": {},
   "source": [
    "Посмотрим как распределен возраст организаций:"
   ]
  },
  {
   "cell_type": "code",
   "execution_count": 227,
   "metadata": {},
   "outputs": [
    {
     "data": {
      "image/png": "[encoded data removed]",
      "text/plain": [
       "<Figure size 1500x400 with 2 Axes>"
      ]
     },
     "metadata": {},
     "output_type": "display_data"
    }
   ],
   "source": [
    "fig, axes = plt.subplots(nrows=1, ncols=2, figsize=(15, 4))\n",
    "histplot = sns.histplot(data=df, x='age', ax=axes[0]);\n",
    "histplot.set_title('Age Distribution');\n",
    "boxplot = sns.boxplot(data=df, x='age', ax=axes[1]);\n",
    "boxplot.set_title('Balance Boxplot');"
   ]
  },
  {
   "cell_type": "code",
   "execution_count": 323,
   "metadata": {},
   "outputs": [],
   "source": [
    "with open('age_distrib.pkl', 'wb') as output:\n",
    "    pickle.dump(fig, output)"
   ]
  },
  {
   "cell_type": "markdown",
   "metadata": {},
   "source": [
    "Видим, что в основном, возраст НКО до 20 лет. Есть резкий взрыв - примерно 20-25 лет назад, когда их создавалось достаточно много, и далее после спада постепенный рост в течение последнего десятилетия со снижением в ковидные времена."
   ]
  },
  {
   "cell_type": "markdown",
   "metadata": {},
   "source": [
    "Разделим возраст на интервалы и создадим категориальную переменную:"
   ]
  },
  {
   "cell_type": "code",
   "execution_count": 228,
   "metadata": {},
   "outputs": [],
   "source": [
    "def age_group(x):\n",
    "    if x < 5:\n",
    "      return 1\n",
    "    elif 5 <= x < 10:\n",
    "      return 2\n",
    "    elif 10 <= x < 20:\n",
    "      return 3\n",
    "    elif 20 <= x < 40:\n",
    "      return 4\n",
    "    elif x >= 40:\n",
    "      return 5\n",
    "\n",
    "df['age_group'] = df['age'].apply(age_group)"
   ]
  },
  {
   "cell_type": "markdown",
   "metadata": {},
   "source": [
    "Закодируем ОКВЕД в удобную для анализа числовую форму, основываясь пока на основном коде деятельности, то есть первой цифре до точки."
   ]
  },
  {
   "cell_type": "code",
   "execution_count": 229,
   "metadata": {},
   "outputs": [
    {
     "data": {
      "text/html": [
       "<div>\n",
       "<style scoped>\n",
       "    .dataframe tbody tr th:only-of-type {\n",
       "        vertical-align: middle;\n",
       "    }\n",
       "\n",
       "    .dataframe tbody tr th {\n",
       "        vertical-align: top;\n",
       "    }\n",
       "\n",
       "    .dataframe thead th {\n",
       "        text-align: right;\n",
       "    }\n",
       "</style>\n",
       "<table border=\"1\" class=\"dataframe\">\n",
       "  <thead>\n",
       "    <tr style=\"text-align: right;\">\n",
       "      <th></th>\n",
       "      <th>mainOkved.code</th>\n",
       "      <th>okved_short</th>\n",
       "    </tr>\n",
       "  </thead>\n",
       "  <tbody>\n",
       "    <tr>\n",
       "      <th>0</th>\n",
       "      <td>94.12</td>\n",
       "      <td>94</td>\n",
       "    </tr>\n",
       "    <tr>\n",
       "      <th>1</th>\n",
       "      <td>64.99</td>\n",
       "      <td>64</td>\n",
       "    </tr>\n",
       "    <tr>\n",
       "      <th>2</th>\n",
       "      <td>69.10</td>\n",
       "      <td>69</td>\n",
       "    </tr>\n",
       "    <tr>\n",
       "      <th>3</th>\n",
       "      <td>68.32</td>\n",
       "      <td>68</td>\n",
       "    </tr>\n",
       "    <tr>\n",
       "      <th>4</th>\n",
       "      <td>82.30</td>\n",
       "      <td>82</td>\n",
       "    </tr>\n",
       "    <tr>\n",
       "      <th>...</th>\n",
       "      <td>...</td>\n",
       "      <td>...</td>\n",
       "    </tr>\n",
       "    <tr>\n",
       "      <th>747026</th>\n",
       "      <td>15.51</td>\n",
       "      <td>15</td>\n",
       "    </tr>\n",
       "    <tr>\n",
       "      <th>747027</th>\n",
       "      <td>65.22</td>\n",
       "      <td>65</td>\n",
       "    </tr>\n",
       "    <tr>\n",
       "      <th>747028</th>\n",
       "      <td>15.51</td>\n",
       "      <td>15</td>\n",
       "    </tr>\n",
       "    <tr>\n",
       "      <th>747029</th>\n",
       "      <td>70.32</td>\n",
       "      <td>70</td>\n",
       "    </tr>\n",
       "    <tr>\n",
       "      <th>747030</th>\n",
       "      <td>74.13.2</td>\n",
       "      <td>74</td>\n",
       "    </tr>\n",
       "  </tbody>\n",
       "</table>\n",
       "<p>538860 rows × 2 columns</p>\n",
       "</div>"
      ],
      "text/plain": [
       "       mainOkved.code  okved_short\n",
       "0               94.12           94\n",
       "1               64.99           64\n",
       "2               69.10           69\n",
       "3               68.32           68\n",
       "4               82.30           82\n",
       "...               ...          ...\n",
       "747026          15.51           15\n",
       "747027          65.22           65\n",
       "747028          15.51           15\n",
       "747029          70.32           70\n",
       "747030        74.13.2           74\n",
       "\n",
       "[538860 rows x 2 columns]"
      ]
     },
     "execution_count": 229,
     "metadata": {},
     "output_type": "execute_result"
    }
   ],
   "source": [
    "#создаем новый признак, значениями которго будут основные коды оквэд в числовом формате\n",
    "df['okved_short'] = df['mainOkved.code'].str.split('.').str[0].astype('int64') \n",
    "df[['mainOkved.code','okved_short']] #проверяем результат"
   ]
  },
  {
   "cell_type": "code",
   "execution_count": 230,
   "metadata": {},
   "outputs": [
    {
     "data": {
      "text/plain": [
       "88"
      ]
     },
     "execution_count": 230,
     "metadata": {},
     "output_type": "execute_result"
    }
   ],
   "source": [
    "len(df['okved_short'].unique()) #проверяем количество получившихся категорий"
   ]
  },
  {
   "cell_type": "markdown",
   "metadata": {},
   "source": [
    "Категорий много, но в отличие от регионов пока, мы можем сформировать из них группы, руководствуясь описанием кодов и делением их на разделы. Данные можно взять здесь https://www.consultant.ru/document/cons_doc_LAW_163320/ "
   ]
  },
  {
   "cell_type": "code",
   "execution_count": 231,
   "metadata": {},
   "outputs": [],
   "source": [
    "def okved_group_name(x):\n",
    "    if x < 5:\n",
    "      return 'Сельское хозяйство'\n",
    "    elif 5 <= x < 10:\n",
    "      return 'Полезные ископаемые'\n",
    "    elif 10 <= x < 35:\n",
    "      return 'Производство'\n",
    "    elif x == 35:\n",
    "      return 'Обеспечение энергией'\n",
    "    elif 36 <= x < 41:\n",
    "      return 'Водоснабжение'\n",
    "    elif 31 <= x < 45:\n",
    "        return 'Строительство'\n",
    "    elif 35 <= x < 49:\n",
    "        return 'Торговля'\n",
    "    elif 49 <= x < 55:\n",
    "        return 'Транспортировка и хранение'\n",
    "    elif 55 <= x < 58:\n",
    "        return 'Гостиницы и общественное питание'\n",
    "    elif 58 <= x < 64:\n",
    "        return 'СМИ'\n",
    "    elif 54 <= x < 68:\n",
    "        return 'Финансы и страхование'\n",
    "    elif x == 68:\n",
    "        return 'Операции с недвижимостью'\n",
    "    elif 69 <= x < 77:\n",
    "        return 'Научная и техническая деятельность'\n",
    "    elif 77 <= x < 84:\n",
    "        return 'Административно-хозяйственная деятельность'\n",
    "    elif x == 84:\n",
    "        return 'Военная безопасность, соцобеспечение'\n",
    "    elif x == 85:\n",
    "        return 'Образование'\n",
    "    elif 86 <= x < 90:\n",
    "        return 'Здравоохранение'\n",
    "    elif 90 <= x < 94:\n",
    "        return 'Культура, спорт, развлечения'\n",
    "    elif 94 <= x < 97:\n",
    "        return 'Прочее, персональные и бытовые услуги'\n",
    "    elif 97 <= x < 99:\n",
    "        return 'Домашние хозяйства'\n",
    "    elif x == 99:\n",
    "        return 'Экстерриториальная деятельность'\n",
    "    \n",
    "\n",
    "df['okved_group_name'] = df['okved_short'].apply(okved_group_name)"
   ]
  },
  {
   "cell_type": "markdown",
   "metadata": {},
   "source": [
    "Закодируем группы:"
   ]
  },
  {
   "cell_type": "code",
   "execution_count": 232,
   "metadata": {},
   "outputs": [],
   "source": [
    "def okved_group_code(x):\n",
    "    if x < 5:\n",
    "      return 1\n",
    "    elif 5 <= x < 10:\n",
    "      return 2\n",
    "    elif 10 <= x < 35:\n",
    "      return 3\n",
    "    elif x == 35:\n",
    "      return 4\n",
    "    elif 36 <= x < 41:\n",
    "      return 5\n",
    "    elif 31 <= x < 45:\n",
    "        return 6\n",
    "    elif 35 <= x < 49:\n",
    "        return 7\n",
    "    elif 49 <= x < 55:\n",
    "        return 8\n",
    "    elif 55 <= x < 58:\n",
    "        return 9\n",
    "    elif 58 <= x < 64:\n",
    "        return 10\n",
    "    elif 54 <= x < 68:\n",
    "        return 11\n",
    "    elif x == 68:\n",
    "        return 12\n",
    "    elif 69 <= x < 77:\n",
    "        return 13\n",
    "    elif 77 <= x < 84:\n",
    "        return 14\n",
    "    elif x == 84:\n",
    "        return 15\n",
    "    elif x == 85:\n",
    "        return 16\n",
    "    elif 86 <= x < 90:\n",
    "        return 17\n",
    "    elif 90 <= x < 94:\n",
    "        return 18\n",
    "    elif 94 <= x < 97:\n",
    "        return 19\n",
    "    elif 97 <= x < 99:\n",
    "        return 20\n",
    "    elif x == 99:\n",
    "        return 21\n",
    "    \n",
    "\n",
    "df['okved_group_code'] = df['okved_short'].apply(okved_group_code)"
   ]
  },
  {
   "cell_type": "code",
   "execution_count": 233,
   "metadata": {},
   "outputs": [
    {
     "data": {
      "text/html": [
       "<div>\n",
       "<style scoped>\n",
       "    .dataframe tbody tr th:only-of-type {\n",
       "        vertical-align: middle;\n",
       "    }\n",
       "\n",
       "    .dataframe tbody tr th {\n",
       "        vertical-align: top;\n",
       "    }\n",
       "\n",
       "    .dataframe thead th {\n",
       "        text-align: right;\n",
       "    }\n",
       "</style>\n",
       "<table border=\"1\" class=\"dataframe\">\n",
       "  <thead>\n",
       "    <tr style=\"text-align: right;\">\n",
       "      <th></th>\n",
       "      <th>regionName</th>\n",
       "      <th>fullName</th>\n",
       "      <th>ogrn</th>\n",
       "      <th>egrulStatus</th>\n",
       "      <th>regionCode</th>\n",
       "      <th>hasRegionalSupport</th>\n",
       "      <th>statusDetail.shortName</th>\n",
       "      <th>mainOkved.name</th>\n",
       "      <th>mainOkved.code</th>\n",
       "      <th>mainOkved.version</th>\n",
       "      <th>...</th>\n",
       "      <th>contract_count</th>\n",
       "      <th>contract_sum</th>\n",
       "      <th>originDate</th>\n",
       "      <th>dateOgrn</th>\n",
       "      <th>dateLiquid</th>\n",
       "      <th>age</th>\n",
       "      <th>age_group</th>\n",
       "      <th>okved_short</th>\n",
       "      <th>okved_group_name</th>\n",
       "      <th>okved_group_code</th>\n",
       "    </tr>\n",
       "  </thead>\n",
       "  <tbody>\n",
       "    <tr>\n",
       "      <th>0</th>\n",
       "      <td>Санкт-Петербург</td>\n",
       "      <td>МЕЖРЕГИОНАЛЬНАЯ АНТРОПОСОФСКАЯ МЕДИЦИНСКАЯ АСС...</td>\n",
       "      <td>1207800141790</td>\n",
       "      <td>Действует</td>\n",
       "      <td>78</td>\n",
       "      <td>0</td>\n",
       "      <td>Действующая</td>\n",
       "      <td>Деятельность профессиональных членских организ...</td>\n",
       "      <td>94.12</td>\n",
       "      <td>ОК 029-2014 (КДЕС Ред. 2)</td>\n",
       "      <td>...</td>\n",
       "      <td>0</td>\n",
       "      <td>0.0</td>\n",
       "      <td>2020-10-30 00:00:00+00:00</td>\n",
       "      <td>2020-10-30 00:00:00+00:00</td>\n",
       "      <td>NaT</td>\n",
       "      <td>0.821355</td>\n",
       "      <td>1</td>\n",
       "      <td>94</td>\n",
       "      <td>Прочее, персональные и бытовые услуги</td>\n",
       "      <td>19</td>\n",
       "    </tr>\n",
       "    <tr>\n",
       "      <th>1</th>\n",
       "      <td>Москва</td>\n",
       "      <td>ФОНД \"СОДЕЙСТВИЕ ДУХОВНОМУ РАЗВИТИЮ ЧЕЛОВЕКА \"...</td>\n",
       "      <td>1207700349152</td>\n",
       "      <td>Действует</td>\n",
       "      <td>77</td>\n",
       "      <td>0</td>\n",
       "      <td>Действующая</td>\n",
       "      <td>Предоставление прочих финансовых услуг, кроме ...</td>\n",
       "      <td>64.99</td>\n",
       "      <td>ОК 029-2014 (КДЕС Ред. 2)</td>\n",
       "      <td>...</td>\n",
       "      <td>0</td>\n",
       "      <td>0.0</td>\n",
       "      <td>2020-09-23 00:00:00+00:00</td>\n",
       "      <td>2020-09-23 00:00:00+00:00</td>\n",
       "      <td>NaT</td>\n",
       "      <td>0.922656</td>\n",
       "      <td>1</td>\n",
       "      <td>64</td>\n",
       "      <td>Финансы и страхование</td>\n",
       "      <td>11</td>\n",
       "    </tr>\n",
       "    <tr>\n",
       "      <th>2</th>\n",
       "      <td>Санкт-Петербург</td>\n",
       "      <td>КОЛЛЕГИЯ АДВОКАТОВ \"САНКТ-ПЕТЕРБУРГСКАЯ КОЛЛЕГ...</td>\n",
       "      <td>1207800011430</td>\n",
       "      <td>Действует</td>\n",
       "      <td>78</td>\n",
       "      <td>0</td>\n",
       "      <td>Действующая</td>\n",
       "      <td>Деятельность в области права</td>\n",
       "      <td>69.10</td>\n",
       "      <td>ОК 029-2014 (КДЕС Ред. 2)</td>\n",
       "      <td>...</td>\n",
       "      <td>0</td>\n",
       "      <td>0.0</td>\n",
       "      <td>2020-02-03 00:00:00+00:00</td>\n",
       "      <td>2020-02-03 00:00:00+00:00</td>\n",
       "      <td>NaT</td>\n",
       "      <td>1.560575</td>\n",
       "      <td>1</td>\n",
       "      <td>69</td>\n",
       "      <td>Научная и техническая деятельность</td>\n",
       "      <td>13</td>\n",
       "    </tr>\n",
       "    <tr>\n",
       "      <th>3</th>\n",
       "      <td>Москва</td>\n",
       "      <td>ТОВАРИЩЕСТВО СОБСТВЕННИКОВ НЕДВИЖИМОСТИ \"ЛУГИН...</td>\n",
       "      <td>1207700348976</td>\n",
       "      <td>Действует</td>\n",
       "      <td>77</td>\n",
       "      <td>0</td>\n",
       "      <td>Действующая</td>\n",
       "      <td>Управление недвижимым имуществом за вознагражд...</td>\n",
       "      <td>68.32</td>\n",
       "      <td>ОК 029-2014 (КДЕС Ред. 2)</td>\n",
       "      <td>...</td>\n",
       "      <td>0</td>\n",
       "      <td>0.0</td>\n",
       "      <td>2020-09-23 00:00:00+00:00</td>\n",
       "      <td>2020-09-23 00:00:00+00:00</td>\n",
       "      <td>NaT</td>\n",
       "      <td>0.922656</td>\n",
       "      <td>1</td>\n",
       "      <td>68</td>\n",
       "      <td>Операции с недвижимостью</td>\n",
       "      <td>12</td>\n",
       "    </tr>\n",
       "    <tr>\n",
       "      <th>4</th>\n",
       "      <td>Санкт-Петербург</td>\n",
       "      <td>АВТОНОМНАЯ НЕКОММЕРЧЕСКАЯ ОРГАНИЗАЦИЯ \"ЦЕНТР С...</td>\n",
       "      <td>1207800081500</td>\n",
       "      <td>Действует</td>\n",
       "      <td>78</td>\n",
       "      <td>0</td>\n",
       "      <td>Действующая</td>\n",
       "      <td>Деятельность по организации конференций и выст...</td>\n",
       "      <td>82.30</td>\n",
       "      <td>ОК 029-2014 (КДЕС Ред. 2)</td>\n",
       "      <td>...</td>\n",
       "      <td>0</td>\n",
       "      <td>0.0</td>\n",
       "      <td>2020-07-08 00:00:00+00:00</td>\n",
       "      <td>2020-07-08 00:00:00+00:00</td>\n",
       "      <td>NaT</td>\n",
       "      <td>1.133470</td>\n",
       "      <td>1</td>\n",
       "      <td>82</td>\n",
       "      <td>Административно-хозяйственная деятельность</td>\n",
       "      <td>14</td>\n",
       "    </tr>\n",
       "  </tbody>\n",
       "</table>\n",
       "<p>5 rows × 27 columns</p>\n",
       "</div>"
      ],
      "text/plain": [
       "        regionName                                           fullName  \\\n",
       "0  Санкт-Петербург  МЕЖРЕГИОНАЛЬНАЯ АНТРОПОСОФСКАЯ МЕДИЦИНСКАЯ АСС...   \n",
       "1           Москва  ФОНД \"СОДЕЙСТВИЕ ДУХОВНОМУ РАЗВИТИЮ ЧЕЛОВЕКА \"...   \n",
       "2  Санкт-Петербург  КОЛЛЕГИЯ АДВОКАТОВ \"САНКТ-ПЕТЕРБУРГСКАЯ КОЛЛЕГ...   \n",
       "3           Москва  ТОВАРИЩЕСТВО СОБСТВЕННИКОВ НЕДВИЖИМОСТИ \"ЛУГИН...   \n",
       "4  Санкт-Петербург  АВТОНОМНАЯ НЕКОММЕРЧЕСКАЯ ОРГАНИЗАЦИЯ \"ЦЕНТР С...   \n",
       "\n",
       "            ogrn egrulStatus  regionCode  hasRegionalSupport  \\\n",
       "0  1207800141790   Действует          78                   0   \n",
       "1  1207700349152   Действует          77                   0   \n",
       "2  1207800011430   Действует          78                   0   \n",
       "3  1207700348976   Действует          77                   0   \n",
       "4  1207800081500   Действует          78                   0   \n",
       "\n",
       "  statusDetail.shortName                                     mainOkved.name  \\\n",
       "0            Действующая  Деятельность профессиональных членских организ...   \n",
       "1            Действующая  Предоставление прочих финансовых услуг, кроме ...   \n",
       "2            Действующая                       Деятельность в области права   \n",
       "3            Действующая  Управление недвижимым имуществом за вознагражд...   \n",
       "4            Действующая  Деятельность по организации конференций и выст...   \n",
       "\n",
       "  mainOkved.code          mainOkved.version  ...  contract_count  \\\n",
       "0          94.12  ОК 029-2014 (КДЕС Ред. 2)  ...               0   \n",
       "1          64.99  ОК 029-2014 (КДЕС Ред. 2)  ...               0   \n",
       "2          69.10  ОК 029-2014 (КДЕС Ред. 2)  ...               0   \n",
       "3          68.32  ОК 029-2014 (КДЕС Ред. 2)  ...               0   \n",
       "4          82.30  ОК 029-2014 (КДЕС Ред. 2)  ...               0   \n",
       "\n",
       "   contract_sum                originDate                  dateOgrn  \\\n",
       "0           0.0 2020-10-30 00:00:00+00:00 2020-10-30 00:00:00+00:00   \n",
       "1           0.0 2020-09-23 00:00:00+00:00 2020-09-23 00:00:00+00:00   \n",
       "2           0.0 2020-02-03 00:00:00+00:00 2020-02-03 00:00:00+00:00   \n",
       "3           0.0 2020-09-23 00:00:00+00:00 2020-09-23 00:00:00+00:00   \n",
       "4           0.0 2020-07-08 00:00:00+00:00 2020-07-08 00:00:00+00:00   \n",
       "\n",
       "   dateLiquid       age age_group  okved_short  \\\n",
       "0         NaT  0.821355         1           94   \n",
       "1         NaT  0.922656         1           64   \n",
       "2         NaT  1.560575         1           69   \n",
       "3         NaT  0.922656         1           68   \n",
       "4         NaT  1.133470         1           82   \n",
       "\n",
       "                             okved_group_name okved_group_code  \n",
       "0       Прочее, персональные и бытовые услуги               19  \n",
       "1                       Финансы и страхование               11  \n",
       "2          Научная и техническая деятельность               13  \n",
       "3                    Операции с недвижимостью               12  \n",
       "4  Административно-хозяйственная деятельность               14  \n",
       "\n",
       "[5 rows x 27 columns]"
      ]
     },
     "execution_count": 233,
     "metadata": {},
     "output_type": "execute_result"
    }
   ],
   "source": [
    "df.head()"
   ]
  },
  {
   "cell_type": "markdown",
   "metadata": {},
   "source": [
    "Так как перед нами стоит задача изучить вероятность получения грантов/госконтрактов в зависимости от некоторых признаков, то создадим соответствующую бинарную целевую переменную."
   ]
  },
  {
   "cell_type": "markdown",
   "metadata": {},
   "source": [
    "Суммируем для простоты гранты, субсидии и контракты. "
   ]
  },
  {
   "cell_type": "code",
   "execution_count": 234,
   "metadata": {},
   "outputs": [],
   "source": [
    "df['totalSupportCount'] = df['incomeDetail.fedSubsidies.totalCount']+df['incomeDetail.grants.totalCount']+df['contract_count']\n",
    "df['totalSupportSum'] = df['incomeDetail.fedSubsidies.totalSum']+df['incomeDetail.grants.totalSum']+df['contract_sum']"
   ]
  },
  {
   "cell_type": "code",
   "execution_count": 235,
   "metadata": {},
   "outputs": [],
   "source": [
    "# создаем бинарный целевой признак\n",
    "df['has_state_support'] = df['totalSupportCount'].apply(lambda x: 1 if x != 0 else 0)"
   ]
  },
  {
   "cell_type": "markdown",
   "metadata": {},
   "source": [
    "В данных есть признак incomeTotal. Сравним его значения с теми, что получились в признаке totalSupportSum:"
   ]
  },
  {
   "cell_type": "code",
   "execution_count": 236,
   "metadata": {},
   "outputs": [
    {
     "data": {
      "text/plain": [
       "33218"
      ]
     },
     "execution_count": 236,
     "metadata": {},
     "output_type": "execute_result"
    }
   ],
   "source": [
    "df_has = df[df['has_state_support'] >0]\n",
    "len(df_has[df_has['has_state_support'] != df_has['incomeTotal']])"
   ]
  },
  {
   "cell_type": "markdown",
   "metadata": {},
   "source": [
    "По большей части суммы совпали, но есть расхождения. Посмотрим, отличаются ли количества нулевых сумм."
   ]
  },
  {
   "cell_type": "code",
   "execution_count": 237,
   "metadata": {},
   "outputs": [
    {
     "data": {
      "text/plain": [
       "505733"
      ]
     },
     "execution_count": 237,
     "metadata": {},
     "output_type": "execute_result"
    }
   ],
   "source": [
    "income_zero = df[df['incomeTotal']==0]\n",
    "len(income_zero)"
   ]
  },
  {
   "cell_type": "code",
   "execution_count": 238,
   "metadata": {},
   "outputs": [],
   "source": [
    "izn = income_zero[['contract_sum','contract_count','has_state_support','totalSupportCount']]"
   ]
  },
  {
   "cell_type": "code",
   "execution_count": 239,
   "metadata": {},
   "outputs": [
    {
     "data": {
      "text/html": [
       "<div>\n",
       "<style scoped>\n",
       "    .dataframe tbody tr th:only-of-type {\n",
       "        vertical-align: middle;\n",
       "    }\n",
       "\n",
       "    .dataframe tbody tr th {\n",
       "        vertical-align: top;\n",
       "    }\n",
       "\n",
       "    .dataframe thead th {\n",
       "        text-align: right;\n",
       "    }\n",
       "</style>\n",
       "<table border=\"1\" class=\"dataframe\">\n",
       "  <thead>\n",
       "    <tr style=\"text-align: right;\">\n",
       "      <th></th>\n",
       "      <th>contract_sum</th>\n",
       "      <th>contract_count</th>\n",
       "      <th>has_state_support</th>\n",
       "      <th>totalSupportCount</th>\n",
       "    </tr>\n",
       "  </thead>\n",
       "  <tbody>\n",
       "    <tr>\n",
       "      <th>17409</th>\n",
       "      <td>0.0</td>\n",
       "      <td>1</td>\n",
       "      <td>1</td>\n",
       "      <td>1</td>\n",
       "    </tr>\n",
       "    <tr>\n",
       "      <th>21398</th>\n",
       "      <td>0.0</td>\n",
       "      <td>1</td>\n",
       "      <td>1</td>\n",
       "      <td>1</td>\n",
       "    </tr>\n",
       "    <tr>\n",
       "      <th>24730</th>\n",
       "      <td>0.0</td>\n",
       "      <td>1</td>\n",
       "      <td>1</td>\n",
       "      <td>1</td>\n",
       "    </tr>\n",
       "    <tr>\n",
       "      <th>48447</th>\n",
       "      <td>0.0</td>\n",
       "      <td>2</td>\n",
       "      <td>1</td>\n",
       "      <td>2</td>\n",
       "    </tr>\n",
       "    <tr>\n",
       "      <th>100821</th>\n",
       "      <td>0.0</td>\n",
       "      <td>1</td>\n",
       "      <td>1</td>\n",
       "      <td>1</td>\n",
       "    </tr>\n",
       "    <tr>\n",
       "      <th>...</th>\n",
       "      <td>...</td>\n",
       "      <td>...</td>\n",
       "      <td>...</td>\n",
       "      <td>...</td>\n",
       "    </tr>\n",
       "    <tr>\n",
       "      <th>709302</th>\n",
       "      <td>0.0</td>\n",
       "      <td>1</td>\n",
       "      <td>1</td>\n",
       "      <td>1</td>\n",
       "    </tr>\n",
       "    <tr>\n",
       "      <th>709935</th>\n",
       "      <td>0.0</td>\n",
       "      <td>1</td>\n",
       "      <td>1</td>\n",
       "      <td>1</td>\n",
       "    </tr>\n",
       "    <tr>\n",
       "      <th>710044</th>\n",
       "      <td>0.0</td>\n",
       "      <td>1</td>\n",
       "      <td>1</td>\n",
       "      <td>1</td>\n",
       "    </tr>\n",
       "    <tr>\n",
       "      <th>710501</th>\n",
       "      <td>0.0</td>\n",
       "      <td>1</td>\n",
       "      <td>1</td>\n",
       "      <td>1</td>\n",
       "    </tr>\n",
       "    <tr>\n",
       "      <th>735372</th>\n",
       "      <td>0.0</td>\n",
       "      <td>1</td>\n",
       "      <td>1</td>\n",
       "      <td>1</td>\n",
       "    </tr>\n",
       "  </tbody>\n",
       "</table>\n",
       "<p>91 rows × 4 columns</p>\n",
       "</div>"
      ],
      "text/plain": [
       "        contract_sum  contract_count  has_state_support  totalSupportCount\n",
       "17409            0.0               1                  1                  1\n",
       "21398            0.0               1                  1                  1\n",
       "24730            0.0               1                  1                  1\n",
       "48447            0.0               2                  1                  2\n",
       "100821           0.0               1                  1                  1\n",
       "...              ...             ...                ...                ...\n",
       "709302           0.0               1                  1                  1\n",
       "709935           0.0               1                  1                  1\n",
       "710044           0.0               1                  1                  1\n",
       "710501           0.0               1                  1                  1\n",
       "735372           0.0               1                  1                  1\n",
       "\n",
       "[91 rows x 4 columns]"
      ]
     },
     "execution_count": 239,
     "metadata": {},
     "output_type": "execute_result"
    }
   ],
   "source": [
    "izn[izn['has_state_support']==1]"
   ]
  },
  {
   "cell_type": "markdown",
   "metadata": {},
   "source": [
    "Видно, по некоторым НКО указаны контракты, но не указана сумма. Поэтому есть расхождения. Оставим целевой признак сформированным на основании наличия договора, а не суммы."
   ]
  },
  {
   "cell_type": "markdown",
   "metadata": {},
   "source": [
    "Проверяем, насколько сбалансированы классы целевого признака:"
   ]
  },
  {
   "cell_type": "code",
   "execution_count": 240,
   "metadata": {},
   "outputs": [
    {
     "data": {
      "text/plain": [
       "<Axes: xlabel='has_state_support', ylabel='count'>"
      ]
     },
     "execution_count": 240,
     "metadata": {},
     "output_type": "execute_result"
    },
    {
     "data": {
      "image/png": "[encoded data removed]",
      "text/plain": [
       "<Figure size 640x480 with 1 Axes>"
      ]
     },
     "metadata": {},
     "output_type": "display_data"
    }
   ],
   "source": [
    "df['has_state_support'].value_counts()\n",
    "sns.countplot(data=df, x='has_state_support')"
   ]
  },
  {
   "cell_type": "markdown",
   "metadata": {},
   "source": [
    "Классы получились с сильным дисбалансом"
   ]
  },
  {
   "cell_type": "markdown",
   "metadata": {},
   "source": [
    "Чтобы справиться с дисбалансом воспользуемся впоследствии стратифицированным разбиением на выборки. Для стратифицированного разбиения достаточно в функции train_test_split() задать параметр stratify, в который нужно передать столбец с метками классов, на основе которого будет производиться балансировка. Это будет столбец с правильными ответами y."
   ]
  },
  {
   "cell_type": "markdown",
   "metadata": {},
   "source": [
    "Посмотрим на распределение общих сумм поддержки."
   ]
  },
  {
   "cell_type": "code",
   "execution_count": 241,
   "metadata": {},
   "outputs": [
    {
     "data": {
      "image/png": "[encoded data removed]",
      "text/plain": [
       "<Figure size 1500x400 with 2 Axes>"
      ]
     },
     "metadata": {},
     "output_type": "display_data"
    }
   ],
   "source": [
    "fig, axes = plt.subplots(nrows=1, ncols=2, figsize=(15, 4))\n",
    "histplot = sns.histplot(data=df, x='totalSupportSum', ax=axes[0]);\n",
    "histplot.set_title('Total Support Sum Distribution');\n",
    "boxplot = sns.boxplot(data=df, x='totalSupportSum', ax=axes[1]);\n",
    "boxplot.set_title('Total Support Sum Boxplot');"
   ]
  },
  {
   "cell_type": "markdown",
   "metadata": {},
   "source": [
    "Пока оставим потенциальные выбросы в данных, так как нас интересует факт получения контракта, гранта или субсидии."
   ]
  },
  {
   "cell_type": "code",
   "execution_count": 242,
   "metadata": {},
   "outputs": [
    {
     "name": "stdout",
     "output_type": "stream",
     "text": [
      "<class 'pandas.core.frame.DataFrame'>\n",
      "Index: 538860 entries, 0 to 747030\n",
      "Data columns (total 30 columns):\n",
      " #   Column                                Non-Null Count   Dtype              \n",
      "---  ------                                --------------   -----              \n",
      " 0   regionName                            538860 non-null  object             \n",
      " 1   fullName                              538860 non-null  object             \n",
      " 2   ogrn                                  538860 non-null  int64              \n",
      " 3   egrulStatus                           538860 non-null  object             \n",
      " 4   regionCode                            538860 non-null  int64              \n",
      " 5   hasRegionalSupport                    538860 non-null  int64              \n",
      " 6   statusDetail.shortName                538860 non-null  object             \n",
      " 7   mainOkved.name                        538860 non-null  object             \n",
      " 8   mainOkved.code                        538860 non-null  object             \n",
      " 9   mainOkved.version                     538860 non-null  object             \n",
      " 10  incomeDetail.grants.totalCount        538860 non-null  int64              \n",
      " 11  incomeDetail.grants.totalSum          538860 non-null  float64            \n",
      " 12  incomeDetail.fedSubsidies.totalCount  538860 non-null  int64              \n",
      " 13  incomeDetail.fedSubsidies.totalSum    538860 non-null  float64            \n",
      " 14  incomeTotal                           538860 non-null  float64            \n",
      " 15  opf.code                              538860 non-null  int64              \n",
      " 16  opf.name                              538836 non-null  object             \n",
      " 17  contract_count                        538860 non-null  int64              \n",
      " 18  contract_sum                          538860 non-null  float64            \n",
      " 19  originDate                            538860 non-null  datetime64[ns, UTC]\n",
      " 20  dateOgrn                              538860 non-null  datetime64[ns, UTC]\n",
      " 21  dateLiquid                            209158 non-null  datetime64[ns, UTC]\n",
      " 22  age                                   538860 non-null  float64            \n",
      " 23  age_group                             538860 non-null  int64              \n",
      " 24  okved_short                           538860 non-null  int64              \n",
      " 25  okved_group_name                      538860 non-null  object             \n",
      " 26  okved_group_code                      538860 non-null  int64              \n",
      " 27  totalSupportCount                     538860 non-null  int64              \n",
      " 28  totalSupportSum                       538860 non-null  float64            \n",
      " 29  has_state_support                     538860 non-null  int64              \n",
      "dtypes: datetime64[ns, UTC](3), float64(6), int64(12), object(9)\n",
      "memory usage: 127.4+ MB\n"
     ]
    }
   ],
   "source": [
    "df.info()"
   ]
  },
  {
   "cell_type": "markdown",
   "metadata": {},
   "source": [
    "ОПФ - это организационно правовая форма. Их всего в таблице 140 разных категорий. Но так как у нас есть список категорий, относящихся к фондам, то можем создать бинарный признак фонд/не фонд."
   ]
  },
  {
   "cell_type": "code",
   "execution_count": 243,
   "metadata": {},
   "outputs": [
    {
     "name": "stdout",
     "output_type": "stream",
     "text": [
      "140\n"
     ]
    }
   ],
   "source": [
    "print(len(df['opf.code'].unique()))"
   ]
  },
  {
   "cell_type": "markdown",
   "metadata": {},
   "source": [
    "Кроме списка фондов в отдельной таблице, в нашем датасете среди кодов, относящихся к фондам есть 88, добавим и его в список."
   ]
  },
  {
   "cell_type": "code",
   "execution_count": 244,
   "metadata": {},
   "outputs": [
    {
     "data": {
      "text/plain": [
       "50104     88\n",
       "50220     88\n",
       "50288     88\n",
       "50335     88\n",
       "50418     88\n",
       "          ..\n",
       "746911    88\n",
       "746957    88\n",
       "746992    88\n",
       "747022    88\n",
       "747030    88\n",
       "Name: opf.code, Length: 6761, dtype: int64"
      ]
     },
     "execution_count": 244,
     "metadata": {},
     "output_type": "execute_result"
    }
   ],
   "source": [
    "funds = df[df['opf.name']==\"Фонд\"]\n",
    "funds['opf.code']"
   ]
  },
  {
   "cell_type": "code",
   "execution_count": 245,
   "metadata": {},
   "outputs": [
    {
     "data": {
      "text/plain": [
       "[70400, 70401, 70403, 70402, 70404, 88]"
      ]
     },
     "execution_count": 245,
     "metadata": {},
     "output_type": "execute_result"
    }
   ],
   "source": [
    "fund_codes = f_codes['okopf_id'].unique().tolist()+[88]\n",
    "fund_codes"
   ]
  },
  {
   "cell_type": "markdown",
   "metadata": {},
   "source": [
    "Сформируем еще один бинарный признак - фонд/не фонд."
   ]
  },
  {
   "cell_type": "code",
   "execution_count": 246,
   "metadata": {},
   "outputs": [],
   "source": [
    "df['is_fund'] = df['opf.code'].apply(lambda x: 1 if x in fund_codes else 0)"
   ]
  },
  {
   "cell_type": "code",
   "execution_count": 247,
   "metadata": {},
   "outputs": [
    {
     "data": {
      "text/html": [
       "<div>\n",
       "<style scoped>\n",
       "    .dataframe tbody tr th:only-of-type {\n",
       "        vertical-align: middle;\n",
       "    }\n",
       "\n",
       "    .dataframe tbody tr th {\n",
       "        vertical-align: top;\n",
       "    }\n",
       "\n",
       "    .dataframe thead th {\n",
       "        text-align: right;\n",
       "    }\n",
       "</style>\n",
       "<table border=\"1\" class=\"dataframe\">\n",
       "  <thead>\n",
       "    <tr style=\"text-align: right;\">\n",
       "      <th></th>\n",
       "      <th>is_fund</th>\n",
       "      <th>opf.code</th>\n",
       "    </tr>\n",
       "  </thead>\n",
       "  <tbody>\n",
       "    <tr>\n",
       "      <th>0</th>\n",
       "      <td>0</td>\n",
       "      <td>20600</td>\n",
       "    </tr>\n",
       "    <tr>\n",
       "      <th>1</th>\n",
       "      <td>1</td>\n",
       "      <td>70400</td>\n",
       "    </tr>\n",
       "    <tr>\n",
       "      <th>2</th>\n",
       "      <td>0</td>\n",
       "      <td>20616</td>\n",
       "    </tr>\n",
       "    <tr>\n",
       "      <th>3</th>\n",
       "      <td>0</td>\n",
       "      <td>20700</td>\n",
       "    </tr>\n",
       "    <tr>\n",
       "      <th>4</th>\n",
       "      <td>0</td>\n",
       "      <td>71400</td>\n",
       "    </tr>\n",
       "    <tr>\n",
       "      <th>...</th>\n",
       "      <td>...</td>\n",
       "      <td>...</td>\n",
       "    </tr>\n",
       "    <tr>\n",
       "      <th>747026</th>\n",
       "      <td>0</td>\n",
       "      <td>85</td>\n",
       "    </tr>\n",
       "    <tr>\n",
       "      <th>747027</th>\n",
       "      <td>0</td>\n",
       "      <td>85</td>\n",
       "    </tr>\n",
       "    <tr>\n",
       "      <th>747028</th>\n",
       "      <td>0</td>\n",
       "      <td>85</td>\n",
       "    </tr>\n",
       "    <tr>\n",
       "      <th>747029</th>\n",
       "      <td>0</td>\n",
       "      <td>94</td>\n",
       "    </tr>\n",
       "    <tr>\n",
       "      <th>747030</th>\n",
       "      <td>1</td>\n",
       "      <td>88</td>\n",
       "    </tr>\n",
       "  </tbody>\n",
       "</table>\n",
       "<p>538860 rows × 2 columns</p>\n",
       "</div>"
      ],
      "text/plain": [
       "        is_fund  opf.code\n",
       "0             0     20600\n",
       "1             1     70400\n",
       "2             0     20616\n",
       "3             0     20700\n",
       "4             0     71400\n",
       "...         ...       ...\n",
       "747026        0        85\n",
       "747027        0        85\n",
       "747028        0        85\n",
       "747029        0        94\n",
       "747030        1        88\n",
       "\n",
       "[538860 rows x 2 columns]"
      ]
     },
     "execution_count": 247,
     "metadata": {},
     "output_type": "execute_result"
    }
   ],
   "source": [
    "#проверяем \n",
    "df[['is_fund','opf.code']]"
   ]
  },
  {
   "cell_type": "markdown",
   "metadata": {},
   "source": [
    "## Анализ зависимостей и статистические тесты"
   ]
  },
  {
   "cell_type": "code",
   "execution_count": 248,
   "metadata": {},
   "outputs": [
    {
     "name": "stdout",
     "output_type": "stream",
     "text": [
      "regionName\n",
      "Санкт-Петербург                             0.106057\n",
      "Ненецкий автономный округ                   0.104530\n",
      "Пермский край                               0.090850\n",
      "Ханты-Мансийский автономный округ - Югра    0.090796\n",
      "Амурская область                            0.090656\n",
      "Москва                                      0.090014\n",
      "Новгородская область                        0.085714\n",
      "Республика Алтай                            0.084882\n",
      "Ямало-Ненецкий автономный округ             0.082139\n",
      "Волгоградская область                       0.079447\n",
      "Name: has_state_support, dtype: float64\n"
     ]
    }
   ],
   "source": [
    "region_funding = df.groupby('regionName')['has_state_support'].mean().sort_values(ascending=False)\n",
    "print(region_funding.head(10)) #топ 10 регионов по доле финансирования"
   ]
  },
  {
   "cell_type": "code",
   "execution_count": 249,
   "metadata": {},
   "outputs": [
    {
     "data": {
      "image/png": "[encoded data removed]",
      "text/plain": [
       "<Figure size 800x400 with 1 Axes>"
      ]
     },
     "metadata": {},
     "output_type": "display_data"
    }
   ],
   "source": [
    "region_funding.head(10).plot(kind='bar', figsize=(8,4), title = \"Топ 10 регионов по доле НКО с государственным финансированием\")\n",
    "plt.xticks(rotation=90)\n",
    "plt.ylabel ('Доля с финансированием')\n",
    "plt.show()"
   ]
  },
  {
   "cell_type": "markdown",
   "metadata": {},
   "source": [
    "Самое большое количество получаемых грантов/контрактов от государства в Санкт-Петербурге, Ненецком автономном округе и Пермском крае."
   ]
  },
  {
   "cell_type": "code",
   "execution_count": 250,
   "metadata": {},
   "outputs": [
    {
     "data": {
      "text/plain": [
       "age_group\n",
       "1    0.027298\n",
       "2    0.061768\n",
       "3    0.093450\n",
       "4    0.071552\n",
       "5    0.025894\n",
       "Name: has_state_support, dtype: float64"
      ]
     },
     "execution_count": 250,
     "metadata": {},
     "output_type": "execute_result"
    }
   ],
   "source": [
    "age_funding = df.groupby('age_group')['has_state_support'].mean().sort_index()\n",
    "age_funding"
   ]
  },
  {
   "cell_type": "code",
   "execution_count": 251,
   "metadata": {},
   "outputs": [
    {
     "data": {
      "image/png": "[encoded data removed]",
      "text/plain": [
       "<Figure size 600x400 with 1 Axes>"
      ]
     },
     "metadata": {},
     "output_type": "display_data"
    }
   ],
   "source": [
    "age_funding.plot(kind='bar',figsize=(6,4),title='Доля НКО с государственным финансированием по возрасту')\n",
    "plt.ylabel('Доля с финансированием')\n",
    "plt.show()"
   ]
  },
  {
   "cell_type": "markdown",
   "metadata": {},
   "source": [
    "Больше всего грантов/контрактов от государства получают НКО, существующие 10-20 лет и, однако, линейной зависимости нет: доля, получивших господдержку организаций, старше 40 лет, меньше всех остальных"
   ]
  },
  {
   "cell_type": "code",
   "execution_count": 252,
   "metadata": {},
   "outputs": [
    {
     "name": "stdout",
     "output_type": "stream",
     "text": [
      "okved_group_name\n",
      "Гостиницы и общественное питание         0.296095\n",
      "Образование                              0.221893\n",
      "Здравоохранение                          0.148165\n",
      "Водоснабжение                            0.129167\n",
      "Торговля                                 0.128705\n",
      "СМИ                                      0.106871\n",
      "Производство                             0.104403\n",
      "Военная безопасность, соцобеспечение     0.086387\n",
      "Прочее, персональные и бытовые услуги    0.070714\n",
      "Экстерриториальная деятельность          0.062500\n",
      "Name: has_state_support, dtype: float64\n"
     ]
    }
   ],
   "source": [
    "okved_funding = df.groupby('okved_group_name')['has_state_support'].mean().sort_values(ascending=False)\n",
    "print(okved_funding.head(10))"
   ]
  },
  {
   "cell_type": "code",
   "execution_count": 253,
   "metadata": {},
   "outputs": [
    {
     "data": {
      "image/png": "[encoded data removed]",
      "text/plain": [
       "<Figure size 1200x400 with 1 Axes>"
      ]
     },
     "metadata": {},
     "output_type": "display_data"
    }
   ],
   "source": [
    "okved_funding.plot(kind='bar',figsize=(12,4),title='ОКВЭД по доле НКО с государственным финансированием')\n",
    "plt.ylabel('Доля с финансированием')\n",
    "plt.show()"
   ]
  },
  {
   "cell_type": "markdown",
   "metadata": {},
   "source": [
    "Наибольшую поддержку от государства получают НКО в области организации гостинчного бизнеса, питания, образования и здравоохранения."
   ]
  },
  {
   "cell_type": "markdown",
   "metadata": {},
   "source": [
    "Чтобы ответить на вопрос, поставленный в задаче, проведем статистический тест на значимую связь между целевой переменной и интересующими нас признаками."
   ]
  },
  {
   "cell_type": "code",
   "execution_count": 254,
   "metadata": {},
   "outputs": [],
   "source": [
    "def chi2_result(feature_to_compare):\n",
    "    alpha = 0.05\n",
    "    #вычисляем таблицу сопряжённости\n",
    "    table = pd.crosstab(df[feature_to_compare], df['has_state_support'])\n",
    "    chi2, p_value, dof, expected = chi2_contingency(table)\n",
    "# интерпретируем результат\n",
    "    if p_value <= alpha:\n",
    "        print('p-значение меньше, чем заданный уровень значимости {:.2f}. Отвергаем нулевую гипотезу: существует статистически значимая ассоциация между признаками'.format(alpha))\n",
    "    else:\n",
    "        print('p-значение больше, чем заданный уровень значимости {:.2f}. У нас нет оснований отвергнуть нулевую гипотезу.'.format(alpha))\n",
    "    print(f'Статистика хи-квадрат: {chi2:.4f}')\n",
    "    print(f'p-value: {p_value:.4f}')   "
   ]
  },
  {
   "cell_type": "code",
   "execution_count": 255,
   "metadata": {},
   "outputs": [
    {
     "name": "stdout",
     "output_type": "stream",
     "text": [
      "p-значение меньше, чем заданный уровень значимости 0.05. Отвергаем нулевую гипотезу: существует статистически значимая ассоциация между признаками\n",
      "Статистика хи-квадрат: 5980.8072\n",
      "p-value: 0.0000\n"
     ]
    }
   ],
   "source": [
    "chi2_result('age_group')"
   ]
  },
  {
   "cell_type": "code",
   "execution_count": 256,
   "metadata": {},
   "outputs": [
    {
     "name": "stdout",
     "output_type": "stream",
     "text": [
      "p-значение меньше, чем заданный уровень значимости 0.05. Отвергаем нулевую гипотезу: существует статистически значимая ассоциация между признаками\n",
      "Статистика хи-квадрат: 3385.4525\n",
      "p-value: 0.0000\n"
     ]
    }
   ],
   "source": [
    "chi2_result('regionCode')"
   ]
  },
  {
   "cell_type": "code",
   "execution_count": 257,
   "metadata": {},
   "outputs": [
    {
     "name": "stdout",
     "output_type": "stream",
     "text": [
      "p-значение меньше, чем заданный уровень значимости 0.05. Отвергаем нулевую гипотезу: существует статистически значимая ассоциация между признаками\n",
      "Статистика хи-квадрат: 22912.4536\n",
      "p-value: 0.0000\n"
     ]
    }
   ],
   "source": [
    "chi2_result('okved_group_code')"
   ]
  },
  {
   "cell_type": "markdown",
   "metadata": {},
   "source": [
    "По всем трем признакам статистический тест показал существующую зависимость. Однако, пока не торопимся с выводами."
   ]
  },
  {
   "cell_type": "code",
   "execution_count": 258,
   "metadata": {},
   "outputs": [
    {
     "data": {
      "text/plain": [
       "Index(['regionName', 'fullName', 'ogrn', 'egrulStatus', 'regionCode',\n",
       "       'hasRegionalSupport', 'statusDetail.shortName', 'mainOkved.name',\n",
       "       'mainOkved.code', 'mainOkved.version', 'incomeDetail.grants.totalCount',\n",
       "       'incomeDetail.grants.totalSum', 'incomeDetail.fedSubsidies.totalCount',\n",
       "       'incomeDetail.fedSubsidies.totalSum', 'incomeTotal', 'opf.code',\n",
       "       'opf.name', 'contract_count', 'contract_sum', 'originDate', 'dateOgrn',\n",
       "       'dateLiquid', 'age', 'age_group', 'okved_short', 'okved_group_name',\n",
       "       'okved_group_code', 'totalSupportCount', 'totalSupportSum',\n",
       "       'has_state_support', 'is_fund'],\n",
       "      dtype='object')"
      ]
     },
     "execution_count": 258,
     "metadata": {},
     "output_type": "execute_result"
    }
   ],
   "source": [
    "df.columns"
   ]
  },
  {
   "cell_type": "markdown",
   "metadata": {},
   "source": [
    "## Построение модели и контроль качества"
   ]
  },
  {
   "cell_type": "markdown",
   "metadata": {},
   "source": [
    "Построим корреляционную матрицу. В качестве статистического метода выберем корреляцию Спирмена, так как она подходит для нелинейных зависимостей."
   ]
  },
  {
   "cell_type": "code",
   "execution_count": 259,
   "metadata": {},
   "outputs": [
    {
     "data": {
      "image/png": "[encoded data removed]",
      "text/plain": [
       "<Figure size 800x600 with 2 Axes>"
      ]
     },
     "metadata": {},
     "output_type": "display_data"
    }
   ],
   "source": [
    "df_final = df[['regionCode','hasRegionalSupport','age_group','has_state_support','okved_group_code','is_fund']]\n",
    "correlation_matrix = df_final.corr(method='spearman')\n",
    "plt.figure(figsize=(8,6))\n",
    "sns.heatmap(correlation_matrix,annot=True,cmap='coolwarm',center=0, fmt='.2f',linewidths=0.5)\n",
    "plt.title('Spearman Correlation Matrix')\n",
    "plt.show()"
   ]
  },
  {
   "cell_type": "markdown",
   "metadata": {},
   "source": [
    "В матрице корреляций нет мультиколлинеарности, есть небольшие зависимости"
   ]
  },
  {
   "cell_type": "code",
   "execution_count": 260,
   "metadata": {},
   "outputs": [
    {
     "name": "stdout",
     "output_type": "stream",
     "text": [
      "<class 'pandas.core.frame.DataFrame'>\n",
      "Index: 538860 entries, 0 to 747030\n",
      "Data columns (total 6 columns):\n",
      " #   Column              Non-Null Count   Dtype\n",
      "---  ------              --------------   -----\n",
      " 0   regionCode          538860 non-null  int64\n",
      " 1   hasRegionalSupport  538860 non-null  int64\n",
      " 2   age_group           538860 non-null  int64\n",
      " 3   has_state_support   538860 non-null  int64\n",
      " 4   okved_group_code    538860 non-null  int64\n",
      " 5   is_fund             538860 non-null  int64\n",
      "dtypes: int64(6)\n",
      "memory usage: 28.8 MB\n"
     ]
    }
   ],
   "source": [
    "df_final.info()"
   ]
  },
  {
   "cell_type": "markdown",
   "metadata": {},
   "source": [
    "Закодируем признаки age_group, region_code, okved_group_code с помощью LabelEncoder"
   ]
  },
  {
   "cell_type": "code",
   "execution_count": 261,
   "metadata": {},
   "outputs": [],
   "source": [
    "l_encoder = LabelEncoder()\n",
    "encoded = l_encoder.fit_transform(df_final['age_group'])\n",
    "df_final = df_final.drop(columns='age_group')\n",
    "encoded = pd.DataFrame(encoded, index=df_final.index, columns=['age_group'])\n",
    "df_final = pd.concat([df_final, encoded], axis=1)"
   ]
  },
  {
   "cell_type": "code",
   "execution_count": 264,
   "metadata": {},
   "outputs": [],
   "source": [
    "l_encoder = LabelEncoder()\n",
    "encoded = l_encoder.fit_transform(df_final['okved_group_code'])\n",
    "df_final = df_final.drop(columns='okved_group_code')\n",
    "encoded = pd.DataFrame(encoded, index=df_final.index, columns=['okved_group_code'])\n",
    "df_final = pd.concat([df_final, encoded], axis=1)"
   ]
  },
  {
   "cell_type": "code",
   "execution_count": 266,
   "metadata": {},
   "outputs": [],
   "source": [
    "l_encoder = LabelEncoder()\n",
    "encoded = l_encoder.fit_transform(df_final['regionCode'])\n",
    "df_final = df_final.drop(columns='regionCode')\n",
    "encoded = pd.DataFrame(encoded, index=df_final.index, columns=['regionCode'])\n",
    "df_final = pd.concat([df_final, encoded], axis=1)"
   ]
  },
  {
   "cell_type": "markdown",
   "metadata": {},
   "source": [
    "Еще раз посмотрим на приоритет корреляций"
   ]
  },
  {
   "cell_type": "code",
   "execution_count": 269,
   "metadata": {},
   "outputs": [],
   "source": [
    "to_viz = df_final.corr()['has_state_support'].sort_values(ascending=False) "
   ]
  },
  {
   "cell_type": "code",
   "execution_count": 271,
   "metadata": {},
   "outputs": [
    {
     "data": {
      "text/plain": [
       "has_state_support     1.000000\n",
       "hasRegionalSupport    0.212650\n",
       "age_group             0.074267\n",
       "okved_group_code      0.066635\n",
       "is_fund               0.032662\n",
       "regionCode            0.026583\n",
       "Name: has_state_support, dtype: float64"
      ]
     },
     "metadata": {},
     "output_type": "display_data"
    },
    {
     "data": {
      "application/vnd.plotly.v1+json": {
       "config": {
        "plotlyServerURL": "https://plot.ly"
       },
       "data": [
        {
         "hovertemplate": "variable=has_state_support<br>index=%{x}<br>value=%{y}<extra></extra>",
         "legendgroup": "has_state_support",
         "marker": {
          "color": "#636efa",
          "pattern": {
           "shape": ""
          }
         },
         "name": "has_state_support",
         "orientation": "v",
         "showlegend": true,
         "textposition": "auto",
         "type": "bar",
         "x": [
          "has_state_support",
          "hasRegionalSupport",
          "age_group",
          "okved_group_code",
          "is_fund",
          "regionCode"
         ],
         "xaxis": "x",
         "y": {
          "bdata": "AAAAAAAA8D+yyFbIHzjLPxevbA4rA7M/j6vMSQEPsT/nKuYCHrmgP1vTfTOnOJs/",
          "dtype": "f8"
         },
         "yaxis": "y"
        }
       ],
       "layout": {
        "barmode": "relative",
        "legend": {
         "title": {
          "text": "variable"
         },
         "tracegroupgap": 0
        },
        "margin": {
         "t": 60
        },
        "template": {
         "data": {
          "bar": [
           {
            "error_x": {
             "color": "#2a3f5f"
            },
            "error_y": {
             "color": "#2a3f5f"
            },
            "marker": {
             "line": {
              "color": "#E5ECF6",
              "width": 0.5
             },
             "pattern": {
              "fillmode": "overlay",
              "size": 10,
              "solidity": 0.2
             }
            },
            "type": "bar"
           }
          ],
          "barpolar": [
           {
            "marker": {
             "line": {
              "color": "#E5ECF6",
              "width": 0.5
             },
             "pattern": {
              "fillmode": "overlay",
              "size": 10,
              "solidity": 0.2
             }
            },
            "type": "barpolar"
           }
          ],
          "carpet": [
           {
            "aaxis": {
             "endlinecolor": "#2a3f5f",
             "gridcolor": "white",
             "linecolor": "white",
             "minorgridcolor": "white",
             "startlinecolor": "#2a3f5f"
            },
            "baxis": {
             "endlinecolor": "#2a3f5f",
             "gridcolor": "white",
             "linecolor": "white",
             "minorgridcolor": "white",
             "startlinecolor": "#2a3f5f"
            },
            "type": "carpet"
           }
          ],
          "choropleth": [
           {
            "colorbar": {
             "outlinewidth": 0,
             "ticks": ""
            },
            "type": "choropleth"
           }
          ],
          "contour": [
           {
            "colorbar": {
             "outlinewidth": 0,
             "ticks": ""
            },
            "colorscale": [
             [
              0,
              "#0d0887"
             ],
             [
              0.1111111111111111,
              "#46039f"
             ],
             [
              0.2222222222222222,
              "#7201a8"
             ],
             [
              0.3333333333333333,
              "#9c179e"
             ],
             [
              0.4444444444444444,
              "#bd3786"
             ],
             [
              0.5555555555555556,
              "#d8576b"
             ],
             [
              0.6666666666666666,
              "#ed7953"
             ],
             [
              0.7777777777777778,
              "#fb9f3a"
             ],
             [
              0.8888888888888888,
              "#fdca26"
             ],
             [
              1,
              "#f0f921"
             ]
            ],
            "type": "contour"
           }
          ],
          "contourcarpet": [
           {
            "colorbar": {
             "outlinewidth": 0,
             "ticks": ""
            },
            "type": "contourcarpet"
           }
          ],
          "heatmap": [
           {
            "colorbar": {
             "outlinewidth": 0,
             "ticks": ""
            },
            "colorscale": [
             [
              0,
              "#0d0887"
             ],
             [
              0.1111111111111111,
              "#46039f"
             ],
             [
              0.2222222222222222,
              "#7201a8"
             ],
             [
              0.3333333333333333,
              "#9c179e"
             ],
             [
              0.4444444444444444,
              "#bd3786"
             ],
             [
              0.5555555555555556,
              "#d8576b"
             ],
             [
              0.6666666666666666,
              "#ed7953"
             ],
             [
              0.7777777777777778,
              "#fb9f3a"
             ],
             [
              0.8888888888888888,
              "#fdca26"
             ],
             [
              1,
              "#f0f921"
             ]
            ],
            "type": "heatmap"
           }
          ],
          "histogram": [
           {
            "marker": {
             "pattern": {
              "fillmode": "overlay",
              "size": 10,
              "solidity": 0.2
             }
            },
            "type": "histogram"
           }
          ],
          "histogram2d": [
           {
            "colorbar": {
             "outlinewidth": 0,
             "ticks": ""
            },
            "colorscale": [
             [
              0,
              "#0d0887"
             ],
             [
              0.1111111111111111,
              "#46039f"
             ],
             [
              0.2222222222222222,
              "#7201a8"
             ],
             [
              0.3333333333333333,
              "#9c179e"
             ],
             [
              0.4444444444444444,
              "#bd3786"
             ],
             [
              0.5555555555555556,
              "#d8576b"
             ],
             [
              0.6666666666666666,
              "#ed7953"
             ],
             [
              0.7777777777777778,
              "#fb9f3a"
             ],
             [
              0.8888888888888888,
              "#fdca26"
             ],
             [
              1,
              "#f0f921"
             ]
            ],
            "type": "histogram2d"
           }
          ],
          "histogram2dcontour": [
           {
            "colorbar": {
             "outlinewidth": 0,
             "ticks": ""
            },
            "colorscale": [
             [
              0,
              "#0d0887"
             ],
             [
              0.1111111111111111,
              "#46039f"
             ],
             [
              0.2222222222222222,
              "#7201a8"
             ],
             [
              0.3333333333333333,
              "#9c179e"
             ],
             [
              0.4444444444444444,
              "#bd3786"
             ],
             [
              0.5555555555555556,
              "#d8576b"
             ],
             [
              0.6666666666666666,
              "#ed7953"
             ],
             [
              0.7777777777777778,
              "#fb9f3a"
             ],
             [
              0.8888888888888888,
              "#fdca26"
             ],
             [
              1,
              "#f0f921"
             ]
            ],
            "type": "histogram2dcontour"
           }
          ],
          "mesh3d": [
           {
            "colorbar": {
             "outlinewidth": 0,
             "ticks": ""
            },
            "type": "mesh3d"
           }
          ],
          "parcoords": [
           {
            "line": {
             "colorbar": {
              "outlinewidth": 0,
              "ticks": ""
             }
            },
            "type": "parcoords"
           }
          ],
          "pie": [
           {
            "automargin": true,
            "type": "pie"
           }
          ],
          "scatter": [
           {
            "fillpattern": {
             "fillmode": "overlay",
             "size": 10,
             "solidity": 0.2
            },
            "type": "scatter"
           }
          ],
          "scatter3d": [
           {
            "line": {
             "colorbar": {
              "outlinewidth": 0,
              "ticks": ""
             }
            },
            "marker": {
             "colorbar": {
              "outlinewidth": 0,
              "ticks": ""
             }
            },
            "type": "scatter3d"
           }
          ],
          "scattercarpet": [
           {
            "marker": {
             "colorbar": {
              "outlinewidth": 0,
              "ticks": ""
             }
            },
            "type": "scattercarpet"
           }
          ],
          "scattergeo": [
           {
            "marker": {
             "colorbar": {
              "outlinewidth": 0,
              "ticks": ""
             }
            },
            "type": "scattergeo"
           }
          ],
          "scattergl": [
           {
            "marker": {
             "colorbar": {
              "outlinewidth": 0,
              "ticks": ""
             }
            },
            "type": "scattergl"
           }
          ],
          "scattermap": [
           {
            "marker": {
             "colorbar": {
              "outlinewidth": 0,
              "ticks": ""
             }
            },
            "type": "scattermap"
           }
          ],
          "scattermapbox": [
           {
            "marker": {
             "colorbar": {
              "outlinewidth": 0,
              "ticks": ""
             }
            },
            "type": "scattermapbox"
           }
          ],
          "scatterpolar": [
           {
            "marker": {
             "colorbar": {
              "outlinewidth": 0,
              "ticks": ""
             }
            },
            "type": "scatterpolar"
           }
          ],
          "scatterpolargl": [
           {
            "marker": {
             "colorbar": {
              "outlinewidth": 0,
              "ticks": ""
             }
            },
            "type": "scatterpolargl"
           }
          ],
          "scatterternary": [
           {
            "marker": {
             "colorbar": {
              "outlinewidth": 0,
              "ticks": ""
             }
            },
            "type": "scatterternary"
           }
          ],
          "surface": [
           {
            "colorbar": {
             "outlinewidth": 0,
             "ticks": ""
            },
            "colorscale": [
             [
              0,
              "#0d0887"
             ],
             [
              0.1111111111111111,
              "#46039f"
             ],
             [
              0.2222222222222222,
              "#7201a8"
             ],
             [
              0.3333333333333333,
              "#9c179e"
             ],
             [
              0.4444444444444444,
              "#bd3786"
             ],
             [
              0.5555555555555556,
              "#d8576b"
             ],
             [
              0.6666666666666666,
              "#ed7953"
             ],
             [
              0.7777777777777778,
              "#fb9f3a"
             ],
             [
              0.8888888888888888,
              "#fdca26"
             ],
             [
              1,
              "#f0f921"
             ]
            ],
            "type": "surface"
           }
          ],
          "table": [
           {
            "cells": {
             "fill": {
              "color": "#EBF0F8"
             },
             "line": {
              "color": "white"
             }
            },
            "header": {
             "fill": {
              "color": "#C8D4E3"
             },
             "line": {
              "color": "white"
             }
            },
            "type": "table"
           }
          ]
         },
         "layout": {
          "annotationdefaults": {
           "arrowcolor": "#2a3f5f",
           "arrowhead": 0,
           "arrowwidth": 1
          },
          "autotypenumbers": "strict",
          "coloraxis": {
           "colorbar": {
            "outlinewidth": 0,
            "ticks": ""
           }
          },
          "colorscale": {
           "diverging": [
            [
             0,
             "#8e0152"
            ],
            [
             0.1,
             "#c51b7d"
            ],
            [
             0.2,
             "#de77ae"
            ],
            [
             0.3,
             "#f1b6da"
            ],
            [
             0.4,
             "#fde0ef"
            ],
            [
             0.5,
             "#f7f7f7"
            ],
            [
             0.6,
             "#e6f5d0"
            ],
            [
             0.7,
             "#b8e186"
            ],
            [
             0.8,
             "#7fbc41"
            ],
            [
             0.9,
             "#4d9221"
            ],
            [
             1,
             "#276419"
            ]
           ],
           "sequential": [
            [
             0,
             "#0d0887"
            ],
            [
             0.1111111111111111,
             "#46039f"
            ],
            [
             0.2222222222222222,
             "#7201a8"
            ],
            [
             0.3333333333333333,
             "#9c179e"
            ],
            [
             0.4444444444444444,
             "#bd3786"
            ],
            [
             0.5555555555555556,
             "#d8576b"
            ],
            [
             0.6666666666666666,
             "#ed7953"
            ],
            [
             0.7777777777777778,
             "#fb9f3a"
            ],
            [
             0.8888888888888888,
             "#fdca26"
            ],
            [
             1,
             "#f0f921"
            ]
           ],
           "sequentialminus": [
            [
             0,
             "#0d0887"
            ],
            [
             0.1111111111111111,
             "#46039f"
            ],
            [
             0.2222222222222222,
             "#7201a8"
            ],
            [
             0.3333333333333333,
             "#9c179e"
            ],
            [
             0.4444444444444444,
             "#bd3786"
            ],
            [
             0.5555555555555556,
             "#d8576b"
            ],
            [
             0.6666666666666666,
             "#ed7953"
            ],
            [
             0.7777777777777778,
             "#fb9f3a"
            ],
            [
             0.8888888888888888,
             "#fdca26"
            ],
            [
             1,
             "#f0f921"
            ]
           ]
          },
          "colorway": [
           "#636efa",
           "#EF553B",
           "#00cc96",
           "#ab63fa",
           "#FFA15A",
           "#19d3f3",
           "#FF6692",
           "#B6E880",
           "#FF97FF",
           "#FECB52"
          ],
          "font": {
           "color": "#2a3f5f"
          },
          "geo": {
           "bgcolor": "white",
           "lakecolor": "white",
           "landcolor": "#E5ECF6",
           "showlakes": true,
           "showland": true,
           "subunitcolor": "white"
          },
          "hoverlabel": {
           "align": "left"
          },
          "hovermode": "closest",
          "mapbox": {
           "style": "light"
          },
          "paper_bgcolor": "white",
          "plot_bgcolor": "#E5ECF6",
          "polar": {
           "angularaxis": {
            "gridcolor": "white",
            "linecolor": "white",
            "ticks": ""
           },
           "bgcolor": "#E5ECF6",
           "radialaxis": {
            "gridcolor": "white",
            "linecolor": "white",
            "ticks": ""
           }
          },
          "scene": {
           "xaxis": {
            "backgroundcolor": "#E5ECF6",
            "gridcolor": "white",
            "gridwidth": 2,
            "linecolor": "white",
            "showbackground": true,
            "ticks": "",
            "zerolinecolor": "white"
           },
           "yaxis": {
            "backgroundcolor": "#E5ECF6",
            "gridcolor": "white",
            "gridwidth": 2,
            "linecolor": "white",
            "showbackground": true,
            "ticks": "",
            "zerolinecolor": "white"
           },
           "zaxis": {
            "backgroundcolor": "#E5ECF6",
            "gridcolor": "white",
            "gridwidth": 2,
            "linecolor": "white",
            "showbackground": true,
            "ticks": "",
            "zerolinecolor": "white"
           }
          },
          "shapedefaults": {
           "line": {
            "color": "#2a3f5f"
           }
          },
          "ternary": {
           "aaxis": {
            "gridcolor": "white",
            "linecolor": "white",
            "ticks": ""
           },
           "baxis": {
            "gridcolor": "white",
            "linecolor": "white",
            "ticks": ""
           },
           "bgcolor": "#E5ECF6",
           "caxis": {
            "gridcolor": "white",
            "linecolor": "white",
            "ticks": ""
           }
          },
          "title": {
           "x": 0.05
          },
          "xaxis": {
           "automargin": true,
           "gridcolor": "white",
           "linecolor": "white",
           "ticks": "",
           "title": {
            "standoff": 15
           },
           "zerolinecolor": "white",
           "zerolinewidth": 2
          },
          "yaxis": {
           "automargin": true,
           "gridcolor": "white",
           "linecolor": "white",
           "ticks": "",
           "title": {
            "standoff": 15
           },
           "zerolinecolor": "white",
           "zerolinewidth": 2
          }
         }
        },
        "xaxis": {
         "anchor": "y",
         "domain": [
          0,
          1
         ],
         "title": {
          "text": "index"
         }
        },
        "yaxis": {
         "anchor": "x",
         "domain": [
          0,
          1
         ],
         "title": {
          "text": "value"
         }
        }
       }
      }
     },
     "metadata": {},
     "output_type": "display_data"
    }
   ],
   "source": [
    "display(to_viz)\n",
    "fig = px.bar(to_viz)\n",
    "fig.show()"
   ]
  },
  {
   "cell_type": "markdown",
   "metadata": {},
   "source": [
    "Разделим данные на тренировочную и тестовую выборки, используем стратифицированный подход, так как классы у нас очень не сбалансированные"
   ]
  },
  {
   "cell_type": "code",
   "execution_count": 272,
   "metadata": {},
   "outputs": [],
   "source": [
    "X, y = df_final.drop('has_state_support', axis=1), df_final['has_state_support']"
   ]
  },
  {
   "cell_type": "code",
   "execution_count": 273,
   "metadata": {},
   "outputs": [],
   "source": [
    "X_train, X_test, y_train, y_test = model_selection.train_test_split(X, y, stratify=y, test_size=0.2, random_state=42)"
   ]
  },
  {
   "cell_type": "code",
   "execution_count": 274,
   "metadata": {},
   "outputs": [
    {
     "name": "stdout",
     "output_type": "stream",
     "text": [
      "(431088, 5)\n",
      "(107772, 5)\n"
     ]
    }
   ],
   "source": [
    "print(X_train.shape)\n",
    "print(X_test.shape)"
   ]
  },
  {
   "cell_type": "markdown",
   "metadata": {},
   "source": [
    "## Baseline "
   ]
  },
  {
   "cell_type": "code",
   "execution_count": 276,
   "metadata": {},
   "outputs": [],
   "source": [
    "X_train_copy, X_test_copy = X_train, X_test #оставим копии выборок"
   ]
  },
  {
   "cell_type": "code",
   "execution_count": 279,
   "metadata": {},
   "outputs": [],
   "source": [
    "# инициализируем нормализатор MinMaxScaler\n",
    "scaler = preprocessing.MinMaxScaler()\n",
    "scaler.fit(X_train)\n",
    "X_train_scaled = scaler.transform(X_train)\n",
    "X_test_scaled = scaler.transform(X_test)"
   ]
  },
  {
   "cell_type": "code",
   "execution_count": 280,
   "metadata": {},
   "outputs": [
    {
     "data": {
      "text/html": [
       "<style>#sk-container-id-1 {\n",
       "  /* Definition of color scheme common for light and dark mode */\n",
       "  --sklearn-color-text: #000;\n",
       "  --sklearn-color-text-muted: #666;\n",
       "  --sklearn-color-line: gray;\n",
       "  /* Definition of color scheme for unfitted estimators */\n",
       "  --sklearn-color-unfitted-level-0: #fff5e6;\n",
       "  --sklearn-color-unfitted-level-1: #f6e4d2;\n",
       "  --sklearn-color-unfitted-level-2: #ffe0b3;\n",
       "  --sklearn-color-unfitted-level-3: chocolate;\n",
       "  /* Definition of color scheme for fitted estimators */\n",
       "  --sklearn-color-fitted-level-0: #f0f8ff;\n",
       "  --sklearn-color-fitted-level-1: #d4ebff;\n",
       "  --sklearn-color-fitted-level-2: #b3dbfd;\n",
       "  --sklearn-color-fitted-level-3: cornflowerblue;\n",
       "\n",
       "  /* Specific color for light theme */\n",
       "  --sklearn-color-text-on-default-background: var(--sg-text-color, var(--theme-code-foreground, var(--jp-content-font-color1, black)));\n",
       "  --sklearn-color-background: var(--sg-background-color, var(--theme-background, var(--jp-layout-color0, white)));\n",
       "  --sklearn-color-border-box: var(--sg-text-color, var(--theme-code-foreground, var(--jp-content-font-color1, black)));\n",
       "  --sklearn-color-icon: #696969;\n",
       "\n",
       "  @media (prefers-color-scheme: dark) {\n",
       "    /* Redefinition of color scheme for dark theme */\n",
       "    --sklearn-color-text-on-default-background: var(--sg-text-color, var(--theme-code-foreground, var(--jp-content-font-color1, white)));\n",
       "    --sklearn-color-background: var(--sg-background-color, var(--theme-background, var(--jp-layout-color0, #111)));\n",
       "    --sklearn-color-border-box: var(--sg-text-color, var(--theme-code-foreground, var(--jp-content-font-color1, white)));\n",
       "    --sklearn-color-icon: #878787;\n",
       "  }\n",
       "}\n",
       "\n",
       "#sk-container-id-1 {\n",
       "  color: var(--sklearn-color-text);\n",
       "}\n",
       "\n",
       "#sk-container-id-1 pre {\n",
       "  padding: 0;\n",
       "}\n",
       "\n",
       "#sk-container-id-1 input.sk-hidden--visually {\n",
       "  border: 0;\n",
       "  clip: rect(1px 1px 1px 1px);\n",
       "  clip: rect(1px, 1px, 1px, 1px);\n",
       "  height: 1px;\n",
       "  margin: -1px;\n",
       "  overflow: hidden;\n",
       "  padding: 0;\n",
       "  position: absolute;\n",
       "  width: 1px;\n",
       "}\n",
       "\n",
       "#sk-container-id-1 div.sk-dashed-wrapped {\n",
       "  border: 1px dashed var(--sklearn-color-line);\n",
       "  margin: 0 0.4em 0.5em 0.4em;\n",
       "  box-sizing: border-box;\n",
       "  padding-bottom: 0.4em;\n",
       "  background-color: var(--sklearn-color-background);\n",
       "}\n",
       "\n",
       "#sk-container-id-1 div.sk-container {\n",
       "  /* jupyter's `normalize.less` sets `[hidden] { display: none; }`\n",
       "     but bootstrap.min.css set `[hidden] { display: none !important; }`\n",
       "     so we also need the `!important` here to be able to override the\n",
       "     default hidden behavior on the sphinx rendered scikit-learn.org.\n",
       "     See: https://github.com/scikit-learn/scikit-learn/issues/21755 */\n",
       "  display: inline-block !important;\n",
       "  position: relative;\n",
       "}\n",
       "\n",
       "#sk-container-id-1 div.sk-text-repr-fallback {\n",
       "  display: none;\n",
       "}\n",
       "\n",
       "div.sk-parallel-item,\n",
       "div.sk-serial,\n",
       "div.sk-item {\n",
       "  /* draw centered vertical line to link estimators */\n",
       "  background-image: linear-gradient(var(--sklearn-color-text-on-default-background), var(--sklearn-color-text-on-default-background));\n",
       "  background-size: 2px 100%;\n",
       "  background-repeat: no-repeat;\n",
       "  background-position: center center;\n",
       "}\n",
       "\n",
       "/* Parallel-specific style estimator block */\n",
       "\n",
       "#sk-container-id-1 div.sk-parallel-item::after {\n",
       "  content: \"\";\n",
       "  width: 100%;\n",
       "  border-bottom: 2px solid var(--sklearn-color-text-on-default-background);\n",
       "  flex-grow: 1;\n",
       "}\n",
       "\n",
       "#sk-container-id-1 div.sk-parallel {\n",
       "  display: flex;\n",
       "  align-items: stretch;\n",
       "  justify-content: center;\n",
       "  background-color: var(--sklearn-color-background);\n",
       "  position: relative;\n",
       "}\n",
       "\n",
       "#sk-container-id-1 div.sk-parallel-item {\n",
       "  display: flex;\n",
       "  flex-direction: column;\n",
       "}\n",
       "\n",
       "#sk-container-id-1 div.sk-parallel-item:first-child::after {\n",
       "  align-self: flex-end;\n",
       "  width: 50%;\n",
       "}\n",
       "\n",
       "#sk-container-id-1 div.sk-parallel-item:last-child::after {\n",
       "  align-self: flex-start;\n",
       "  width: 50%;\n",
       "}\n",
       "\n",
       "#sk-container-id-1 div.sk-parallel-item:only-child::after {\n",
       "  width: 0;\n",
       "}\n",
       "\n",
       "/* Serial-specific style estimator block */\n",
       "\n",
       "#sk-container-id-1 div.sk-serial {\n",
       "  display: flex;\n",
       "  flex-direction: column;\n",
       "  align-items: center;\n",
       "  background-color: var(--sklearn-color-background);\n",
       "  padding-right: 1em;\n",
       "  padding-left: 1em;\n",
       "}\n",
       "\n",
       "\n",
       "/* Toggleable style: style used for estimator/Pipeline/ColumnTransformer box that is\n",
       "clickable and can be expanded/collapsed.\n",
       "- Pipeline and ColumnTransformer use this feature and define the default style\n",
       "- Estimators will overwrite some part of the style using the `sk-estimator` class\n",
       "*/\n",
       "\n",
       "/* Pipeline and ColumnTransformer style (default) */\n",
       "\n",
       "#sk-container-id-1 div.sk-toggleable {\n",
       "  /* Default theme specific background. It is overwritten whether we have a\n",
       "  specific estimator or a Pipeline/ColumnTransformer */\n",
       "  background-color: var(--sklearn-color-background);\n",
       "}\n",
       "\n",
       "/* Toggleable label */\n",
       "#sk-container-id-1 label.sk-toggleable__label {\n",
       "  cursor: pointer;\n",
       "  display: flex;\n",
       "  width: 100%;\n",
       "  margin-bottom: 0;\n",
       "  padding: 0.5em;\n",
       "  box-sizing: border-box;\n",
       "  text-align: center;\n",
       "  align-items: start;\n",
       "  justify-content: space-between;\n",
       "  gap: 0.5em;\n",
       "}\n",
       "\n",
       "#sk-container-id-1 label.sk-toggleable__label .caption {\n",
       "  font-size: 0.6rem;\n",
       "  font-weight: lighter;\n",
       "  color: var(--sklearn-color-text-muted);\n",
       "}\n",
       "\n",
       "#sk-container-id-1 label.sk-toggleable__label-arrow:before {\n",
       "  /* Arrow on the left of the label */\n",
       "  content: \"▸\";\n",
       "  float: left;\n",
       "  margin-right: 0.25em;\n",
       "  color: var(--sklearn-color-icon);\n",
       "}\n",
       "\n",
       "#sk-container-id-1 label.sk-toggleable__label-arrow:hover:before {\n",
       "  color: var(--sklearn-color-text);\n",
       "}\n",
       "\n",
       "/* Toggleable content - dropdown */\n",
       "\n",
       "#sk-container-id-1 div.sk-toggleable__content {\n",
       "  max-height: 0;\n",
       "  max-width: 0;\n",
       "  overflow: hidden;\n",
       "  text-align: left;\n",
       "  /* unfitted */\n",
       "  background-color: var(--sklearn-color-unfitted-level-0);\n",
       "}\n",
       "\n",
       "#sk-container-id-1 div.sk-toggleable__content.fitted {\n",
       "  /* fitted */\n",
       "  background-color: var(--sklearn-color-fitted-level-0);\n",
       "}\n",
       "\n",
       "#sk-container-id-1 div.sk-toggleable__content pre {\n",
       "  margin: 0.2em;\n",
       "  border-radius: 0.25em;\n",
       "  color: var(--sklearn-color-text);\n",
       "  /* unfitted */\n",
       "  background-color: var(--sklearn-color-unfitted-level-0);\n",
       "}\n",
       "\n",
       "#sk-container-id-1 div.sk-toggleable__content.fitted pre {\n",
       "  /* unfitted */\n",
       "  background-color: var(--sklearn-color-fitted-level-0);\n",
       "}\n",
       "\n",
       "#sk-container-id-1 input.sk-toggleable__control:checked~div.sk-toggleable__content {\n",
       "  /* Expand drop-down */\n",
       "  max-height: 200px;\n",
       "  max-width: 100%;\n",
       "  overflow: auto;\n",
       "}\n",
       "\n",
       "#sk-container-id-1 input.sk-toggleable__control:checked~label.sk-toggleable__label-arrow:before {\n",
       "  content: \"▾\";\n",
       "}\n",
       "\n",
       "/* Pipeline/ColumnTransformer-specific style */\n",
       "\n",
       "#sk-container-id-1 div.sk-label input.sk-toggleable__control:checked~label.sk-toggleable__label {\n",
       "  color: var(--sklearn-color-text);\n",
       "  background-color: var(--sklearn-color-unfitted-level-2);\n",
       "}\n",
       "\n",
       "#sk-container-id-1 div.sk-label.fitted input.sk-toggleable__control:checked~label.sk-toggleable__label {\n",
       "  background-color: var(--sklearn-color-fitted-level-2);\n",
       "}\n",
       "\n",
       "/* Estimator-specific style */\n",
       "\n",
       "/* Colorize estimator box */\n",
       "#sk-container-id-1 div.sk-estimator input.sk-toggleable__control:checked~label.sk-toggleable__label {\n",
       "  /* unfitted */\n",
       "  background-color: var(--sklearn-color-unfitted-level-2);\n",
       "}\n",
       "\n",
       "#sk-container-id-1 div.sk-estimator.fitted input.sk-toggleable__control:checked~label.sk-toggleable__label {\n",
       "  /* fitted */\n",
       "  background-color: var(--sklearn-color-fitted-level-2);\n",
       "}\n",
       "\n",
       "#sk-container-id-1 div.sk-label label.sk-toggleable__label,\n",
       "#sk-container-id-1 div.sk-label label {\n",
       "  /* The background is the default theme color */\n",
       "  color: var(--sklearn-color-text-on-default-background);\n",
       "}\n",
       "\n",
       "/* On hover, darken the color of the background */\n",
       "#sk-container-id-1 div.sk-label:hover label.sk-toggleable__label {\n",
       "  color: var(--sklearn-color-text);\n",
       "  background-color: var(--sklearn-color-unfitted-level-2);\n",
       "}\n",
       "\n",
       "/* Label box, darken color on hover, fitted */\n",
       "#sk-container-id-1 div.sk-label.fitted:hover label.sk-toggleable__label.fitted {\n",
       "  color: var(--sklearn-color-text);\n",
       "  background-color: var(--sklearn-color-fitted-level-2);\n",
       "}\n",
       "\n",
       "/* Estimator label */\n",
       "\n",
       "#sk-container-id-1 div.sk-label label {\n",
       "  font-family: monospace;\n",
       "  font-weight: bold;\n",
       "  display: inline-block;\n",
       "  line-height: 1.2em;\n",
       "}\n",
       "\n",
       "#sk-container-id-1 div.sk-label-container {\n",
       "  text-align: center;\n",
       "}\n",
       "\n",
       "/* Estimator-specific */\n",
       "#sk-container-id-1 div.sk-estimator {\n",
       "  font-family: monospace;\n",
       "  border: 1px dotted var(--sklearn-color-border-box);\n",
       "  border-radius: 0.25em;\n",
       "  box-sizing: border-box;\n",
       "  margin-bottom: 0.5em;\n",
       "  /* unfitted */\n",
       "  background-color: var(--sklearn-color-unfitted-level-0);\n",
       "}\n",
       "\n",
       "#sk-container-id-1 div.sk-estimator.fitted {\n",
       "  /* fitted */\n",
       "  background-color: var(--sklearn-color-fitted-level-0);\n",
       "}\n",
       "\n",
       "/* on hover */\n",
       "#sk-container-id-1 div.sk-estimator:hover {\n",
       "  /* unfitted */\n",
       "  background-color: var(--sklearn-color-unfitted-level-2);\n",
       "}\n",
       "\n",
       "#sk-container-id-1 div.sk-estimator.fitted:hover {\n",
       "  /* fitted */\n",
       "  background-color: var(--sklearn-color-fitted-level-2);\n",
       "}\n",
       "\n",
       "/* Specification for estimator info (e.g. \"i\" and \"?\") */\n",
       "\n",
       "/* Common style for \"i\" and \"?\" */\n",
       "\n",
       ".sk-estimator-doc-link,\n",
       "a:link.sk-estimator-doc-link,\n",
       "a:visited.sk-estimator-doc-link {\n",
       "  float: right;\n",
       "  font-size: smaller;\n",
       "  line-height: 1em;\n",
       "  font-family: monospace;\n",
       "  background-color: var(--sklearn-color-background);\n",
       "  border-radius: 1em;\n",
       "  height: 1em;\n",
       "  width: 1em;\n",
       "  text-decoration: none !important;\n",
       "  margin-left: 0.5em;\n",
       "  text-align: center;\n",
       "  /* unfitted */\n",
       "  border: var(--sklearn-color-unfitted-level-1) 1pt solid;\n",
       "  color: var(--sklearn-color-unfitted-level-1);\n",
       "}\n",
       "\n",
       ".sk-estimator-doc-link.fitted,\n",
       "a:link.sk-estimator-doc-link.fitted,\n",
       "a:visited.sk-estimator-doc-link.fitted {\n",
       "  /* fitted */\n",
       "  border: var(--sklearn-color-fitted-level-1) 1pt solid;\n",
       "  color: var(--sklearn-color-fitted-level-1);\n",
       "}\n",
       "\n",
       "/* On hover */\n",
       "div.sk-estimator:hover .sk-estimator-doc-link:hover,\n",
       ".sk-estimator-doc-link:hover,\n",
       "div.sk-label-container:hover .sk-estimator-doc-link:hover,\n",
       ".sk-estimator-doc-link:hover {\n",
       "  /* unfitted */\n",
       "  background-color: var(--sklearn-color-unfitted-level-3);\n",
       "  color: var(--sklearn-color-background);\n",
       "  text-decoration: none;\n",
       "}\n",
       "\n",
       "div.sk-estimator.fitted:hover .sk-estimator-doc-link.fitted:hover,\n",
       ".sk-estimator-doc-link.fitted:hover,\n",
       "div.sk-label-container:hover .sk-estimator-doc-link.fitted:hover,\n",
       ".sk-estimator-doc-link.fitted:hover {\n",
       "  /* fitted */\n",
       "  background-color: var(--sklearn-color-fitted-level-3);\n",
       "  color: var(--sklearn-color-background);\n",
       "  text-decoration: none;\n",
       "}\n",
       "\n",
       "/* Span, style for the box shown on hovering the info icon */\n",
       ".sk-estimator-doc-link span {\n",
       "  display: none;\n",
       "  z-index: 9999;\n",
       "  position: relative;\n",
       "  font-weight: normal;\n",
       "  right: .2ex;\n",
       "  padding: .5ex;\n",
       "  margin: .5ex;\n",
       "  width: min-content;\n",
       "  min-width: 20ex;\n",
       "  max-width: 50ex;\n",
       "  color: var(--sklearn-color-text);\n",
       "  box-shadow: 2pt 2pt 4pt #999;\n",
       "  /* unfitted */\n",
       "  background: var(--sklearn-color-unfitted-level-0);\n",
       "  border: .5pt solid var(--sklearn-color-unfitted-level-3);\n",
       "}\n",
       "\n",
       ".sk-estimator-doc-link.fitted span {\n",
       "  /* fitted */\n",
       "  background: var(--sklearn-color-fitted-level-0);\n",
       "  border: var(--sklearn-color-fitted-level-3);\n",
       "}\n",
       "\n",
       ".sk-estimator-doc-link:hover span {\n",
       "  display: block;\n",
       "}\n",
       "\n",
       "/* \"?\"-specific style due to the `<a>` HTML tag */\n",
       "\n",
       "#sk-container-id-1 a.estimator_doc_link {\n",
       "  float: right;\n",
       "  font-size: 1rem;\n",
       "  line-height: 1em;\n",
       "  font-family: monospace;\n",
       "  background-color: var(--sklearn-color-background);\n",
       "  border-radius: 1rem;\n",
       "  height: 1rem;\n",
       "  width: 1rem;\n",
       "  text-decoration: none;\n",
       "  /* unfitted */\n",
       "  color: var(--sklearn-color-unfitted-level-1);\n",
       "  border: var(--sklearn-color-unfitted-level-1) 1pt solid;\n",
       "}\n",
       "\n",
       "#sk-container-id-1 a.estimator_doc_link.fitted {\n",
       "  /* fitted */\n",
       "  border: var(--sklearn-color-fitted-level-1) 1pt solid;\n",
       "  color: var(--sklearn-color-fitted-level-1);\n",
       "}\n",
       "\n",
       "/* On hover */\n",
       "#sk-container-id-1 a.estimator_doc_link:hover {\n",
       "  /* unfitted */\n",
       "  background-color: var(--sklearn-color-unfitted-level-3);\n",
       "  color: var(--sklearn-color-background);\n",
       "  text-decoration: none;\n",
       "}\n",
       "\n",
       "#sk-container-id-1 a.estimator_doc_link.fitted:hover {\n",
       "  /* fitted */\n",
       "  background-color: var(--sklearn-color-fitted-level-3);\n",
       "}\n",
       "</style><div id=\"sk-container-id-1\" class=\"sk-top-container\"><div class=\"sk-text-repr-fallback\"><pre>LogisticRegression(max_iter=1000, random_state=42, solver=&#x27;sag&#x27;)</pre><b>In a Jupyter environment, please rerun this cell to show the HTML representation or trust the notebook. <br />On GitHub, the HTML representation is unable to render, please try loading this page with nbviewer.org.</b></div><div class=\"sk-container\" hidden><div class=\"sk-item\"><div class=\"sk-estimator fitted sk-toggleable\"><input class=\"sk-toggleable__control sk-hidden--visually\" id=\"sk-estimator-id-1\" type=\"checkbox\" checked><label for=\"sk-estimator-id-1\" class=\"sk-toggleable__label fitted sk-toggleable__label-arrow\"><div><div>LogisticRegression</div></div><div><a class=\"sk-estimator-doc-link fitted\" rel=\"noreferrer\" target=\"_blank\" href=\"https://scikit-learn.org/1.6/modules/generated/sklearn.linear_model.LogisticRegression.html\">?<span>Documentation for LogisticRegression</span></a><span class=\"sk-estimator-doc-link fitted\">i<span>Fitted</span></span></div></label><div class=\"sk-toggleable__content fitted\"><pre>LogisticRegression(max_iter=1000, random_state=42, solver=&#x27;sag&#x27;)</pre></div> </div></div></div></div>"
      ],
      "text/plain": [
       "LogisticRegression(max_iter=1000, random_state=42, solver='sag')"
      ]
     },
     "execution_count": 280,
     "metadata": {},
     "output_type": "execute_result"
    }
   ],
   "source": [
    "#Создаем объект класса логистическая регрессия\n",
    "log_reg = linear_model.LogisticRegression(\n",
    "    solver='sag', #алгоритм оптимизации\n",
    "    random_state=42, #генератор случайных чисел\n",
    "    max_iter=1000 #количество итераций на сходимость\n",
    ")\n",
    "#Обучаем модель, минимизируя logloss\n",
    "log_reg.fit(X_train_scaled, y_train)"
   ]
  },
  {
   "cell_type": "code",
   "execution_count": 281,
   "metadata": {},
   "outputs": [
    {
     "name": "stdout",
     "output_type": "stream",
     "text": [
      "              precision    recall  f1-score   support\n",
      "\n",
      "           0       0.94      1.00      0.97    404514\n",
      "           1       0.46      0.02      0.05     26574\n",
      "\n",
      "    accuracy                           0.94    431088\n",
      "   macro avg       0.70      0.51      0.51    431088\n",
      "weighted avg       0.91      0.94      0.91    431088\n",
      "\n",
      "              precision    recall  f1-score   support\n",
      "\n",
      "           0       0.94      1.00      0.97    101128\n",
      "           1       0.46      0.03      0.05      6644\n",
      "\n",
      "    accuracy                           0.94    107772\n",
      "   macro avg       0.70      0.51      0.51    107772\n",
      "weighted avg       0.91      0.94      0.91    107772\n",
      "\n"
     ]
    }
   ],
   "source": [
    "y_train_pred = log_reg.predict(X_train_scaled)\n",
    "#Делаем предсказание для тестовой выборки\n",
    "y_test_pred = log_reg.predict(X_test_scaled)\n",
    "#Вывод отчет о метриках классификации\n",
    "print(metrics.classification_report(y_train, y_train_pred))\n",
    "print(metrics.classification_report(y_test, y_test_pred))"
   ]
  },
  {
   "cell_type": "markdown",
   "metadata": {},
   "source": [
    "В качестве метрики выберем f1 -score. Логистическая регрессия показала очень низкий результат"
   ]
  },
  {
   "cell_type": "markdown",
   "metadata": {},
   "source": [
    "## Modelling"
   ]
  },
  {
   "cell_type": "code",
   "execution_count": 282,
   "metadata": {},
   "outputs": [
    {
     "name": "stdout",
     "output_type": "stream",
     "text": [
      "              precision    recall  f1-score   support\n",
      "\n",
      "           0       0.94      1.00      0.97    101128\n",
      "           1       0.52      0.03      0.06      6644\n",
      "\n",
      "    accuracy                           0.94    107772\n",
      "   macro avg       0.73      0.52      0.52    107772\n",
      "weighted avg       0.91      0.94      0.91    107772\n",
      "\n"
     ]
    }
   ],
   "source": [
    "from sklearn import tree #деревья решений\n",
    "from sklearn import metrics #метрики\n",
    "model = tree.DecisionTreeClassifier(\n",
    "    criterion='entropy', #критерий информативности\n",
    "    max_depth=7, #максимальная глубина\n",
    "    min_samples_leaf=3, #минимальное число объектов в листе\n",
    "    random_state=42, #генератор случайных чисел\n",
    ")\n",
    "#Обучаем модель на тренировочной выборке\n",
    "model.fit(X_train_scaled, y_train)\n",
    "#Делаем предсказание для каждой из выборок\n",
    "y_train_pred = model.predict(X_train_scaled)\n",
    "y_valid_pred = model.predict(X_test_scaled)\n",
    "#Выводим значения метрик\n",
    "print(metrics.classification_report(y_test, y_valid_pred)) "
   ]
  },
  {
   "cell_type": "markdown",
   "metadata": {},
   "source": [
    "Добавим параметр class_weight, который придает веса классам при дисбалансе"
   ]
  },
  {
   "cell_type": "code",
   "execution_count": 285,
   "metadata": {},
   "outputs": [
    {
     "name": "stdout",
     "output_type": "stream",
     "text": [
      "              precision    recall  f1-score   support\n",
      "\n",
      "           0       0.97      0.80      0.88    404514\n",
      "           1       0.17      0.63      0.27     26574\n",
      "\n",
      "    accuracy                           0.79    431088\n",
      "   macro avg       0.57      0.72      0.58    431088\n",
      "weighted avg       0.92      0.79      0.84    431088\n",
      "\n",
      "              precision    recall  f1-score   support\n",
      "\n",
      "           0       0.97      0.80      0.88    101128\n",
      "           1       0.17      0.62      0.27      6644\n",
      "\n",
      "    accuracy                           0.79    107772\n",
      "   macro avg       0.57      0.71      0.57    107772\n",
      "weighted avg       0.92      0.79      0.84    107772\n",
      "\n"
     ]
    }
   ],
   "source": [
    "#Создаём модель\n",
    "model = tree.DecisionTreeClassifier(\n",
    "    criterion='entropy', #критерий информативности\n",
    "    max_depth=7, #максимальная глубина\n",
    "    min_samples_leaf=3, #минимальное число объектов в листе\n",
    "    random_state=42, #генератор случайных чисел\n",
    "    class_weight='balanced' #веса классов\n",
    ")\n",
    "#Обучаем модель на тренировочной выборке\n",
    "model.fit(X_train_scaled, y_train)\n",
    "#Делаем предсказание для каждой из выборок\n",
    "y_train_pred = model.predict(X_train_scaled)\n",
    "y_valid_pred = model.predict(X_test_scaled)\n",
    "#Выводим значения метрик\n",
    "print(metrics.classification_report(y_train, y_train_pred))\n",
    "print(metrics.classification_report(y_test, y_valid_pred))"
   ]
  },
  {
   "cell_type": "markdown",
   "metadata": {},
   "source": [
    "Переобучения нет, результат удалось значительно улучшить, но он еще очень низкий."
   ]
  },
  {
   "cell_type": "markdown",
   "metadata": {},
   "source": [
    "Попробуем решить задачу с помощью сэмплирования"
   ]
  },
  {
   "cell_type": "code",
   "execution_count": 286,
   "metadata": {},
   "outputs": [],
   "source": [
    "from imblearn.over_sampling import SMOTE"
   ]
  },
  {
   "cell_type": "code",
   "execution_count": 287,
   "metadata": {},
   "outputs": [
    {
     "name": "stdout",
     "output_type": "stream",
     "text": [
      "Train shape before oversampling: (431088, 5)\n",
      "Class balance before oversampling: \n",
      "has_state_support\n",
      "0    404514\n",
      "1     26574\n",
      "Name: count, dtype: int64\n",
      "----------------------------------------\n",
      "Train shape after oversampling: (809028, 5)\n",
      "Class balance after oversampling: \n",
      "has_state_support\n",
      "0    404514\n",
      "1    404514\n",
      "Name: count, dtype: int64\n"
     ]
    }
   ],
   "source": [
    "sm = SMOTE(random_state=2)\n",
    "X_train_s, y_train_s = sm.fit_resample(X_train_scaled, y_train)\n",
    "\n",
    "print('Train shape before oversampling:', X_train_scaled.shape) \n",
    "print('Class balance before oversampling: \\n', y_train.value_counts(), sep='')\n",
    "print('-'*40)\n",
    "print('Train shape after oversampling:', X_train_s.shape)\n",
    "print('Class balance after oversampling: \\n', y_train_s.value_counts(), sep='')"
   ]
  },
  {
   "cell_type": "code",
   "execution_count": 288,
   "metadata": {},
   "outputs": [
    {
     "name": "stdout",
     "output_type": "stream",
     "text": [
      "              precision    recall  f1-score   support\n",
      "\n",
      "           0       0.97      0.80      0.88    101128\n",
      "           1       0.17      0.62      0.27      6644\n",
      "\n",
      "    accuracy                           0.79    107772\n",
      "   macro avg       0.57      0.71      0.57    107772\n",
      "weighted avg       0.92      0.79      0.84    107772\n",
      "\n"
     ]
    }
   ],
   "source": [
    "#Создаём модель\n",
    "model = tree.DecisionTreeClassifier(\n",
    "    criterion='entropy', #критерий информативности\n",
    "    max_depth=7, #максимальная глубина\n",
    "    min_samples_leaf=5, #минимальное число объектов в листе\n",
    "    random_state=42, #генератор случайных чисел\n",
    ")\n",
    "#Обучаем модель на тренировочной выборке (с сэмплированием)\n",
    "model.fit(X_train_s, y_train_s)\n",
    "#Делаем предсказание для каждой из выборок\n",
    "y_train_pred = model.predict(X_train_scaled)\n",
    "y_valid_pred = model.predict(X_test_scaled)\n",
    "#Выводим значения метрик    \n",
    "print(metrics.classification_report(y_test, y_valid_pred))"
   ]
  },
  {
   "cell_type": "markdown",
   "metadata": {},
   "source": [
    "Результат не поменялся."
   ]
  },
  {
   "cell_type": "code",
   "execution_count": 289,
   "metadata": {},
   "outputs": [
    {
     "data": {
      "text/plain": [
       "array([[0.96724596, 0.03275404],\n",
       "       [0.94766383, 0.05233617],\n",
       "       [0.94766383, 0.05233617],\n",
       "       ...,\n",
       "       [0.66399906, 0.33600094],\n",
       "       [0.97325701, 0.02674299],\n",
       "       [0.9590535 , 0.0409465 ]])"
      ]
     },
     "metadata": {},
     "output_type": "display_data"
    }
   ],
   "source": [
    "#Создаём модель\n",
    "model = tree.DecisionTreeClassifier(\n",
    "    criterion='entropy', #критерий информативности\n",
    "    max_depth=7, #максимальная глубина\n",
    "    min_samples_leaf=5, #минимальное число объектов в листе\n",
    "    random_state=42, #генератор случайных чисел,\n",
    "    )\n",
    "#Обучаем модель\n",
    "model.fit(X_train_scaled, y_train)\n",
    "#Создаём кросс-валидатор k-fold со стратификацией\n",
    "skf = model_selection.StratifiedKFold(n_splits=5)\n",
    "#Делаем предсказание вероятностей на кросс-валидации\n",
    "y_cv_proba_pred = model_selection.cross_val_predict(model, X_train_scaled, y_train, cv=skf, method='predict_proba')\n",
    "\n",
    "display(y_cv_proba_pred)"
   ]
  },
  {
   "cell_type": "code",
   "execution_count": 290,
   "metadata": {},
   "outputs": [],
   "source": [
    "#Выделяем столбец с вероятностями для класса 1 \n",
    "y_cv_proba_pred = y_cv_proba_pred[:, 1]"
   ]
  },
  {
   "cell_type": "code",
   "execution_count": 291,
   "metadata": {},
   "outputs": [
    {
     "name": "stdout",
     "output_type": "stream",
     "text": [
      "Thresholds: [0.         0.0005787  0.00059277 0.00068353 0.00103591]\n",
      "Precision scores: [0.06164403 0.06202544 0.06208112 0.06214286 0.06224378]\n",
      "Recall scores: [1.         0.99936028 0.99936028 0.99936028 0.99928502]\n"
     ]
    }
   ],
   "source": [
    "#Вычисляем координаты PR-кривой\n",
    "precision, recall, thresholds = metrics.precision_recall_curve(y_train, y_cv_proba_pred)\n",
    "\n",
    "print('Thresholds:', thresholds[:5])\n",
    "print('Precision scores:', precision[:5])\n",
    "print('Recall scores:',recall[:5])"
   ]
  },
  {
   "cell_type": "code",
   "execution_count": 292,
   "metadata": {},
   "outputs": [
    {
     "name": "stdout",
     "output_type": "stream",
     "text": [
      "Best threshold = 0.17, F1-Score = 0.33\n"
     ]
    },
    {
     "data": {
      "image/png": "[encoded data removed]",
      "text/plain": [
       "<Figure size 1000x500 with 1 Axes>"
      ]
     },
     "metadata": {},
     "output_type": "display_data"
    }
   ],
   "source": [
    "#Вычисляем F1-меру при различных threshold\n",
    "f1_scores = (2 * precision * recall) / (precision + recall)\n",
    "#Определяем индекс максимума\n",
    "idx = np.argmax(f1_scores)\n",
    "print('Best threshold = {:.2f}, F1-Score = {:.2f}'.format(thresholds[idx], f1_scores[idx]))\n",
    "\n",
    "#Строим PR-кривую\n",
    "fig, ax = plt.subplots(figsize=(10, 5)) #фигура + координатная плоскость\n",
    "#Строим линейный график зависимости precision от recall\n",
    "ax.plot(recall, precision, label='Decision Tree PR')\n",
    "#Отмечаем точку максимума F1\n",
    "ax.scatter(recall[idx], precision[idx], marker='o', color='black', label='Best F1 score')\n",
    "#Даем графику название и подписи осям\n",
    "ax.set_title('Precision-recall curve')\n",
    "ax.set_xlabel('Recall')\n",
    "ax.set_ylabel('Precision')\n",
    "#Отображаем легенду\n",
    "ax.legend();"
   ]
  },
  {
   "cell_type": "code",
   "execution_count": 295,
   "metadata": {},
   "outputs": [
    {
     "name": "stdout",
     "output_type": "stream",
     "text": [
      "              precision    recall  f1-score   support\n",
      "\n",
      "           0       0.96      0.95      0.95    101128\n",
      "           1       0.31      0.34      0.32      6644\n",
      "\n",
      "    accuracy                           0.91    107772\n",
      "   macro avg       0.63      0.65      0.64    107772\n",
      "weighted avg       0.92      0.91      0.91    107772\n",
      "\n"
     ]
    }
   ],
   "source": [
    "#Задаём оптимальный порог вероятностей\n",
    "threshold_opt = 0.17\n",
    "#НКО, для которых вероятность получить грант/контракт от государства > threshold_opt, относим к классу 1\n",
    "#В противном случае — к классу 0\n",
    "y_valid_pred_proba = model.predict_proba(X_test_scaled)[:, 1]\n",
    "y_valid_pred = (y_valid_pred_proba > threshold_opt).astype('int')\n",
    "#Считаем метрики\n",
    "print(metrics.classification_report(y_test, y_valid_pred))"
   ]
  },
  {
   "cell_type": "markdown",
   "metadata": {},
   "source": [
    "С подбором порога вероятности результат стал немного лучше, но всё еще низкий"
   ]
  },
  {
   "cell_type": "code",
   "execution_count": 296,
   "metadata": {},
   "outputs": [
    {
     "name": "stdout",
     "output_type": "stream",
     "text": [
      "PR AUC: 0.25\n"
     ]
    }
   ],
   "source": [
    "print('PR AUC: {:.2f}'.format(metrics.auc(recall, precision)))"
   ]
  },
  {
   "cell_type": "code",
   "execution_count": 315,
   "metadata": {},
   "outputs": [
    {
     "data": {
      "text/plain": [
       "array([[9.99412619e-01, 5.87381358e-04],\n",
       "       [9.71755772e-01, 2.82442279e-02],\n",
       "       [9.18867866e-01, 8.11321340e-02],\n",
       "       ...,\n",
       "       [7.92525466e-01, 2.07474534e-01],\n",
       "       [9.24434509e-01, 7.55654907e-02],\n",
       "       [9.57691355e-01, 4.23086451e-02]])"
      ]
     },
     "metadata": {},
     "output_type": "display_data"
    }
   ],
   "source": [
    "#Создаем объект класса случайный лес\n",
    "model = ensemble.RandomForestClassifier(\n",
    "    n_estimators=80,\n",
    "    max_depth=20,\n",
    "    criterion='gini',\n",
    "    min_samples_leaf=5,\n",
    "    random_state=42\n",
    ")\n",
    "model.fit(X_train_scaled, y_train)\n",
    "#Создаём кросс-валидатор k-fold со стратификацией\n",
    "skf = model_selection.StratifiedKFold(n_splits=5)\n",
    "#Делаем предсказание вероятностей на кросс-валидации\n",
    "y_cv_proba_pred = model_selection.cross_val_predict(model, X_train_scaled, y_train, cv=skf, method='predict_proba')\n",
    "\n",
    "display(y_cv_proba_pred)"
   ]
  },
  {
   "cell_type": "code",
   "execution_count": 324,
   "metadata": {},
   "outputs": [],
   "source": [
    "rf = pickle.dumps(model)"
   ]
  },
  {
   "cell_type": "code",
   "execution_count": 316,
   "metadata": {},
   "outputs": [],
   "source": [
    "#Выделяем столбец с вероятностями для класса 1 \n",
    "y_cv_proba_pred = y_cv_proba_pred[:, 1]"
   ]
  },
  {
   "cell_type": "code",
   "execution_count": 317,
   "metadata": {},
   "outputs": [
    {
     "name": "stdout",
     "output_type": "stream",
     "text": [
      "Thresholds: [0.00000000e+00 1.41322781e-05 1.99680511e-05 2.58196709e-05\n",
      " 3.24675325e-05]\n",
      "Precision scores: [0.06164403 0.06184076 0.06184091 0.06185012 0.06188426]\n",
      "Recall scores: [1.         0.99943554 0.99943554 0.99943554 0.99939791]\n"
     ]
    }
   ],
   "source": [
    "#Вычисляем координаты PR-кривой\n",
    "precision, recall, thresholds = metrics.precision_recall_curve(y_train, y_cv_proba_pred)\n",
    "\n",
    "print('Thresholds:', thresholds[:5])\n",
    "print('Precision scores:', precision[:5])\n",
    "print('Recall scores:',recall[:5])"
   ]
  },
  {
   "cell_type": "code",
   "execution_count": 318,
   "metadata": {},
   "outputs": [
    {
     "name": "stdout",
     "output_type": "stream",
     "text": [
      "Best threshold = 0.19, F1-Score = 0.36\n"
     ]
    },
    {
     "data": {
      "image/png": "[encoded data removed]",
      "text/plain": [
       "<Figure size 1000x500 with 1 Axes>"
      ]
     },
     "metadata": {},
     "output_type": "display_data"
    }
   ],
   "source": [
    "#Вычисляем F1-меру при различных threshold\n",
    "f1_scores = (2 * precision * recall) / (precision + recall)\n",
    "#Определяем индекс максимума\n",
    "idx = np.argmax(f1_scores)\n",
    "print('Best threshold = {:.2f}, F1-Score = {:.2f}'.format(thresholds[idx], f1_scores[idx]))\n",
    "\n",
    "#Строим PR-кривую\n",
    "fig, ax = plt.subplots(figsize=(10, 5)) #фигура + координатная плоскость\n",
    "#Строим линейный график зависимости precision от recall\n",
    "ax.plot(recall, precision, label='Decision Tree PR')\n",
    "#Отмечаем точку максимума F1\n",
    "ax.scatter(recall[idx], precision[idx], marker='o', color='black', label='Best F1 score')\n",
    "#Даем графику название и подписи осям\n",
    "ax.set_title('Precision-recall curve')\n",
    "ax.set_xlabel('Recall')\n",
    "ax.set_ylabel('Precision')\n",
    "#Отображаем легенду\n",
    "ax.legend();"
   ]
  },
  {
   "cell_type": "code",
   "execution_count": 320,
   "metadata": {},
   "outputs": [
    {
     "name": "stdout",
     "output_type": "stream",
     "text": [
      "              precision    recall  f1-score   support\n",
      "\n",
      "           0       0.96      0.95      0.95    101128\n",
      "           1       0.33      0.39      0.36      6644\n",
      "\n",
      "    accuracy                           0.91    107772\n",
      "   macro avg       0.64      0.67      0.66    107772\n",
      "weighted avg       0.92      0.91      0.92    107772\n",
      "\n"
     ]
    }
   ],
   "source": [
    "#Задаём оптимальный порог вероятностей\n",
    "threshold_opt = 0.19\n",
    "#НКО, для которых вероятность получить грант/контракт от государства > threshold_opt, относим к классу 1\n",
    "#В противном случае — к классу 0\n",
    "y_valid_pred_proba = model.predict_proba(X_test_scaled)[:, 1]\n",
    "y_valid_pred = (y_valid_pred_proba > threshold_opt).astype('int')\n",
    "#Считаем метрики\n",
    "print(metrics.classification_report(y_test, y_valid_pred))"
   ]
  },
  {
   "cell_type": "code",
   "execution_count": 314,
   "metadata": {},
   "outputs": [
    {
     "name": "stdout",
     "output_type": "stream",
     "text": [
      "CPU times: total: 31.4 s\n",
      "Wall time: 24min 15s\n",
      "f1_score на обучающем наборе: 0.15\n",
      "accuracy на тестовом наборе: 0.94\n",
      "f1_score на тестовом наборе: 0.12\n",
      "Наилучшие значения гиперпараметров: {'max_depth': 20, 'min_samples_leaf': 5, 'n_estimators': 80}\n"
     ]
    }
   ],
   "source": [
    "param_grid = {'n_estimators': list(range(80, 200, 30)),\n",
    "              'min_samples_leaf': [5],\n",
    "              'max_depth': list(np.linspace(20, 40, 5, dtype=int))\n",
    "              }\n",
    "            \n",
    "grid_search_forest = GridSearchCV(\n",
    "    estimator=ensemble.RandomForestClassifier(random_state=42), \n",
    "    param_grid=param_grid, \n",
    "    cv=5, \n",
    "    n_jobs = -1\n",
    ")  \n",
    "%time grid_search_forest.fit(X_train_scaled, y_train) \n",
    "y_train_pred = grid_search_forest.predict(X_train_scaled)\n",
    "print('f1_score на обучающем наборе: {:.2f}'.format(metrics.f1_score(y_train, y_train_pred)))\n",
    "print(\"accuracy на тестовом наборе: {:.2f}\".format(grid_search_forest.score(X_test_scaled, y_test)))\n",
    "y_test_pred = grid_search_forest.predict(X_test_scaled)\n",
    "print('f1_score на тестовом наборе: {:.2f}'.format(metrics.f1_score(y_test, y_test_pred)))\n",
    "print(\"Наилучшие значения гиперпараметров: {}\".format(grid_search_forest.best_params_))"
   ]
  },
  {
   "cell_type": "markdown",
   "metadata": {},
   "source": [
    "Начало сборки пайплайна."
   ]
  },
  {
   "cell_type": "code",
   "execution_count": 327,
   "metadata": {},
   "outputs": [],
   "source": [
    "pipe = Pipeline([  \n",
    "  ('Scaling', scaler),\n",
    "  ('Classifier', model),\n",
    "  ('Stratifier', skf),\n",
    "  ])"
   ]
  },
  {
   "cell_type": "markdown",
   "metadata": {},
   "source": [
    "Подставим наилучшие значения гиперпараметров в модель выше."
   ]
  },
  {
   "cell_type": "markdown",
   "metadata": {},
   "source": [
    "Лучше всего себя показала модель RandomForestClassifier с кросс-валидатором k-fold со стратификацией и подбором порога вероятности, наилучшей результат метрики f1-score - 0.36."
   ]
  },
  {
   "cell_type": "markdown",
   "metadata": {},
   "source": [
    "### Выводы:\n",
    "1. Статистические тесты показали, что между вероятность получения НКО господдержки зависит от региона, возраста и экономической деятельности организации. Но:\n",
    "2. Три данных признака не являются достаточными для точного предсказания вероятности получения господдержки.\n"
   ]
  }
 ],
 "metadata": {
  "kernelspec": {
   "display_name": "Python 3",
   "language": "python",
   "name": "python3"
  },
  "language_info": {
   "codemirror_mode": {
    "name": "ipython",
    "version": 3
   },
   "file_extension": ".py",
   "mimetype": "text/x-python",
   "name": "python",
   "nbconvert_exporter": "python",
   "pygments_lexer": "ipython3",
   "version": "3.12.8"
  }
 },
 "nbformat": 4,
 "nbformat_minor": 2
}
